{
 "cells": [
  {
   "cell_type": "code",
   "execution_count": 1,
   "metadata": {},
   "outputs": [
    {
     "data": {
      "image/png": "[encoded data removed]",
      "text/plain": [
       "<Figure size 640x480 with 1 Axes>"
      ]
     },
     "metadata": {},
     "output_type": "display_data"
    }
   ],
   "source": [
    "import numpy as np\n",
    "import matplotlib.pyplot as plt\n",
    "from scipy.stats import skew, kurtosis, jarque_bera\n",
    "from scipy.stats import norm, chi2\n",
    "\n",
    "# generate data from a normal distribution for skewness\n",
    "N = 10000 # number of samples\n",
    "n = 200   # number of size\n",
    "x = np.random.normal(0, 1, (N, n))  # 生成 N rows n columns 的数据\n",
    "\n",
    "G1 = np.sqrt(n / 6) * skew(x, axis = 1, bias = True) # compute skewness for each row\n",
    "G2 = np.sqrt(n / 24) * (kurtosis(x, axis = 1, bias = True, fisher = True))\n",
    "# s = skew(x, bias = True)\n",
    "# k = kurtosis(x, bias = True, fisher = True)\n",
    "# G3 = (n / 6) * ((s ** 2) + ((k ** 2) / 4))\n",
    "G3 = G1**2 + G2**2\n",
    "\n",
    "plt.hist(G3, bins = 100, density = True)\n",
    "x = np.linspace(0, 10, 100)\n",
    "plt.plot(x, chi2.pdf(x, 2), 'r-', lw = 2)\n",
    "plt.show()"
   ]
  },
  {
   "cell_type": "code",
   "execution_count": 11,
   "metadata": {},
   "outputs": [],
   "source": [
    "import numpy as np\n",
    "import matplotlib.pyplot as plt\n",
    "from scipy.stats import skew, kurtosis, jarque_bera\n",
    "from scipy.stats import norm, chi2, uniform, t\n",
    "\n",
    "# generate data from a normal distribution for skewness\n",
    "N = 10000 # number of samples\n",
    "n = 200   # number of size\n",
    "x = np.random.normal(0, 1, (N, n))  # 生成 N rows n columns 的数据\n",
    "\n",
    "G1 = np.sqrt(n / 6) * skew(x, axis = 1, bias = True) # compute skewness for each row\n",
    "G2 = np.sqrt(n / 24) * (kurtosis(x, axis = 1, bias = True, fisher = True))\n",
    "G3 = G1**2 + G2**2\n",
    "stats = G3\n",
    "p_val = 1 - chi2.cdf(G3, df = 2)"
   ]
  },
  {
   "cell_type": "code",
   "execution_count": null,
   "metadata": {},
   "outputs": [],
   "source": [
    "# define a function to compute the G3 statistic, return the statistic and p-value\n",
    "def G3_stat(X):\n",
    "    \"\"\"\n",
    "    Input:\n",
    "        X: A numpy array of shape (N, n) where N is the number of samples and n is the size of each sample\n",
    "    Output:\n",
    "        G3: A numpy array of shape (N,) that contains the G3 statistic for each sample\n",
    "        p_val: A numpy array of shape (N,) that contains the p-value for each sample\n",
    "    \"\"\"\n",
    "    n = X.shape[1]\n",
    "    G1 = np.sqrt(n / 6) * skew(X, axis = 1, bias = True) # compute skewness for each row\n",
    "    G2 = np.sqrt(n / 24) * (kurtosis(X, axis = 1, bias = True, fisher = True))\n",
    "    G3 = G1 ** 2 + G2 ** 2\n",
    "    p_val = 1 - chi2.cdf(G3, df = 2)  # chi2.cdf 是指從 0 到 G3 的面積，1 - chi2.cdf 是指從 G3 到無限大的面積\n",
    "    return G3, p_val\n",
    "\n",
    "distributions = {\n",
    "    'StandNorm': lambda size: norm.rvs(loc = 0, scale = 1, size = size),\n",
    "    'T(3)': lambda size: t.rvs(df = 3, size = size),\n",
    "    'T(10)': lambda size: t.rvs(df = 10, size = size),\n",
    "    'T(30)': lambda size: t.rvs(df = 30, size = size),\n",
    "    'Unif(0, 1)': lambda size: uniform.rvs(loc = 0, scale = 1, size = size),\n",
    "    'Chisq(8)': lambda size: chi2.rvs(df = 8, size = size)\n",
    "}\n",
    "# # 選擇分佈\n",
    "# distribution_name = 'StandNorm'  # 可以更改為 'T(3)', 'T(10)', 'T(30)', 'Unif(0, 1)', 'Chisq(8)'\n",
    "# N = 10  # number of samples\n",
    "# n_values = [10, 20, 30, 50, 100, 300, 500, 1000]  # sample sizes\n",
    "# # 生成數據\n",
    "# x = distributions[distribution_name]((N, n))"
   ]
  }
 ],
 "metadata": {
  "kernelspec": {
   "display_name": "Python 3",
   "language": "python",
   "name": "python3"
  },
  "language_info": {
   "codemirror_mode": {
    "name": "ipython",
    "version": 3
   },
   "file_extension": ".py",
   "mimetype": "text/x-python",
   "name": "python",
   "nbconvert_exporter": "python",
   "pygments_lexer": "ipython3",
   "version": "3.11.3"
  }
 },
 "nbformat": 4,
 "nbformat_minor": 2
}
