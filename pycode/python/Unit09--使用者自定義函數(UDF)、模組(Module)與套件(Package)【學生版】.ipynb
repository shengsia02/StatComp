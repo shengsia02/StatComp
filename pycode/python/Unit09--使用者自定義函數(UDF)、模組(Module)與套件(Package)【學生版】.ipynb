{
 "cells": [
  {
   "cell_type": "markdown",
   "metadata": {},
   "source": [
    "【臺北大學】Python程式設計<br>\n",
    "【授課老師】[陳祥輝 (Email : HsiangHui.Chen@gmail.com)](mailto:HsiangHui.Chen@gmail.com)<br>\n",
    "【facebook】[陳祥輝老師的臉書 (歡迎加好友)](https://goo.gl/osivhx)<br>\n",
    "【參考書籍】[從零開始學Python程式設計（適用Python 3.5以上）](http://www.drmaster.com.tw/Bookinfo.asp?BookID=MP31821)<br>\n",
    "【主要議題】使用者自定義函數(UDF)、模組(Module)與套件(Package)"
   ]
  },
  {
   "cell_type": "markdown",
   "metadata": {
    "collapsed": true
   },
   "source": [
    "【重點提要】\n",
    "\n",
    "----\n",
    "\n",
    "* formal parameter (形式參數): 定義在函數名稱後面括弧( )內的\n",
    "* actual parameter(argument) (實際引數、參數) : 呼叫函數時括弧( )內的\n",
    "\n",
    "----\n",
    "\n",
    "* anonymous function(匿名函數) (lambda)\n",
    "\n",
    "----\n",
    "\n",
    "* call by value\n",
    "* call by reference\n",
    "\n",
    "----\n",
    "\n",
    "* default paramenter values (預設參數值): 一定要放在最右邊\n",
    "* positional argument (位置引數)\n",
    "* keyword argument    (關鍵引數)\n",
    "\n",
    "----\n",
    "\n",
    "* (\\*args) 運算子，使用在formal parameter & acutal parameter。也就是『位置引數』(positional argument)\n",
    "* (\\**kwargs) 運算子，使用在formal parameter & acutal parameter。也就是『關鍵引數』(keyword argument)\n",
    "\n",
    "----\n",
    "\n",
    "* 傳遞函數名稱，也就是將函數當成參數傳遞\n",
    "* 遞迴(Recursive)\n",
    "    1. 找出一般式\n",
    "    2. 迴傳 本層可以處理的部分 結合 不能處理的部分(給下一個自己處理)\n",
    "    3. 找出何時停止，也就是沒有下一層"
   ]
  },
  {
   "cell_type": "code",
   "execution_count": 1,
   "metadata": {},
   "outputs": [
    {
     "name": "stdout",
     "output_type": "stream",
     "text": [
      "【日期時間】2021/06/01 13:47:27\n",
      "【主機名稱】DESKTOP-AQAMOD2 (192.168.43.47)\n",
      "【工作目錄】C:\\Users\\amy10\\Desktop\\Course\\1092python\n",
      "【Python】3.8.5\n",
      "【預設遞迴深度】3000\n"
     ]
    },
    {
     "data": {
      "application/javascript": [
       "IPython.notebook.set_autosave_interval(120000)"
      ]
     },
     "metadata": {},
     "output_type": "display_data"
    },
    {
     "name": "stdout",
     "output_type": "stream",
     "text": [
      "Autosaving every 120 seconds\n"
     ]
    }
   ],
   "source": [
    "# -*-coding:UTF-8-*- \n",
    "from platform import python_version\n",
    "import os, time, glob, socket, sys\n",
    "\n",
    "print(\"【日期時間】{}\".format(time.strftime(\"%Y/%m/%d %H:%M:%S\")))\n",
    "print(\"【主機名稱】{} ({})\".format(socket.gethostname(),socket.gethostbyname(socket.gethostname())))\n",
    "print(\"【工作目錄】{}\".format(os.getcwd()))\n",
    "print(\"【Python】{}\".format(python_version()))\n",
    "print(\"【預設遞迴深度】{}\".format(sys.getrecursionlimit()))\n",
    "\n",
    "%autosave 120"
   ]
  },
  {
   "cell_type": "markdown",
   "metadata": {
    "collapsed": true
   },
   "source": [
    "## <font color=#0000FF>使用者自定義函數 (User-Defined Functions, UDF)</font>\n",
    "return 有兩個意義\n",
    "- 將`執行權`交回給主程式\n",
    "- 將執行的`結果`傳回主程式"
   ]
  },
  {
   "cell_type": "code",
   "execution_count": 2,
   "metadata": {},
   "outputs": [],
   "source": [
    "def myOper(x, y):\n",
    "    a = x + y\n",
    "    return a"
   ]
  },
  {
   "cell_type": "code",
   "execution_count": 3,
   "metadata": {},
   "outputs": [
    {
     "data": {
      "text/plain": [
       "8"
      ]
     },
     "execution_count": 3,
     "metadata": {},
     "output_type": "execute_result"
    }
   ],
   "source": [
    "myOper(3, 5)"
   ]
  },
  {
   "cell_type": "code",
   "execution_count": 5,
   "metadata": {},
   "outputs": [],
   "source": [
    "def myOper2(x, y):\n",
    "    a = x + y\n",
    "    b = x - y\n",
    "    c = x * y\n",
    "    d = x / y\n",
    "    return a, b, c, d"
   ]
  },
  {
   "cell_type": "code",
   "execution_count": 6,
   "metadata": {},
   "outputs": [
    {
     "data": {
      "text/plain": [
       "(15, 5, 50, 2.0)"
      ]
     },
     "execution_count": 6,
     "metadata": {},
     "output_type": "execute_result"
    }
   ],
   "source": [
    "myOper2(10, 5)"
   ]
  },
  {
   "cell_type": "code",
   "execution_count": 7,
   "metadata": {},
   "outputs": [
    {
     "name": "stdout",
     "output_type": "stream",
     "text": [
      "m=13,005, n=12995, o=65000, p=2600.00\n"
     ]
    }
   ],
   "source": [
    "m, n, o, p = myOper2(13000, 5)\n",
    "print(f'm={m:,}, n={n}, o={o}, p={p:.2f}')"
   ]
  },
  {
   "cell_type": "markdown",
   "metadata": {},
   "source": [
    "以下發生的錯誤，是因為指定數目與回傳數目不相等，在往下會做說明"
   ]
  },
  {
   "cell_type": "code",
   "execution_count": 8,
   "metadata": {},
   "outputs": [
    {
     "ename": "ValueError",
     "evalue": "too many values to unpack (expected 3)",
     "output_type": "error",
     "traceback": [
      "\u001b[1;31m---------------------------------------------------------------------------\u001b[0m",
      "\u001b[1;31mValueError\u001b[0m                                Traceback (most recent call last)",
      "\u001b[1;32m<ipython-input-8-1eb85c45bf4d>\u001b[0m in \u001b[0;36m<module>\u001b[1;34m\u001b[0m\n\u001b[1;32m----> 1\u001b[1;33m \u001b[0mm\u001b[0m\u001b[1;33m,\u001b[0m \u001b[0mn\u001b[0m\u001b[1;33m,\u001b[0m \u001b[0mo\u001b[0m\u001b[1;33m=\u001b[0m \u001b[0mmyOper2\u001b[0m\u001b[1;33m(\u001b[0m\u001b[1;36m13000\u001b[0m\u001b[1;33m,\u001b[0m \u001b[1;36m5\u001b[0m\u001b[1;33m)\u001b[0m\u001b[1;33m\u001b[0m\u001b[1;33m\u001b[0m\u001b[0m\n\u001b[0m\u001b[0;32m      2\u001b[0m \u001b[0mprint\u001b[0m\u001b[1;33m(\u001b[0m\u001b[1;34mf'm={m:,}, n={n}, o={o}'\u001b[0m\u001b[1;33m)\u001b[0m\u001b[1;33m\u001b[0m\u001b[1;33m\u001b[0m\u001b[0m\n",
      "\u001b[1;31mValueError\u001b[0m: too many values to unpack (expected 3)"
     ]
    }
   ],
   "source": [
    "m, n, o= myOper2(13000, 5)\n",
    "print(f'm={m:,}, n={n}, o={o}')"
   ]
  },
  {
   "cell_type": "markdown",
   "metadata": {},
   "source": [
    "## <font color=#0000FF>匿名函數 (lambda)</font>\n",
    "【使用時機】\n",
    "- 簡單運算\n",
    "- 只使用一次"
   ]
  },
  {
   "cell_type": "code",
   "execution_count": 9,
   "metadata": {},
   "outputs": [],
   "source": [
    "def add(x, y):\n",
    "    return x**2 + y**2"
   ]
  },
  {
   "cell_type": "code",
   "execution_count": 12,
   "metadata": {},
   "outputs": [
    {
     "data": {
      "text/plain": [
       "<function __main__.add(x, y)>"
      ]
     },
     "execution_count": 12,
     "metadata": {},
     "output_type": "execute_result"
    }
   ],
   "source": [
    "add"
   ]
  },
  {
   "cell_type": "code",
   "execution_count": 10,
   "metadata": {
    "scrolled": true
   },
   "outputs": [
    {
     "data": {
      "text/plain": [
       "500"
      ]
     },
     "execution_count": 10,
     "metadata": {},
     "output_type": "execute_result"
    }
   ],
   "source": [
    "add(10, 20)"
   ]
  },
  {
   "cell_type": "code",
   "execution_count": 13,
   "metadata": {},
   "outputs": [
    {
     "data": {
      "text/plain": [
       "<function __main__.<lambda>(x, y)>"
      ]
     },
     "execution_count": 13,
     "metadata": {},
     "output_type": "execute_result"
    }
   ],
   "source": [
    "(lambda x, y : x**2 + y**2)"
   ]
  },
  {
   "cell_type": "code",
   "execution_count": 11,
   "metadata": {},
   "outputs": [
    {
     "data": {
      "text/plain": [
       "500"
      ]
     },
     "execution_count": 11,
     "metadata": {},
     "output_type": "execute_result"
    }
   ],
   "source": [
    "(lambda x, y : x**2 + y**2)(10, 20)"
   ]
  },
  {
   "cell_type": "markdown",
   "metadata": {},
   "source": [
    "<font size=4>如何排序 dict 物件</font>"
   ]
  },
  {
   "cell_type": "code",
   "execution_count": 14,
   "metadata": {},
   "outputs": [
    {
     "name": "stdout",
     "output_type": "stream",
     "text": [
      "5\n",
      "True\n"
     ]
    }
   ],
   "source": [
    "d = {'x':10, 'z':5, 'y':12, 'a':60, 'd':50}\n",
    "print(len(d))\n",
    "print('a' in d)"
   ]
  },
  {
   "cell_type": "code",
   "execution_count": 15,
   "metadata": {},
   "outputs": [
    {
     "data": {
      "text/plain": [
       "dict_items([('x', 10), ('z', 5), ('y', 12), ('a', 60), ('d', 50)])"
      ]
     },
     "execution_count": 15,
     "metadata": {},
     "output_type": "execute_result"
    }
   ],
   "source": [
    "d.items()"
   ]
  },
  {
   "cell_type": "code",
   "execution_count": 16,
   "metadata": {},
   "outputs": [
    {
     "data": {
      "text/plain": [
       "[('a', 60), ('d', 50), ('x', 10), ('y', 12), ('z', 5)]"
      ]
     },
     "execution_count": 16,
     "metadata": {},
     "output_type": "execute_result"
    }
   ],
   "source": [
    "sorted(d.items(), key=lambda x:x[0], reverse=False)"
   ]
  },
  {
   "cell_type": "code",
   "execution_count": 17,
   "metadata": {},
   "outputs": [
    {
     "data": {
      "text/plain": [
       "[('z', 5), ('x', 10), ('y', 12), ('d', 50), ('a', 60)]"
      ]
     },
     "execution_count": 17,
     "metadata": {},
     "output_type": "execute_result"
    }
   ],
   "source": [
    "sorted(d.items(), key=lambda x:x[1], reverse=False)"
   ]
  },
  {
   "cell_type": "code",
   "execution_count": 18,
   "metadata": {},
   "outputs": [],
   "source": [
    "def sortByKey(x) :\n",
    "    return x[0]"
   ]
  },
  {
   "cell_type": "code",
   "execution_count": 19,
   "metadata": {},
   "outputs": [],
   "source": [
    "def sortByValue(x) :\n",
    "    return x[1]"
   ]
  },
  {
   "cell_type": "code",
   "execution_count": 20,
   "metadata": {},
   "outputs": [
    {
     "data": {
      "text/plain": [
       "[('a', 60), ('d', 50), ('x', 10), ('y', 12), ('z', 5)]"
      ]
     },
     "execution_count": 20,
     "metadata": {},
     "output_type": "execute_result"
    }
   ],
   "source": [
    "sorted(d.items(), key=sortByKey, reverse=False)"
   ]
  },
  {
   "cell_type": "code",
   "execution_count": 21,
   "metadata": {},
   "outputs": [
    {
     "data": {
      "text/plain": [
       "[('z', 5), ('x', 10), ('y', 12), ('d', 50), ('a', 60)]"
      ]
     },
     "execution_count": 21,
     "metadata": {},
     "output_type": "execute_result"
    }
   ],
   "source": [
    "sorted(d.items(), key=sortByValue, reverse=False)"
   ]
  },
  {
   "cell_type": "markdown",
   "metadata": {},
   "source": [
    "## <font color=#0000FF>Call by Value & Call by Reference</font>\n",
    "- Call by Value:\n",
    "    - 傳遞值\n",
    "    - 通常丟入變數都是一個值\n",
    "    - 需要return，才會改變原始值\n",
    "- Call by Reference:\n",
    "    - 傳遞位置\n",
    "    - 通常丟入的都是物件（使用方法被改變也會跟著改變）\n",
    "    - 不需要特別return"
   ]
  },
  {
   "cell_type": "code",
   "execution_count": 22,
   "metadata": {},
   "outputs": [],
   "source": [
    "def callbyValue(x):\n",
    "    x = x + 100"
   ]
  },
  {
   "cell_type": "markdown",
   "metadata": {},
   "source": [
    "a 是值，傳遞的是50這個值"
   ]
  },
  {
   "cell_type": "code",
   "execution_count": 23,
   "metadata": {},
   "outputs": [
    {
     "name": "stdout",
     "output_type": "stream",
     "text": [
      "50\n"
     ]
    }
   ],
   "source": [
    "a = 50\n",
    "callbyValue(a)\n",
    "print(a)"
   ]
  },
  {
   "cell_type": "code",
   "execution_count": 24,
   "metadata": {},
   "outputs": [],
   "source": [
    "def callbyReference(x):\n",
    "    x.append(100)"
   ]
  },
  {
   "cell_type": "markdown",
   "metadata": {},
   "source": [
    "a 是物件，傳遞的是 a 這個 list 的位置"
   ]
  },
  {
   "cell_type": "code",
   "execution_count": 25,
   "metadata": {},
   "outputs": [
    {
     "name": "stdout",
     "output_type": "stream",
     "text": [
      "[1, 2, 3, 100]\n"
     ]
    }
   ],
   "source": [
    "a = [1, 2, 3]\n",
    "callbyReference(a)\n",
    "print(a)"
   ]
  },
  {
   "cell_type": "code",
   "execution_count": 26,
   "metadata": {},
   "outputs": [],
   "source": [
    "def callbyValue2(x):\n",
    "    x = x + 100\n",
    "    return x"
   ]
  },
  {
   "cell_type": "code",
   "execution_count": 29,
   "metadata": {},
   "outputs": [
    {
     "name": "stdout",
     "output_type": "stream",
     "text": [
      "150\n"
     ]
    }
   ],
   "source": [
    "a = 50\n",
    "a = callbyValue2(a)\n",
    "print(a)"
   ]
  },
  {
   "cell_type": "markdown",
   "metadata": {},
   "source": [
    "## <font color=#FF0000>Positional argument(位置參數) & Keyword argument(關鍵參數)</font>\n",
    "* positional argument(沒有給參數名稱) 一定要在左\n",
    "* keyword argument(有給參數名稱) 一定要在右\n",
    "\n",
    "【Error message】<br>\n",
    "SyntaxError: positional argument follows keyword argument"
   ]
  },
  {
   "cell_type": "code",
   "execution_count": 31,
   "metadata": {},
   "outputs": [],
   "source": [
    "def test(x, y, z):\n",
    "    print(f'x={x}, y={y}, z={z}')"
   ]
  },
  {
   "cell_type": "markdown",
   "metadata": {},
   "source": [
    "<font size = 3>正常的使用（位置參數在左，關鍵參數在右）</font>"
   ]
  },
  {
   "cell_type": "code",
   "execution_count": 32,
   "metadata": {},
   "outputs": [
    {
     "name": "stdout",
     "output_type": "stream",
     "text": [
      "x=10, y=20, z=30\n",
      "x=10, y=20, z=30\n",
      "x=10, y=20, z=30\n",
      "x=10, y=20, z=30\n",
      "x=20, y=30, z=10\n"
     ]
    }
   ],
   "source": [
    "test(10, 20, 30) #全部使用位置參數\n",
    "test(x=10, y=20, z=30) #全部使用關鍵參數\n",
    "test(10, y=20, z=30)\n",
    "test(10, z=30, y=20)\n",
    "test(z=10, x=20, y=30)"
   ]
  },
  {
   "cell_type": "markdown",
   "metadata": {},
   "source": [
    "<font size = 3>不正常的使用（順序亂放）</font>"
   ]
  },
  {
   "cell_type": "code",
   "execution_count": 34,
   "metadata": {
    "scrolled": true
   },
   "outputs": [
    {
     "ename": "SyntaxError",
     "evalue": "positional argument follows keyword argument (<ipython-input-34-afdd6e2b7485>, line 1)",
     "output_type": "error",
     "traceback": [
      "\u001b[1;36m  File \u001b[1;32m\"<ipython-input-34-afdd6e2b7485>\"\u001b[1;36m, line \u001b[1;32m1\u001b[0m\n\u001b[1;33m    test(x=10, 20, 30)\u001b[0m\n\u001b[1;37m               ^\u001b[0m\n\u001b[1;31mSyntaxError\u001b[0m\u001b[1;31m:\u001b[0m positional argument follows keyword argument\n"
     ]
    }
   ],
   "source": [
    "test(x=10, 20, 30)"
   ]
  },
  {
   "cell_type": "markdown",
   "metadata": {},
   "source": [
    "## <font color=#0000FF>\\* 的運算，可以逐一取得可迭代物件內的元素</font>"
   ]
  },
  {
   "cell_type": "code",
   "execution_count": 35,
   "metadata": {},
   "outputs": [
    {
     "name": "stdout",
     "output_type": "stream",
     "text": [
      "name:Amy, gender=female, score=[95, 83, 90, 100]\n"
     ]
    }
   ],
   "source": [
    "data = ['Amy', 'female', 95, 83, 90, 100]\n",
    "name, gender, *score = data\n",
    "print(f'name:{name}, gender={gender}, score={score}')"
   ]
  },
  {
   "cell_type": "code",
   "execution_count": 36,
   "metadata": {},
   "outputs": [
    {
     "name": "stdout",
     "output_type": "stream",
     "text": [
      "name:Amy, score=['female', 95, 83, 90, 100]\n"
     ]
    }
   ],
   "source": [
    "data = ['Amy', 'female', 95, 83, 90, 100]\n",
    "name, *score = data\n",
    "print(f'name:{name}, score={score}')"
   ]
  },
  {
   "cell_type": "code",
   "execution_count": 37,
   "metadata": {},
   "outputs": [
    {
     "name": "stdout",
     "output_type": "stream",
     "text": [
      "name:Amy, gender=['female', 95, 83, 90], score=100\n"
     ]
    }
   ],
   "source": [
    "data = ['Amy', 'female', 95, 83, 90, 100]\n",
    "name, *gender, score = data\n",
    "print(f'name:{name}, gender={gender}, score={score}')"
   ]
  },
  {
   "cell_type": "code",
   "execution_count": 38,
   "metadata": {},
   "outputs": [
    {
     "name": "stdout",
     "output_type": "stream",
     "text": [
      "name:['Amy', 'female', 95, 83], gender=90, score=100\n"
     ]
    }
   ],
   "source": [
    "data = ['Amy', 'female', 95, 83, 90, 100]\n",
    "*name, gender, score = data\n",
    "print(f'name:{name}, gender={gender}, score={score}')"
   ]
  },
  {
   "cell_type": "markdown",
   "metadata": {},
   "source": [
    "解決上面的問題"
   ]
  },
  {
   "cell_type": "code",
   "execution_count": 39,
   "metadata": {},
   "outputs": [
    {
     "name": "stdout",
     "output_type": "stream",
     "text": [
      "m=13,005, n=12995, o=[65000, 2600.0]\n"
     ]
    }
   ],
   "source": [
    "m, n, *o= myOper2(13000, 5)\n",
    "print(f'm={m:,}, n={n}, o={o}')"
   ]
  },
  {
   "cell_type": "code",
   "execution_count": 40,
   "metadata": {},
   "outputs": [
    {
     "name": "stdout",
     "output_type": "stream",
     "text": [
      "m=13,005, n=12995, o=2600.0\n"
     ]
    }
   ],
   "source": [
    "m, n, _, o= myOper2(13000, 5)    #_：匿名變數，就是第三個沒有名字（把它給匿名變數，就不會看到他了）\n",
    "print(f'm={m:,}, n={n}, o={o}')"
   ]
  },
  {
   "cell_type": "code",
   "execution_count": 41,
   "metadata": {},
   "outputs": [],
   "source": [
    "def add(*values) :\n",
    "    result = 0\n",
    "    for value in values :\n",
    "        result = result + value\n",
    "    return result    "
   ]
  },
  {
   "cell_type": "code",
   "execution_count": 42,
   "metadata": {},
   "outputs": [
    {
     "name": "stdout",
     "output_type": "stream",
     "text": [
      "5\n",
      "9\n",
      "14\n",
      "20\n"
     ]
    }
   ],
   "source": [
    "print(add(2, 3))\n",
    "print(add(2, 3, 4))\n",
    "print(add(2, 3, 4, 5))\n",
    "print(add(2, 3, 4, 5, 6))"
   ]
  },
  {
   "cell_type": "markdown",
   "metadata": {},
   "source": [
    "## <font color=#0000FF>** 運算式可以依據key從可迭代物件內取出元素</font>"
   ]
  },
  {
   "cell_type": "code",
   "execution_count": 43,
   "metadata": {},
   "outputs": [],
   "source": [
    "def student(std1, std2, std3, score1, score2, score3) :\n",
    "    print(f'{std1}, {score1}')\n",
    "    print(f'{std2}, {score2}')\n",
    "    print(f'{std3}, {score3}')    "
   ]
  },
  {
   "cell_type": "code",
   "execution_count": 44,
   "metadata": {},
   "outputs": [
    {
     "name": "stdout",
     "output_type": "stream",
     "text": [
      "Dale, 90\n",
      "Andy, 95\n",
      "Candy, 80\n"
     ]
    }
   ],
   "source": [
    "scores = {'score1':90, 'score3':80, 'score2':95}\n",
    "student('Dale', 'Andy', 'Candy', **scores)"
   ]
  },
  {
   "cell_type": "code",
   "execution_count": 45,
   "metadata": {},
   "outputs": [],
   "source": [
    "def testFun(*args, **kwargs) :\n",
    "    print(f'args : {args}')\n",
    "    print(f'kwargs : {kwargs}')\n",
    "    print(type(args))\n",
    "    print(type(kwargs))"
   ]
  },
  {
   "cell_type": "code",
   "execution_count": 46,
   "metadata": {},
   "outputs": [
    {
     "name": "stdout",
     "output_type": "stream",
     "text": [
      "args : (1, 2, 3)\n",
      "kwargs : {}\n",
      "<class 'tuple'>\n",
      "<class 'dict'>\n"
     ]
    }
   ],
   "source": [
    "testFun(1,2,3)"
   ]
  },
  {
   "cell_type": "code",
   "execution_count": 47,
   "metadata": {},
   "outputs": [
    {
     "name": "stdout",
     "output_type": "stream",
     "text": [
      "args : ()\n",
      "kwargs : {'red': 'apple', 'yellow': 'banana'}\n",
      "<class 'tuple'>\n",
      "<class 'dict'>\n"
     ]
    }
   ],
   "source": [
    "testFun(red='apple', yellow='banana')"
   ]
  },
  {
   "cell_type": "code",
   "execution_count": 48,
   "metadata": {},
   "outputs": [
    {
     "name": "stdout",
     "output_type": "stream",
     "text": [
      "args : (1, 2, 3)\n",
      "kwargs : {'red': 'apple', 'yellow': 'banana'}\n",
      "<class 'tuple'>\n",
      "<class 'dict'>\n"
     ]
    }
   ],
   "source": [
    "testFun(1,2,3,red='apple', yellow='banana')"
   ]
  },
  {
   "cell_type": "markdown",
   "metadata": {},
   "source": [
    "<font size=4 color=blue>【實際個案說明】</font>"
   ]
  },
  {
   "cell_type": "code",
   "execution_count": 49,
   "metadata": {},
   "outputs": [],
   "source": [
    "import pandas as pd\n",
    "import matplotlib.pyplot as plt"
   ]
  },
  {
   "cell_type": "code",
   "execution_count": 50,
   "metadata": {},
   "outputs": [],
   "source": [
    "fname = r'Data\\PyData\\iris.csv'\n",
    "iris = pd.read_csv(fname, sep=',', encoding='utf-8', engine='python')\n",
    "\n",
    "fname = r'Data\\PyData\\titanic.csv'\n",
    "titanic = pd.read_csv(fname, sep=',', encoding='utf-8', engine='python')"
   ]
  },
  {
   "cell_type": "code",
   "execution_count": 51,
   "metadata": {},
   "outputs": [],
   "source": [
    "def myBoxplot(data, cols) :\n",
    "    data.boxplot(column=cols,\n",
    "                 vert=False, \n",
    "                 showmeans=True,\n",
    "                 meanline=True,\n",
    "                 showfliers=False)\n",
    "    plt.show()"
   ]
  },
  {
   "cell_type": "code",
   "execution_count": 52,
   "metadata": {},
   "outputs": [
    {
     "data": {
      "text/plain": [
       "['Sepal.Length', 'Sepal.Width', 'Petal.Length', 'Petal.Width']"
      ]
     },
     "execution_count": 52,
     "metadata": {},
     "output_type": "execute_result"
    }
   ],
   "source": [
    "list(iris.columns[:4])"
   ]
  },
  {
   "cell_type": "code",
   "execution_count": 53,
   "metadata": {},
   "outputs": [
    {
     "data": {
      "image/png": "[encoded data removed]",
      "text/plain": [
       "<Figure size 432x288 with 1 Axes>"
      ]
     },
     "metadata": {
      "needs_background": "light"
     },
     "output_type": "display_data"
    }
   ],
   "source": [
    "myBoxplot(data=iris, cols=list(iris.columns[:4]))"
   ]
  },
  {
   "cell_type": "code",
   "execution_count": 54,
   "metadata": {},
   "outputs": [
    {
     "data": {
      "image/png": "[encoded data removed]",
      "text/plain": [
       "<Figure size 432x288 with 1 Axes>"
      ]
     },
     "metadata": {
      "needs_background": "light"
     },
     "output_type": "display_data"
    }
   ],
   "source": [
    "myBoxplot(data=titanic, cols='Age')"
   ]
  },
  {
   "cell_type": "markdown",
   "metadata": {},
   "source": [
    "使用 **kwargs 比較有修改的彈性"
   ]
  },
  {
   "cell_type": "code",
   "execution_count": 55,
   "metadata": {},
   "outputs": [],
   "source": [
    "def myBoxplot(data, cols, **kwargs) :\n",
    "    data.boxplot(column=cols,\n",
    "                 **kwargs)\n",
    "    plt.show()"
   ]
  },
  {
   "cell_type": "code",
   "execution_count": 56,
   "metadata": {},
   "outputs": [
    {
     "data": {
      "image/png": "[encoded data removed]",
      "text/plain": [
       "<Figure size 432x288 with 1 Axes>"
      ]
     },
     "metadata": {
      "needs_background": "light"
     },
     "output_type": "display_data"
    }
   ],
   "source": [
    "myBoxplot(data=iris, cols=list(iris.columns[:4]), \n",
    "          showmeans=True,\n",
    "          meanline=False,\n",
    "          showfliers=False)"
   ]
  },
  {
   "cell_type": "code",
   "execution_count": 58,
   "metadata": {},
   "outputs": [
    {
     "data": {
      "image/png": "[encoded data removed]",
      "text/plain": [
       "<Figure size 432x288 with 1 Axes>"
      ]
     },
     "metadata": {
      "needs_background": "light"
     },
     "output_type": "display_data"
    }
   ],
   "source": [
    "myBoxplot(data=iris, cols=list(iris.columns[:4]))"
   ]
  },
  {
   "cell_type": "markdown",
   "metadata": {},
   "source": [
    "## <font color=#0000FF>遞迴函數(Recursive)</font>\n",
    "1. 找出一般式(包括本層可處理的，以及本層無法處理的)，並且 return\n",
    "2. 找出何時停止\n",
    "\n",
    "---\n",
    "1. $f(10)=10+9+8+...+3+2+1$\n",
    "2. $f(10)=10+f(9)$\n",
    "3. 一般式：$f(n)=n+f(n-1)$"
   ]
  },
  {
   "cell_type": "code",
   "execution_count": 59,
   "metadata": {},
   "outputs": [],
   "source": [
    "def f1(n):\n",
    "    if n <=1 :\n",
    "        return n\n",
    "    else:\n",
    "        return n + f1(n-1)"
   ]
  },
  {
   "cell_type": "code",
   "execution_count": 60,
   "metadata": {},
   "outputs": [
    {
     "data": {
      "text/plain": [
       "55"
      ]
     },
     "execution_count": 60,
     "metadata": {},
     "output_type": "execute_result"
    }
   ],
   "source": [
    "f1(10)"
   ]
  },
  {
   "cell_type": "markdown",
   "metadata": {},
   "source": [
    "$10*9+9*8+8*7+...+3*2$"
   ]
  },
  {
   "cell_type": "code",
   "execution_count": 61,
   "metadata": {},
   "outputs": [],
   "source": [
    "def f2(n):\n",
    "    if n <= 3:\n",
    "        return n*(n-1)\n",
    "    else:\n",
    "        return n*(n-1) + f2(n-1)"
   ]
  },
  {
   "cell_type": "code",
   "execution_count": 62,
   "metadata": {},
   "outputs": [
    {
     "data": {
      "text/plain": [
       "328"
      ]
     },
     "execution_count": 62,
     "metadata": {},
     "output_type": "execute_result"
    }
   ],
   "source": [
    "f2(10)"
   ]
  },
  {
   "cell_type": "markdown",
   "metadata": {},
   "source": [
    "## <font color=#0000FF>模組 (Module)與套件(Package)</font>\n",
    "- [visual studio code 下載點](https://code.visualstudio.com/)"
   ]
  },
  {
   "cell_type": "markdown",
   "metadata": {},
   "source": [
    "### module\n",
    "#### 先利用Visual Studio存成.Py檔，再用jupyter notebook 讀進來使用<br>\n",
    "以下是儲存的內容\n",
    "```\n",
    "# -*-coding:UTF-8-*- \n",
    "# from platform import python_version\n",
    "# import os, time, glob, socket, sys\n",
    "\n",
    "def myOper(x, y):\n",
    "    a = x + y\n",
    "    return a\n",
    "\n",
    "def myOper2(x, y):\n",
    "    a = x + y\n",
    "    b = x - y\n",
    "    c = x * y\n",
    "    d = x / y\n",
    "    return a, b, c, d\n",
    "```"
   ]
  },
  {
   "cell_type": "code",
   "execution_count": 1,
   "metadata": {},
   "outputs": [],
   "source": [
    "import mod01"
   ]
  },
  {
   "cell_type": "code",
   "execution_count": 4,
   "metadata": {},
   "outputs": [
    {
     "data": {
      "text/plain": [
       "7"
      ]
     },
     "execution_count": 4,
     "metadata": {},
     "output_type": "execute_result"
    }
   ],
   "source": [
    "mod01.myOper(3 ,4)"
   ]
  },
  {
   "cell_type": "code",
   "execution_count": 6,
   "metadata": {
    "scrolled": true
   },
   "outputs": [
    {
     "data": {
      "text/plain": [
       "(7, -1, 12, 0.75)"
      ]
     },
     "execution_count": 6,
     "metadata": {},
     "output_type": "execute_result"
    }
   ],
   "source": [
    "mod01.myOper2(3 ,4)"
   ]
  },
  {
   "cell_type": "markdown",
   "metadata": {},
   "source": [
    "#### 都利用Visual Studio（不使用jupyter notebook）<br>\n",
    "\n",
    "```\n",
    "# -*-coding:UTF-8-*- \n",
    "# from platform import python_version\n",
    "# import os, time, glob, socket, sys\n",
    "\n",
    "def myOper(x, y):\n",
    "    print('from mod01.myOper():{}'.format(__name__))\n",
    "    a = x + y\n",
    "    return a\n",
    "\n",
    "def myOper2(x, y):\n",
    "    print('from mod01.myOper2():{}'.format(__name__))\n",
    "    a = x + y\n",
    "    b = x - y\n",
    "    c = x * y\n",
    "    d = x / y\n",
    "    return a, b, c, d\n",
    "\n",
    "def Amymain():\n",
    "    \n",
    "\n",
    "if __name__ == '__main__':\n",
    "    Amymain()\n",
    "```\n",
    "\n",
    "- debug模式\n",
    "    * 設定中斷點：暫停點的概念，一次只執行到標註到那點（不包含那行）\n",
    "    * 使用時機：編譯過程沒有錯誤（可以執行），但執行結果是錯誤的\n",
    "    * 執行時的按鈕\n",
    "        1. Continued：繼續執行\n",
    "        2. Step Over：不進入函數檢查，直接往下執行\n",
    "        3. Step Into：進入函數檢查\n",
    "        4. Stop Out：跳出函數"
   ]
  },
  {
   "cell_type": "markdown",
   "metadata": {},
   "source": [
    "## <font color=#0000FF>【自行練習】 : 練習遞迴與檔案目錄，不可以使用glob模組</font>"
   ]
  },
  {
   "cell_type": "markdown",
   "metadata": {},
   "source": [
    "### <font color=#0000FF>1. 請利用 <u>遞迴</u> 撰寫一個類似 glob 功能的函數，給定一個目錄(path)，以及想要尋找的附屬檔名(ext)，回傳一個list物件 </font>\n",
    "- list recursiveFindFiles(path, ext, isFullName=False)\n",
    "    - path : 給定的目錄名稱\n",
    "    - ext : 附屬檔名\n",
    "    - isFullName : 是否回傳全路徑的檔案名稱，或是僅需要檔案名稱(default)\n",
    "    - return : 迴傳一個 list 物件，存放所有檔案名稱\n",
    "- 【提示】可以使用 os 模組\n",
    "    - os.listdir()\n",
    "    - os.path.isfile() : 判斷是否為檔案\n",
    "    - os.path.isdir() : 判斷是否為目錄\n",
    "- 請執行以下兩個的結果\n",
    "    - 需要全路徑的檔案名稱\n",
    "        - lst = recursiveFindFiles(path=r'C:\\data',ext='jpg',isFullName=True)\n",
    "        - print(len(lst))\n",
    "        - print(lst[0])\n",
    "    - 不需要全路徑的檔案名稱    \n",
    "        - lst = recursiveFindFiles(path=r'C:\\data',ext='jpg',isFullName=False)\n",
    "        - print(len(lst))\n",
    "        - print(lst[0])"
   ]
  },
  {
   "cell_type": "markdown",
   "metadata": {},
   "source": [
    "### <font color=#0000FF>2. 請利用 <u>遞迴</u> 撰寫一個函數，給定一個目錄名稱(path)與圖檔的附屬檔名(ext)，就可以直接回傳一個list物件，內存所有圖檔的numpy.ndarray </font>\n",
    "- list recursiveFindImgFiles(path, ext)\n",
    "    - path : 給定的目錄名稱\n",
    "    - ext : 附屬檔名\n",
    "    - return : 迴傳一個 list 物件，內存放所有影像檔案的numpy.ndarray   "
   ]
  }
 ],
 "metadata": {
  "kernelspec": {
   "display_name": "Python 3",
   "language": "python",
   "name": "python3"
  },
  "language_info": {
   "codemirror_mode": {
    "name": "ipython",
    "version": 3
   },
   "file_extension": ".py",
   "mimetype": "text/x-python",
   "name": "python",
   "nbconvert_exporter": "python",
   "pygments_lexer": "ipython3",
   "version": "3.8.5"
  }
 },
 "nbformat": 4,
 "nbformat_minor": 2
}
