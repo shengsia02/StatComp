{
 "cells": [
  {
   "cell_type": "markdown",
   "metadata": {},
   "source": [
    "【臺北大學】Python程式設計<br>\n",
    "【授課老師】[陳祥輝 (Email : HsiangHui.Chen@gmail.com)](mailto:HsiangHui.Chen@gmail.com)<br>\n",
    "【facebook】[陳祥輝老師的臉書 (歡迎加好友)](https://goo.gl/osivhx)<br>\n",
    "【參考書籍】[從零開始學Python程式設計（適用Python 3.5以上）](http://www.drmaster.com.tw/Bookinfo.asp?BookID=MP31821)<br>\n",
    "【主要議題】流程控制與迴圈"
   ]
  },
  {
   "cell_type": "markdown",
   "metadata": {},
   "source": [
    "【重點提要】\n",
    "1. 循序結構(Sequential)\n",
    "2. 選擇結構(Selection) : \n",
    "    * if ... elif ... elif ... else \n",
    "    * X if C else Y\n",
    "3. 迭代結構(Iteration) : for / while, break / continue"
   ]
  },
  {
   "cell_type": "markdown",
   "metadata": {},
   "source": [
    "【參考資料】\n",
    "* [有關在 matplotlib 顯示數學表示式 (LaTex)](https://wizardforcel.gitbooks.io/matplotlib-user-guide/4.6.html)"
   ]
  },
  {
   "cell_type": "markdown",
   "metadata": {},
   "source": [
    "【比較以下不同用法的差異】\n",
    "* import numpy as np\n",
    "* import numpy.random as rnd1\n",
    "* from numpy import random as rnd2\n",
    "* from numpy.random import random"
   ]
  },
  {
   "cell_type": "code",
   "execution_count": 1,
   "metadata": {},
   "outputs": [
    {
     "name": "stdout",
     "output_type": "stream",
     "text": [
      "【日期時間】2021/03/16 13:31:32\n",
      "【工作目錄】C:\\Users\\NTPU Computer Center\\Desktop\n",
      "【主機名稱】1MF08-06 (10.137.110.6)\n",
      "【Python】3.8.5\n"
     ]
    },
    {
     "data": {
      "application/javascript": [
       "IPython.notebook.set_autosave_interval(120000)"
      ]
     },
     "metadata": {},
     "output_type": "display_data"
    },
    {
     "name": "stdout",
     "output_type": "stream",
     "text": [
      "Autosaving every 120 seconds\n"
     ]
    }
   ],
   "source": [
    "#-*-coding:UTF-8-*- \n",
    "from platform import python_version\n",
    "import os, time, glob, socket\n",
    "\n",
    "print(\"【日期時間】{}\".format(time.strftime(\"%Y/%m/%d %H:%M:%S\")))\n",
    "print(\"【工作目錄】{}\".format(os.getcwd()))\n",
    "print(\"【主機名稱】{} ({})\".format(socket.gethostname(),socket.gethostbyname(socket.gethostname())))\n",
    "print(\"【Python】{}\".format(python_version()))\n",
    "\n",
    "%autosave 120"
   ]
  },
  {
   "cell_type": "markdown",
   "metadata": {},
   "source": [
    "## <font color=#0000FF>Python的基本資料型態</font>"
   ]
  },
  {
   "cell_type": "markdown",
   "metadata": {},
   "source": [
    "### Python Primitive data types (基本資料型態)\n",
    "\n",
    "* Numeric Types \n",
    "    - int()：整數\n",
    "    - float()：小數\n",
    "    - complex()：複數\n",
    "    \n",
    "* bool()：布林值<br>\n",
    "比較特殊的是True是0以外的其他數字，False是0<br>\n",
    "若將布林值轉成數字True為1，False為0\n",
    "\n",
    "* str()：字串\n",
    "* None：空值\n",
    "\n",
    "要查詢各個資料型態可以使用type()"
   ]
  },
  {
   "cell_type": "code",
   "execution_count": 2,
   "metadata": {},
   "outputs": [
    {
     "name": "stdout",
     "output_type": "stream",
     "text": [
      "<class 'int'>\n",
      "<class 'float'>\n"
     ]
    }
   ],
   "source": [
    "print(type(10))\n",
    "print(type(10.0))"
   ]
  },
  {
   "cell_type": "code",
   "execution_count": 3,
   "metadata": {},
   "outputs": [
    {
     "data": {
      "text/plain": [
       "15"
      ]
     },
     "execution_count": 3,
     "metadata": {},
     "output_type": "execute_result"
    }
   ],
   "source": [
    "int('10') + 5     # 將字串 '10' 轉換成整數的 10"
   ]
  },
  {
   "cell_type": "code",
   "execution_count": 4,
   "metadata": {},
   "outputs": [
    {
     "data": {
      "text/plain": [
       "(3+0j)"
      ]
     },
     "execution_count": 4,
     "metadata": {},
     "output_type": "execute_result"
    }
   ],
   "source": [
    "complex(3)"
   ]
  },
  {
   "cell_type": "code",
   "execution_count": 5,
   "metadata": {},
   "outputs": [
    {
     "name": "stdout",
     "output_type": "stream",
     "text": [
      "<class 'bool'>\n",
      "<class 'bool'>\n"
     ]
    }
   ],
   "source": [
    "print(type(True))\n",
    "print(type(False))"
   ]
  },
  {
   "cell_type": "code",
   "execution_count": 6,
   "metadata": {},
   "outputs": [
    {
     "name": "stdout",
     "output_type": "stream",
     "text": [
      "False\n",
      "True\n",
      "True\n"
     ]
    }
   ],
   "source": [
    "print(bool(0))     #False\n",
    "print(bool(10))    #非 0 皆轉換出 True\n",
    "print(bool(-10))"
   ]
  },
  {
   "cell_type": "code",
   "execution_count": 7,
   "metadata": {},
   "outputs": [
    {
     "name": "stdout",
     "output_type": "stream",
     "text": [
      "1\n",
      "0\n"
     ]
    }
   ],
   "source": [
    "print(int(True))    # 1\n",
    "print(int(False))   # 0"
   ]
  },
  {
   "cell_type": "code",
   "execution_count": 8,
   "metadata": {},
   "outputs": [
    {
     "data": {
      "text/plain": [
       "2"
      ]
     },
     "execution_count": 8,
     "metadata": {},
     "output_type": "execute_result"
    }
   ],
   "source": [
    "sum([True, True, False])"
   ]
  },
  {
   "cell_type": "code",
   "execution_count": 9,
   "metadata": {},
   "outputs": [
    {
     "data": {
      "text/plain": [
       "'10'"
      ]
     },
     "execution_count": 9,
     "metadata": {},
     "output_type": "execute_result"
    }
   ],
   "source": [
    "str(10)"
   ]
  },
  {
   "cell_type": "code",
   "execution_count": 10,
   "metadata": {},
   "outputs": [
    {
     "name": "stdout",
     "output_type": "stream",
     "text": [
      "10\n"
     ]
    }
   ],
   "source": [
    "print(str(10))     #因為 print() 是將結果輸出畫面，所以不會有引號"
   ]
  },
  {
   "cell_type": "code",
   "execution_count": 11,
   "metadata": {},
   "outputs": [
    {
     "name": "stdout",
     "output_type": "stream",
     "text": [
      "python\n"
     ]
    }
   ],
   "source": [
    "print('python')"
   ]
  },
  {
   "cell_type": "markdown",
   "metadata": {},
   "source": [
    "## <font color=#0000FF>import模組的各種寫法</font>"
   ]
  },
  {
   "cell_type": "markdown",
   "metadata": {},
   "source": [
    "【比較以下不同用法的差異】\n",
    "* import numpy as np\n",
    "* from numpy import *\n",
    "* import numpy.random as rnd1\n",
    "* from numpy import random as rnd2\n",
    "* from numpy.random import *\n",
    "* from numpy.random import random"
   ]
  },
  {
   "cell_type": "markdown",
   "metadata": {},
   "source": [
    "<table>\n",
    "<tr><td>\n",
    "<img src='http://180.218.162.136:2018/images/Python/importDiag.png' width=400 height=300 alt=\"這裡是放一張 importDiag.png 的示意圖\"></td><td>\n",
    "<img src='http://180.218.162.136:2018/images/Python//importNumpy.png' width=400 height=300 alt=\"這裡是放一張 importNumpy.png 的示意圖\">\n",
    "</td></tr>\n",
    "</table>"
   ]
  },
  {
   "cell_type": "markdown",
   "metadata": {},
   "source": [
    "<font size=4>【方法一】</font>"
   ]
  },
  {
   "cell_type": "code",
   "execution_count": 12,
   "metadata": {},
   "outputs": [],
   "source": [
    "import numpy as np"
   ]
  },
  {
   "cell_type": "code",
   "execution_count": 13,
   "metadata": {},
   "outputs": [
    {
     "data": {
      "text/plain": [
       "<module 'numpy' from 'C:\\\\Anaconda3\\\\envs\\\\Py38\\\\lib\\\\site-packages\\\\numpy\\\\__init__.py'>"
      ]
     },
     "execution_count": 13,
     "metadata": {},
     "output_type": "execute_result"
    }
   ],
   "source": [
    "#查看np安裝的目錄\n",
    "np"
   ]
  },
  {
   "cell_type": "code",
   "execution_count": 14,
   "metadata": {
    "scrolled": true
   },
   "outputs": [
    {
     "name": "stdout",
     "output_type": "stream",
     "text": [
      "0.525576254287092\n"
     ]
    }
   ],
   "source": [
    "#np.底下的子套件（子目錄）裡面的random函數\n",
    "print(np.random.random())"
   ]
  },
  {
   "cell_type": "markdown",
   "metadata": {},
   "source": [
    "<font size=4>【方法二】</font>"
   ]
  },
  {
   "cell_type": "code",
   "execution_count": 20,
   "metadata": {},
   "outputs": [],
   "source": [
    "#兩種方法都可以匯入\n",
    "import numpy.random as rnd1\n",
    "from numpy import random as rnd2"
   ]
  },
  {
   "cell_type": "code",
   "execution_count": 21,
   "metadata": {},
   "outputs": [
    {
     "name": "stdout",
     "output_type": "stream",
     "text": [
      "0.412574394150795\n",
      "0.1416920629467603\n"
     ]
    }
   ],
   "source": [
    "print(rnd1.random())\n",
    "print(rnd2.random())"
   ]
  },
  {
   "cell_type": "markdown",
   "metadata": {},
   "source": [
    "np.random.seed()：設定固定數值，但僅限於同一次執行（同一個block）有效"
   ]
  },
  {
   "cell_type": "code",
   "execution_count": 24,
   "metadata": {},
   "outputs": [
    {
     "name": "stdout",
     "output_type": "stream",
     "text": [
      "0.412574394150795\n",
      "0.1416920629467603\n"
     ]
    }
   ],
   "source": [
    "np.random.seed(322)\n",
    "print(rnd1.random())\n",
    "print(rnd2.random())"
   ]
  },
  {
   "cell_type": "markdown",
   "metadata": {},
   "source": [
    "<font size=4>【方法三】盡量不要使用，怕會覆蓋掉原始函數，若要使用，要特別注意</font>"
   ]
  },
  {
   "cell_type": "code",
   "execution_count": 27,
   "metadata": {},
   "outputs": [],
   "source": [
    "from numpy.random import random     #匯入在numpy.random下的random函數\n",
    "#下面千萬不要使用\n",
    "#from numpy.random import *"
   ]
  },
  {
   "cell_type": "code",
   "execution_count": 28,
   "metadata": {},
   "outputs": [
    {
     "name": "stdout",
     "output_type": "stream",
     "text": [
      "0.017414696212477043\n"
     ]
    }
   ],
   "source": [
    "print(random())"
   ]
  },
  {
   "cell_type": "markdown",
   "metadata": {},
   "source": [
    "## <font color=#0000FF>選擇結構(Selection)</font>"
   ]
  },
  {
   "cell_type": "markdown",
   "metadata": {},
   "source": [
    "<font color=#0000FF>\n",
    "if ... elif ... elif ... else ...\n",
    "</font>"
   ]
  },
  {
   "cell_type": "code",
   "execution_count": 29,
   "metadata": {},
   "outputs": [
    {
     "name": "stdout",
     "output_type": "stream",
     "text": [
      "請輸入一個數值：10\n",
      "答錯了\n"
     ]
    }
   ],
   "source": [
    "usr = input(\"請輸入一個數值：\")    #input內輸入的皆為string\n",
    "if usr == 10 :\n",
    "    print(\"答對了\")\n",
    "else :\n",
    "    print(\"答錯了\")"
   ]
  },
  {
   "cell_type": "code",
   "execution_count": 30,
   "metadata": {},
   "outputs": [
    {
     "name": "stdout",
     "output_type": "stream",
     "text": [
      "請輸入一個數值：10\n",
      "<class 'str'>\n",
      "答對了\n"
     ]
    }
   ],
   "source": [
    "usr = input(\"請輸入一個數值：\")\n",
    "print(type(usr))\n",
    "\n",
    "usr = int(usr)    #將usr轉成數值\n",
    "\n",
    "if usr == 10 :\n",
    "    print(\"答對了\")\n",
    "else :\n",
    "    print(\"答錯了\")"
   ]
  },
  {
   "cell_type": "code",
   "execution_count": 31,
   "metadata": {},
   "outputs": [
    {
     "name": "stdout",
     "output_type": "stream",
     "text": [
      "請輸入一個數值：10\n",
      "<class 'int'>\n",
      "答對了\n"
     ]
    }
   ],
   "source": [
    "usr = int(input(\"請輸入一個數值：\"))\n",
    "print(type(usr))\n",
    "\n",
    "if usr == 10 :\n",
    "    print(\"答對了\")\n",
    "else :\n",
    "    print(\"答錯了\")"
   ]
  },
  {
   "cell_type": "code",
   "execution_count": 35,
   "metadata": {
    "scrolled": false
   },
   "outputs": [
    {
     "name": "stdout",
     "output_type": "stream",
     "text": [
      "請輸入一個數值：22235\n",
      "答錯了\n"
     ]
    }
   ],
   "source": [
    "usr = input(\"請輸入一個數值：\")\n",
    "str.isdigit\n",
    "if usr.isdigit():\n",
    "    if int(usr) == 10:\n",
    "        print(\"答對了\")\n",
    "    else :\n",
    "        print(\"答錯了\")\n",
    "else:\n",
    "    print(\"輸入錯誤，請輸入數值\")\n",
    "    #input(\"請再輸入一個數值：\")，如果要做到真的有輸入數值，那可能要加上while"
   ]
  },
  {
   "cell_type": "markdown",
   "metadata": {},
   "source": [
    "<font size=4>常用的隨機亂數</font>"
   ]
  },
  {
   "cell_type": "code",
   "execution_count": 36,
   "metadata": {},
   "outputs": [
    {
     "name": "stdout",
     "output_type": "stream",
     "text": [
      "0.5779465059479731\n",
      "[[-0.16593173 -0.12713842]\n",
      " [-0.531414   -0.63057186]\n",
      " [ 0.55854137  0.80939166]]\n",
      "[[[ 1.16245909  0.76125496 -0.15352669 -0.09104025]\n",
      "  [-0.59861623  1.20393989  0.40108692  0.0474649 ]]\n",
      "\n",
      " [[-1.3550557   0.0371816   0.67128033  0.17890541]\n",
      "  [-0.29145873  1.01555816 -0.58149538 -0.15592595]]\n",
      "\n",
      " [[ 0.0080926  -1.59772516  0.25400758 -0.42348847]\n",
      "  [ 0.8699099  -0.41801223 -0.2496089  -1.19507074]]]\n"
     ]
    }
   ],
   "source": [
    "print(np.random.random())\n",
    "print(np.random.randn(3, 2))\n",
    "print(np.random.randn(3, 2, 4))"
   ]
  },
  {
   "cell_type": "code",
   "execution_count": 37,
   "metadata": {},
   "outputs": [
    {
     "name": "stdout",
     "output_type": "stream",
     "text": [
      "19\n",
      "[14 14 15]\n"
     ]
    }
   ],
   "source": [
    "print(np.random.randint(11, 21))\n",
    "print(np.random.randint(11, 21, 3))   # [ ]  : list object"
   ]
  },
  {
   "cell_type": "code",
   "execution_count": 38,
   "metadata": {},
   "outputs": [
    {
     "name": "stdout",
     "output_type": "stream",
     "text": [
      "[1 5 3 2 4]\n",
      "[1 5 2 6 5 6 4 1 6 5]\n"
     ]
    }
   ],
   "source": [
    "print(np.random.choice([1,2,3,4,5,6],  5, replace=False))   # R : sample()\n",
    "print(np.random.choice([1,2,3,4,5,6], 10, replace=True))"
   ]
  },
  {
   "cell_type": "markdown",
   "metadata": {},
   "source": [
    "<font size=3>【練習】：電腦產生一個1-100的亂數，使用者猜猜看</font>\n",
    "- 答對\n",
    "- 距離5之內的 : 接近\n",
    "- 距離大於 5 : 太大\n",
    "- 距離大於-5 : 太小"
   ]
  },
  {
   "cell_type": "code",
   "execution_count": 43,
   "metadata": {},
   "outputs": [
    {
     "name": "stdout",
     "output_type": "stream",
     "text": [
      "79\n",
      "請輸入一個數值：79\n",
      "很接近咯\n"
     ]
    }
   ],
   "source": [
    "#比較不好的程式\n",
    "myans = np.random.randint(1,101)\n",
    "print(myans)\n",
    "\n",
    "usr = int(input(\"請輸入一個數值：\"))\n",
    "\n",
    "if usr == myans :\n",
    "    print(\"答對了\")\n",
    "elif abs(usr-myans)<=5 :\n",
    "    print(\"很接近咯\")\n",
    "elif usr-myans>5 :\n",
    "    print(\"太大了\")\n",
    "else :\n",
    "    print(\"太小了\")"
   ]
  },
  {
   "cell_type": "markdown",
   "metadata": {},
   "source": [
    "盡量將能改變的數值都設定成變數，方便重複使用"
   ]
  },
  {
   "cell_type": "code",
   "execution_count": 47,
   "metadata": {},
   "outputs": [
    {
     "name": "stdout",
     "output_type": "stream",
     "text": [
      "54\n",
      "請輸入一個1 ~ 100數值：100\n",
      "太大了\n"
     ]
    }
   ],
   "source": [
    "#修改後\n",
    "max_ = 100; min_ = 1\n",
    "\n",
    "myans = np.random.randint(min_, max_+1)\n",
    "print(myans)\n",
    "\n",
    "usr = int(input(\"請輸入一個{} ~ {}數值：\".format(min_, max_)))\n",
    "\n",
    "if usr == myans :\n",
    "    print(\"答對了\")\n",
    "elif abs(usr-myans) <= 5 :\n",
    "    print(\"很接近咯\")\n",
    "elif usr-myans > 5 :\n",
    "    print(\"太大了\")\n",
    "else :\n",
    "    print(\"太小了\")"
   ]
  },
  {
   "cell_type": "markdown",
   "metadata": {},
   "source": [
    "<font color=#0000FF>\n",
    "X if Condition（條件） else Y\n",
    "</font>"
   ]
  },
  {
   "cell_type": "code",
   "execution_count": 48,
   "metadata": {},
   "outputs": [
    {
     "name": "stdout",
     "output_type": "stream",
     "text": [
      "33\n",
      "不及格\n"
     ]
    }
   ],
   "source": [
    "score = np.random.randint(1, 101)\n",
    "print(score)\n",
    "\n",
    "print('及格' if score >= 60 else '不及格')"
   ]
  },
  {
   "cell_type": "code",
   "execution_count": 54,
   "metadata": {},
   "outputs": [
    {
     "name": "stdout",
     "output_type": "stream",
     "text": [
      "你的成績是：23，這次考試不及格喔\n"
     ]
    }
   ],
   "source": [
    "score = np.random.randint(1, 101)\n",
    "\n",
    "print('你的成績是：{}，這次考試{}喔'.format(score, ('及格' if score >= 60 else '不及格')))"
   ]
  },
  {
   "cell_type": "code",
   "execution_count": 50,
   "metadata": {},
   "outputs": [
    {
     "name": "stdout",
     "output_type": "stream",
     "text": [
      "score = 25 : 不及格\n"
     ]
    }
   ],
   "source": [
    "# 嚴重的錯誤示範，他跑了兩次的randint\n",
    "print('你的成績是：{}，這次考試{}喔'.format(np.random.randint(1, 101), '及格' if np.random.randint(1, 101) >= 60 else '不及格'))"
   ]
  },
  {
   "cell_type": "markdown",
   "metadata": {},
   "source": [
    "## <font color=#0000FF>比較 range(), np.linspace(), np.arange()</font>"
   ]
  },
  {
   "cell_type": "code",
   "execution_count": 15,
   "metadata": {},
   "outputs": [],
   "source": [
    "import numpy as np"
   ]
  },
  {
   "cell_type": "markdown",
   "metadata": {},
   "source": [
    "<font color=#0000FF>range() : <font color=#FF0000>只可用於整數</font>，start、stop、step，含起值、不含迄值</font>"
   ]
  },
  {
   "cell_type": "code",
   "execution_count": 16,
   "metadata": {},
   "outputs": [],
   "source": [
    "# range(stop) -> range object\n",
    "# range(start, stop[, step]) -> range object\n",
    "# Return an object that produces a sequence of integers from start (inclusive) to stop (exclusive) by step."
   ]
  },
  {
   "cell_type": "code",
   "execution_count": 55,
   "metadata": {},
   "outputs": [
    {
     "name": "stdout",
     "output_type": "stream",
     "text": [
      "range(0, 10)\n",
      "[0, 1, 2, 3, 4, 5, 6, 7, 8, 9]\n",
      "[11, 12, 13, 14, 15, 16, 17, 18, 19, 20]\n",
      "[11, 13, 15, 17, 19]\n"
     ]
    }
   ],
   "source": [
    "print(range(10))\n",
    "print(list(range(10)))\n",
    "print(list(range(11, 21)))\n",
    "print(list(range(11, 21, 2)))"
   ]
  },
  {
   "cell_type": "markdown",
   "metadata": {},
   "source": [
    "<font color=#0000FF>np.arange() : 可用於整數、浮點型態，start、stop、step，含起值、不含迄值</font>"
   ]
  },
  {
   "cell_type": "code",
   "execution_count": 17,
   "metadata": {},
   "outputs": [],
   "source": [
    "# np.arange([start,] stop[, step,], dtype=None) \n",
    "# Return evenly spaced values within a given interval.\n",
    "#\n",
    "# [note]\n",
    "# stop : number\n",
    "#     End of interval.  The interval does not include this value."
   ]
  },
  {
   "cell_type": "code",
   "execution_count": null,
   "metadata": {},
   "outputs": [],
   "source": [
    "print(np.arange(10))\n",
    "print(np.arange(11, 21))\n",
    "print(np.arange(11, 21, 2.5))"
   ]
  },
  {
   "cell_type": "markdown",
   "metadata": {},
   "source": [
    "<font color=#0000FF>np.linspace : 可用於整數、浮點型態，start、stop、<b><u>num</u></b>，，含起值、預設有含迄值(endpoint=True)</font>"
   ]
  },
  {
   "cell_type": "code",
   "execution_count": 18,
   "metadata": {},
   "outputs": [],
   "source": [
    "# np.linspace(start, stop, num=50, endpoint=True, retstep=False, dtype=None)\n",
    "# Return evenly spaced numbers over a specified interval.\n",
    "# \n",
    "# [note]\n",
    "# stop : scalar\n",
    "#     The end value of the sequence, unless `endpoint` is set to False.\n",
    "\n",
    "# np.linspace(start=1,stop=11,num=10)\n",
    "# np.linspace(start=1,stop=11,num=10,dtype=int)\n",
    "# np.linspace(start=1,stop=11,num=10,retstep=True,dtype=int)\n",
    "# np.linspace(start=1,stop=11,num=10,endpoint=False,retstep=True)"
   ]
  },
  {
   "cell_type": "code",
   "execution_count": null,
   "metadata": {},
   "outputs": [],
   "source": [
    "print(np.linspace(start=11, stop=30, num=20, endpoint=True)) #endpoint\n",
    "print(np.linspace(start=11, stop=30, num=20, endpoint=False))\n",
    "print(np.linspace(start=11, stop=30, num=20, endpoint=False, retstep=True))"
   ]
  },
  {
   "cell_type": "markdown",
   "metadata": {},
   "source": [
    "## <font color=#0000FF>迭代結構(Iteration)</font>"
   ]
  },
  {
   "cell_type": "markdown",
   "metadata": {
    "collapsed": true
   },
   "source": [
    "## <font color=#0000FF>for range 的使用(一)</font>\n",
    "* range()\n",
    "* np.linespace()  \n",
    "* np.arange()"
   ]
  },
  {
   "cell_type": "code",
   "execution_count": 57,
   "metadata": {},
   "outputs": [
    {
     "name": "stdout",
     "output_type": "stream",
     "text": [
      "*\n",
      "*\n",
      "*\n",
      "*\n",
      "*\n",
      "*\n",
      "*\n",
      "*\n",
      "*\n",
      "*\n"
     ]
    }
   ],
   "source": [
    "for _ in range(10) :      # _ : 代表匿名變數\n",
    "    print(\"*\")"
   ]
  },
  {
   "cell_type": "code",
   "execution_count": 58,
   "metadata": {},
   "outputs": [
    {
     "name": "stdout",
     "output_type": "stream",
     "text": [
      "i = 0\n",
      "i = 1\n",
      "i = 2\n",
      "i = 3\n",
      "i = 4\n",
      "i = 5\n",
      "i = 6\n",
      "i = 7\n",
      "i = 8\n",
      "i = 9\n"
     ]
    }
   ],
   "source": [
    "for i in range(10) :\n",
    "    print(\"i = {}\".format(i))"
   ]
  },
  {
   "cell_type": "code",
   "execution_count": 56,
   "metadata": {},
   "outputs": [
    {
     "name": "stdout",
     "output_type": "stream",
     "text": [
      "x=10\r"
     ]
    }
   ],
   "source": [
    "for x in range(1, 11):\n",
    "    print(\"x={}\".format(x), end = \"\\r\")\n",
    "    time.sleep(0.5)"
   ]
  },
  {
   "cell_type": "markdown",
   "metadata": {},
   "source": [
    "<font size=3>【練習】：99乘法表"
   ]
  },
  {
   "cell_type": "code",
   "execution_count": 60,
   "metadata": {},
   "outputs": [
    {
     "name": "stdout",
     "output_type": "stream",
     "text": [
      "1 * 1 = 1\n",
      "1 * 2 = 2\n",
      "1 * 3 = 3\n",
      "1 * 4 = 4\n",
      "1 * 5 = 5\n",
      "1 * 6 = 6\n",
      "1 * 7 = 7\n",
      "\n",
      "2 * 1 = 2\n",
      "2 * 2 = 4\n",
      "2 * 3 = 6\n",
      "2 * 4 = 8\n",
      "2 * 5 = 10\n",
      "2 * 6 = 12\n",
      "2 * 7 = 14\n",
      "\n",
      "3 * 1 = 3\n",
      "3 * 2 = 6\n",
      "3 * 3 = 9\n",
      "3 * 4 = 12\n",
      "3 * 5 = 15\n",
      "3 * 6 = 18\n",
      "3 * 7 = 21\n",
      "\n",
      "4 * 1 = 4\n",
      "4 * 2 = 8\n",
      "4 * 3 = 12\n",
      "4 * 4 = 16\n",
      "4 * 5 = 20\n",
      "4 * 6 = 24\n",
      "4 * 7 = 28\n",
      "\n",
      "5 * 1 = 5\n",
      "5 * 2 = 10\n",
      "5 * 3 = 15\n",
      "5 * 4 = 20\n",
      "5 * 5 = 25\n",
      "5 * 6 = 30\n",
      "5 * 7 = 35\n",
      "\n",
      "6 * 1 = 6\n",
      "6 * 2 = 12\n",
      "6 * 3 = 18\n",
      "6 * 4 = 24\n",
      "6 * 5 = 30\n",
      "6 * 6 = 36\n",
      "6 * 7 = 42\n",
      "\n",
      "7 * 1 = 7\n",
      "7 * 2 = 14\n",
      "7 * 3 = 21\n",
      "7 * 4 = 28\n",
      "7 * 5 = 35\n",
      "7 * 6 = 42\n",
      "7 * 7 = 49\n",
      "\n",
      "8 * 1 = 8\n",
      "8 * 2 = 16\n",
      "8 * 3 = 24\n",
      "8 * 4 = 32\n",
      "8 * 5 = 40\n",
      "8 * 6 = 48\n",
      "8 * 7 = 56\n",
      "\n",
      "9 * 1 = 9\n",
      "9 * 2 = 18\n",
      "9 * 3 = 27\n",
      "9 * 4 = 36\n",
      "9 * 5 = 45\n",
      "9 * 6 = 54\n",
      "9 * 7 = 63\n",
      "\n",
      "10 * 1 = 10\n",
      "10 * 2 = 20\n",
      "10 * 3 = 30\n",
      "10 * 4 = 40\n",
      "10 * 5 = 50\n",
      "10 * 6 = 60\n",
      "10 * 7 = 70\n",
      "\n"
     ]
    }
   ],
   "source": [
    "for i in range(1, 11):\n",
    "    for j in range(1,8):\n",
    "        print(\"{} * {} = {}\".format(i, j, i*j))\n",
    "    print()"
   ]
  },
  {
   "cell_type": "markdown",
   "metadata": {},
   "source": [
    "<font size=3>【作業】：電腦產生一個1-100的亂數，使用者猜猜看，利用for迴圈，猜10次，印出猜到的是第幾次</font>\n",
    "- 答對\n",
    "- 距離5之內的 : 接近\n",
    "- 距離大於 5 : 太大\n",
    "- 距離大於-5 : 太小"
   ]
  },
  {
   "cell_type": "code",
   "execution_count": null,
   "metadata": {},
   "outputs": [],
   "source": [
    "#修改後\n",
    "max_ = 100; min_ = 1\n",
    "\n",
    "myans = np.random.randint(min_, max_+1)\n",
    "print(myans)\n",
    "\n",
    "for i in range(1,11):\n",
    "    usr = int(input(\"請輸入一個{} ~ {}數值：\".format(min_, max_)))\n",
    "    if usr == myans :\n",
    "        yesyes = yesyes + 1 \n",
    "        print(\"猜第{}次，答對了，這是第{}次答對\".format(i, yesyes))\n",
    "    elif abs(usr-myans) <= 5 :\n",
    "        print(\"很接近咯\")\n",
    "    elif usr-myans > 5 :\n",
    "        print(\"太大了\")\n",
    "    else :\n",
    "        print(\"太小了\")\n",
    "print(\"在這10次中，一共猜對{}次\".format(yesyes))"
   ]
  },
  {
   "cell_type": "markdown",
   "metadata": {},
   "source": [
    "<font size=3>請將以下兩個 list 依據 element-wise 相加</font>\n",
    "\n",
    "- A = [1, 2, 3]\n",
    "- B = [4, 5, 6]"
   ]
  },
  {
   "cell_type": "code",
   "execution_count": 2,
   "metadata": {},
   "outputs": [
    {
     "data": {
      "text/plain": [
       "[1, 2, 3, 4, 5, 6]"
      ]
     },
     "execution_count": 2,
     "metadata": {},
     "output_type": "execute_result"
    }
   ],
   "source": [
    "A = [1, 2, 3]\n",
    "B = [4, 5, 6]\n",
    "A + B"
   ]
  },
  {
   "cell_type": "code",
   "execution_count": 3,
   "metadata": {
    "scrolled": true
   },
   "outputs": [
    {
     "name": "stdout",
     "output_type": "stream",
     "text": [
      "5\n",
      "7\n",
      "9\n"
     ]
    }
   ],
   "source": [
    "A = [1, 2, 3]\n",
    "B = [4, 5, 6]\n",
    "\n",
    "for i in range(3):\n",
    "    print(A[i] + B[i])"
   ]
  },
  {
   "cell_type": "markdown",
   "metadata": {},
   "source": [
    "<font size=3>請將以下兩個 list 依據 element-wise 相加</font>\n",
    "\n",
    "- A = [1, 2, 3]\n",
    "- B = [4, 5, 6, 7, 8]\n"
   ]
  },
  {
   "cell_type": "code",
   "execution_count": 6,
   "metadata": {},
   "outputs": [
    {
     "name": "stdout",
     "output_type": "stream",
     "text": [
      "5\n",
      "7\n",
      "9\n"
     ]
    },
    {
     "ename": "IndexError",
     "evalue": "list index out of range",
     "output_type": "error",
     "traceback": [
      "\u001b[1;31m---------------------------------------------------------------------------\u001b[0m",
      "\u001b[1;31mIndexError\u001b[0m                                Traceback (most recent call last)",
      "\u001b[1;32m<ipython-input-6-a2b44e7b12ae>\u001b[0m in \u001b[0;36m<module>\u001b[1;34m\u001b[0m\n\u001b[0;32m      3\u001b[0m \u001b[1;33m\u001b[0m\u001b[0m\n\u001b[0;32m      4\u001b[0m \u001b[1;32mfor\u001b[0m \u001b[0mi\u001b[0m \u001b[1;32min\u001b[0m \u001b[0mrange\u001b[0m\u001b[1;33m(\u001b[0m\u001b[1;36m5\u001b[0m\u001b[1;33m)\u001b[0m\u001b[1;33m:\u001b[0m\u001b[1;33m\u001b[0m\u001b[1;33m\u001b[0m\u001b[0m\n\u001b[1;32m----> 5\u001b[1;33m     \u001b[0mprint\u001b[0m\u001b[1;33m(\u001b[0m\u001b[0mA\u001b[0m\u001b[1;33m[\u001b[0m\u001b[0mi\u001b[0m\u001b[1;33m]\u001b[0m \u001b[1;33m+\u001b[0m \u001b[0mB\u001b[0m\u001b[1;33m[\u001b[0m\u001b[0mi\u001b[0m\u001b[1;33m]\u001b[0m\u001b[1;33m)\u001b[0m\u001b[1;33m\u001b[0m\u001b[1;33m\u001b[0m\u001b[0m\n\u001b[0m",
      "\u001b[1;31mIndexError\u001b[0m: list index out of range"
     ]
    }
   ],
   "source": [
    "A = [1, 2, 3]\n",
    "B = [4, 5, 6, 7, 8]\n",
    "\n",
    "n = max(len(A), len(B))\n",
    "print('n = {}'.format(n))\n",
    "\n",
    "for i in range(n):\n",
    "    print(A[i] + B[i])"
   ]
  },
  {
   "cell_type": "code",
   "execution_count": 7,
   "metadata": {},
   "outputs": [
    {
     "name": "stdout",
     "output_type": "stream",
     "text": [
      "n = 5\n",
      "1\n",
      "2\n",
      "3\n",
      "7\n",
      "8\n"
     ]
    }
   ],
   "source": [
    "A = [1, 2, 3]\n",
    "B = [4, 5, 6, 7, 8]\n",
    "\n",
    "n = max(len(A), len(B))\n",
    "print(\"n = {}\".format(n))\n",
    "\n",
    "for i in range(n):\n",
    "    print(A[i] if i < len(A) else 0 + \\\n",
    "         B[i] if i < len(B) else 0)"
   ]
  },
  {
   "cell_type": "markdown",
   "metadata": {},
   "source": [
    "讓他變成函式"
   ]
  },
  {
   "cell_type": "code",
   "execution_count": null,
   "metadata": {},
   "outputs": [],
   "source": [
    "def addlist(A,B):\n",
    "    n = max(len(A), len(B))\n",
    "    print(\"n = {}\".format(n))\n",
    "\n",
    "    for i in range(n):\n",
    "        print(A[i] if i < len(A) else 0 + \\\n",
    "             B[i] if i < len(B) else 0)"
   ]
  },
  {
   "cell_type": "markdown",
   "metadata": {},
   "source": [
    "不用print 用return"
   ]
  },
  {
   "cell_type": "code",
   "execution_count": 14,
   "metadata": {},
   "outputs": [],
   "source": [
    "def addlist(A,B):\n",
    "    n = max(len(A), len(B))\n",
    "    result = [] # 1. 宣告 result 存在, 2. 給初始值\n",
    "    \n",
    "    for i in range(n):\n",
    "        result = result + [(A[i] if i < len(A) else 0) + \\\n",
    "                           (B[i] if i < len(B) else 0)]\n",
    "    return result"
   ]
  },
  {
   "cell_type": "code",
   "execution_count": 15,
   "metadata": {
    "scrolled": true
   },
   "outputs": [
    {
     "data": {
      "text/plain": [
       "[5, 7, 9, 7, 8, 9]"
      ]
     },
     "execution_count": 15,
     "metadata": {},
     "output_type": "execute_result"
    }
   ],
   "source": [
    "X = [1, 2, 3]\n",
    "Y = [4, 5, 6, 7, 8, 9]\n",
    "addlist(X, Y)"
   ]
  },
  {
   "cell_type": "markdown",
   "metadata": {},
   "source": [
    "<font size=3>【練習】：3個list相加"
   ]
  },
  {
   "cell_type": "code",
   "execution_count": 14,
   "metadata": {},
   "outputs": [],
   "source": [
    "def addlist(A,B,C):\n",
    "    n = max(len(A), len(B), len(C))\n",
    "    result = [] # 1. 宣告 result 存在, 2. 給初始值\n",
    "    \n",
    "    for i in range(n):\n",
    "        result = result + [(A[i] if i < len(A) else 0) + \\\n",
    "                           (B[i] if i < len(B) else 0) + \\\n",
    "                           (C[i] if i < len(C) else 0)]\n",
    "    return result"
   ]
  },
  {
   "cell_type": "markdown",
   "metadata": {
    "collapsed": true
   },
   "source": [
    "## <font color=#0000FF>foreach 的使用(二)</font>"
   ]
  },
  {
   "cell_type": "code",
   "execution_count": null,
   "metadata": {},
   "outputs": [],
   "source": [
    "os.listdir()"
   ]
  },
  {
   "cell_type": "code",
   "execution_count": null,
   "metadata": {},
   "outputs": [],
   "source": [
    "os.listdir('c:\\\\')"
   ]
  },
  {
   "cell_type": "code",
   "execution_count": null,
   "metadata": {},
   "outputs": [],
   "source": [
    "lsts = os.listdir()\n",
    "n = len(lsts)\n",
    "for i in range(n) :\n",
    "    print(lsts[i])"
   ]
  },
  {
   "cell_type": "code",
   "execution_count": null,
   "metadata": {},
   "outputs": [],
   "source": [
    "lsts = os.listdir()\n",
    "for lst in lsts :\n",
    "    print(lst)"
   ]
  },
  {
   "cell_type": "markdown",
   "metadata": {
    "collapsed": true
   },
   "source": [
    "## <font color=#0000FF>for與 dict 的使用(三)</font>"
   ]
  },
  {
   "cell_type": "code",
   "execution_count": 16,
   "metadata": {},
   "outputs": [],
   "source": [
    "d1 = {\"a\":100, \"b\":200, \"a\":300, \"c\":400}       #{}：1.dict key:value, 2.set\n",
    "d2 = {3:[5,6,7], 5:100, 'a':500}"
   ]
  },
  {
   "cell_type": "markdown",
   "metadata": {},
   "source": [
    "<font size=3>抓取dict的value </font>\n",
    "- get method會自動回傳None（這個None可以改）\n",
    "- python 語法會出錯"
   ]
  },
  {
   "cell_type": "code",
   "execution_count": 17,
   "metadata": {},
   "outputs": [
    {
     "name": "stdout",
     "output_type": "stream",
     "text": [
      "300\n",
      "300\n"
     ]
    }
   ],
   "source": [
    "print(d1.get(\"a\"))     # 物件導向的寫法\n",
    "print(d1[\"a\"])         # Python的寫法"
   ]
  },
  {
   "cell_type": "code",
   "execution_count": 19,
   "metadata": {},
   "outputs": [
    {
     "name": "stdout",
     "output_type": "stream",
     "text": [
      "None\n"
     ]
    },
    {
     "ename": "KeyError",
     "evalue": "'X'",
     "output_type": "error",
     "traceback": [
      "\u001b[1;31m---------------------------------------------------------------------------\u001b[0m",
      "\u001b[1;31mKeyError\u001b[0m                                  Traceback (most recent call last)",
      "\u001b[1;32m<ipython-input-19-cc8916faa768>\u001b[0m in \u001b[0;36m<module>\u001b[1;34m\u001b[0m\n\u001b[0;32m      1\u001b[0m \u001b[0mprint\u001b[0m\u001b[1;33m(\u001b[0m\u001b[0md1\u001b[0m\u001b[1;33m.\u001b[0m\u001b[0mget\u001b[0m\u001b[1;33m(\u001b[0m\u001b[1;34m\"X\"\u001b[0m\u001b[1;33m)\u001b[0m\u001b[1;33m)\u001b[0m\u001b[1;33m\u001b[0m\u001b[1;33m\u001b[0m\u001b[0m\n\u001b[1;32m----> 2\u001b[1;33m \u001b[0mprint\u001b[0m\u001b[1;33m(\u001b[0m\u001b[0md1\u001b[0m\u001b[1;33m[\u001b[0m\u001b[1;34m\"X\"\u001b[0m\u001b[1;33m]\u001b[0m\u001b[1;33m)\u001b[0m\u001b[1;33m\u001b[0m\u001b[1;33m\u001b[0m\u001b[0m\n\u001b[0m",
      "\u001b[1;31mKeyError\u001b[0m: 'X'"
     ]
    }
   ],
   "source": [
    "print(d1.get(\"X\"))\n",
    "print(d1[\"X\"])"
   ]
  },
  {
   "cell_type": "code",
   "execution_count": 18,
   "metadata": {
    "scrolled": true
   },
   "outputs": [
    {
     "data": {
      "text/plain": [
       "[5, 6, 7]"
      ]
     },
     "execution_count": 18,
     "metadata": {},
     "output_type": "execute_result"
    }
   ],
   "source": [
    "d2.get(3)"
   ]
  },
  {
   "cell_type": "code",
   "execution_count": 22,
   "metadata": {},
   "outputs": [
    {
     "data": {
      "text/plain": [
       "dict_items([('a', 300), ('b', 200), ('c', 400)])"
      ]
     },
     "execution_count": 22,
     "metadata": {},
     "output_type": "execute_result"
    }
   ],
   "source": [
    "d1.items()"
   ]
  },
  {
   "cell_type": "code",
   "execution_count": 20,
   "metadata": {},
   "outputs": [
    {
     "name": "stdout",
     "output_type": "stream",
     "text": [
      "key:a, value:300\n",
      "key:b, value:200\n",
      "key:c, value:400\n"
     ]
    }
   ],
   "source": [
    "for k, v in d1.items():\n",
    "    print(\"key:{}, value:{}\".format(k, v))"
   ]
  },
  {
   "cell_type": "code",
   "execution_count": 21,
   "metadata": {
    "scrolled": true
   },
   "outputs": [
    {
     "name": "stdout",
     "output_type": "stream",
     "text": [
      "key:a, value:300\n",
      "key:b, value:200\n",
      "key:c, value:400\n"
     ]
    }
   ],
   "source": [
    "for (k, v) in d1.items():\n",
    "    print(\"key:{}, value:{}\".format(k, v))"
   ]
  },
  {
   "cell_type": "markdown",
   "metadata": {},
   "source": [
    "## <font color=#0000FF>string module</font>"
   ]
  },
  {
   "cell_type": "code",
   "execution_count": 23,
   "metadata": {},
   "outputs": [
    {
     "name": "stdout",
     "output_type": "stream",
     "text": [
      "abcdefghijklmnopqrstuvwxyzABCDEFGHIJKLMNOPQRSTUVWXYZ\n",
      "abcdefghijklmnopqrstuvwxyz\n",
      "ABCDEFGHIJKLMNOPQRSTUVWXYZ\n",
      "0123456789\n",
      "0123456789abcdefghijklmnopqrstuvwxyzABCDEFGHIJKLMNOPQRSTUVWXYZ!\"#$%&'()*+,-./:;<=>?@[\\]^_`{|}~ \t\n",
      "\r",
      "\u000b",
      "\f",
      "\n",
      "!\"#$%&'()*+,-./:;<=>?@[\\]^_`{|}~\n"
     ]
    }
   ],
   "source": [
    "import string\n",
    "print(string.ascii_letters)\n",
    "print(string.ascii_lowercase)\n",
    "print(string.ascii_uppercase)\n",
    "print(string.digits)\n",
    "print(string.printable)\n",
    "print(string.punctuation)"
   ]
  },
  {
   "cell_type": "markdown",
   "metadata": {},
   "source": [
    "## <font color=#0000FF>for與 string 使用(四)</font>"
   ]
  },
  {
   "cell_type": "code",
   "execution_count": 24,
   "metadata": {},
   "outputs": [
    {
     "name": "stdout",
     "output_type": "stream",
     "text": [
      "a b c d e f g h i j k l m n o p q r s t u v w x y z "
     ]
    }
   ],
   "source": [
    "for w in string.ascii_lowercase:\n",
    "    print(w, end=\" \")"
   ]
  },
  {
   "cell_type": "code",
   "execution_count": 25,
   "metadata": {},
   "outputs": [
    {
     "name": "stdout",
     "output_type": "stream",
     "text": [
      "['a', 'b', 'c', 'd', 'e', 'f', 'g', 'h', 'i', 'j', 'k', 'l', 'm', 'n', 'o', 'p', 'q', 'r', 's', 't', 'u', 'v', 'w', 'x', 'y', 'z']\n"
     ]
    }
   ],
   "source": [
    "print(list(string.ascii_lowercase))"
   ]
  },
  {
   "cell_type": "code",
   "execution_count": 26,
   "metadata": {},
   "outputs": [
    {
     "name": "stdout",
     "output_type": "stream",
     "text": [
      "['這', '是', 'P', 'y', 't', 'h', 'o', 'n']\n"
     ]
    }
   ],
   "source": [
    "lst = list(\"這是Python\")\n",
    "print(lst)"
   ]
  },
  {
   "cell_type": "code",
   "execution_count": 27,
   "metadata": {},
   "outputs": [
    {
     "data": {
      "text/plain": [
       "'這|是|P|y|t|h|o|n'"
      ]
     },
     "execution_count": 27,
     "metadata": {},
     "output_type": "execute_result"
    }
   ],
   "source": [
    "\"|\".join(lst)"
   ]
  },
  {
   "cell_type": "markdown",
   "metadata": {},
   "source": [
    "## <font color=#0000FF>for與 list 使用(五)</font>\n",
    "- [有關在 matplotlib 顯示數學表示式 (LaTex)](https://wizardforcel.gitbooks.io/matplotlib-user-guide/4.6.html)"
   ]
  },
  {
   "cell_type": "markdown",
   "metadata": {
    "collapsed": true
   },
   "source": [
    "<font color=#0000FF>寫一個以下數列的和</font>\n",
    "- $\\sum_{x=1}^{20}x^2$\n",
    "- $\\sum_{x=1}^{20}\\sqrt{x}$\n",
    "- $\\sum_{x=1}^{20}\\frac{1}{x}$"
   ]
  },
  {
   "cell_type": "code",
   "execution_count": 30,
   "metadata": {},
   "outputs": [
    {
     "name": "stdout",
     "output_type": "stream",
     "text": [
      "2870\n"
     ]
    }
   ],
   "source": [
    "sum_ = 0\n",
    "for i in range(1, 21):\n",
    "    sum_ = sum_ + i**2\n",
    "print(sum_)"
   ]
  },
  {
   "cell_type": "code",
   "execution_count": 37,
   "metadata": {},
   "outputs": [
    {
     "data": {
      "text/plain": [
       "[1, 2, 3, 4, 5, 6, 7, 8, 9, 10, 11, 12, 13, 14, 15, 16, 17, 18, 19, 20]"
      ]
     },
     "execution_count": 37,
     "metadata": {},
     "output_type": "execute_result"
    }
   ],
   "source": [
    "[x for x in range(1,21)]"
   ]
  },
  {
   "cell_type": "code",
   "execution_count": 29,
   "metadata": {},
   "outputs": [
    {
     "data": {
      "text/plain": [
       "2870"
      ]
     },
     "execution_count": 29,
     "metadata": {},
     "output_type": "execute_result"
    }
   ],
   "source": [
    "sum([x**2 for x in range(1, 21)])"
   ]
  },
  {
   "cell_type": "code",
   "execution_count": 33,
   "metadata": {},
   "outputs": [
    {
     "data": {
      "text/plain": [
       "61.66597781141981"
      ]
     },
     "execution_count": 33,
     "metadata": {},
     "output_type": "execute_result"
    }
   ],
   "source": [
    "sum([x**(1/2) for x in range(1, 21)])"
   ]
  },
  {
   "cell_type": "code",
   "execution_count": 35,
   "metadata": {
    "scrolled": false
   },
   "outputs": [
    {
     "data": {
      "text/plain": [
       "3.597739657143682"
      ]
     },
     "execution_count": 35,
     "metadata": {},
     "output_type": "execute_result"
    }
   ],
   "source": [
    "sum([(1/x) for x in range(1, 21)])"
   ]
  },
  {
   "cell_type": "markdown",
   "metadata": {},
   "source": [
    "<font size=3>【練習題】請將以下的文章整理，去除空白，換行符號(\\n)</font>"
   ]
  },
  {
   "cell_type": "markdown",
   "metadata": {},
   "source": [
    "【方法一】用replace替換，很不好的寫法"
   ]
  },
  {
   "cell_type": "code",
   "execution_count": 54,
   "metadata": {},
   "outputs": [],
   "source": [
    "news = \"\"\"\n",
    "苗栗警分局15日傍晚接獲通報，苗栗市貓貍山公園有民眾需要協助，南苗派出所員警趕往現場，發現21名乘客手足無措，因為原本載送他們的遊覽車已自行離去，領隊臨時調不到其他車輛前往，眼看天色漸暗，不知如何是好。\n",
    "\n",
    "警方調查，這群來自台北的乘客相約出遊，最後一站走訪苗栗市功維敘隧道，疑似乘客希望領隊請遊覽車司機把車開下山接駁，但司機認為，山下無法停車，要乘客走回山上坐車，雙方僵持不下，最後遊覽車司機竟掛電話直接把車開走。\n",
    "\n",
    "遭丟包的乘客在貓貍山公園枯等1個多小時後，向警方求助，找來5部計程車載往後龍高鐵站，再轉搭高鐵返回台北。當時氣憤的乘客曾向員警詢問，東西都還在遊覽車上，擔心物品遭竊，還要多花近新台幣500元車資，是否可提供報案紀錄，警方則回應，相關案情都有工作紀錄，可作為日後求償依據。\n",
    "\n",
    "苗栗縣政府消保官王德基表示，針對這起事件，遊覽車司機「不管怎麼樣都不可以把遊客丟包」，如果消費者因此產生額外的交通費用及損失，可向消保官申訴、求償。\n",
    "\"\"\""
   ]
  },
  {
   "cell_type": "code",
   "execution_count": 55,
   "metadata": {
    "scrolled": false
   },
   "outputs": [
    {
     "data": {
      "text/plain": [
       "'苗栗警分局15日傍晚接獲通報苗栗市貓貍山公園有民眾需要協助南苗派出所員警趕往現場發現21名乘客手足無措因為原本載送他們的遊覽車已自行離去領隊臨時調不到其他車輛前往眼看天色漸暗不知如何是好警方調查這群來自台北的乘客相約出遊最後一站走訪苗栗市功維敘隧道疑似乘客希望領隊請遊覽車司機把車開下山接駁但司機認為山下無法停車要乘客走回山上坐車雙方僵持不下最後遊覽車司機竟掛電話直接把車開走遭丟包的乘客在貓貍山公園枯等1個多小時後向警方求助找來5部計程車載往後龍高鐵站再轉搭高鐵返回台北當時氣憤的乘客曾向員警詢問東西都還在遊覽車上擔心物品遭竊還要多花近新台幣500元車資是否可提供報案紀錄警方則回應相關案情都有工作紀錄可作為日後求償依據苗栗縣政府消保官王德基表示針對這起事件遊覽車司機「不管怎麼樣都不可以把遊客丟包」如果消費者因此產生額外的交通費用及損失可向消保官申訴、求償'"
      ]
     },
     "execution_count": 55,
     "metadata": {},
     "output_type": "execute_result"
    }
   ],
   "source": [
    "news = news.replace(\"，\", \"\")\n",
    "news = news.replace(\"\\n\", \"\") \n",
    "news = news.replace(\"。\", \"\") \n",
    "news"
   ]
  },
  {
   "cell_type": "markdown",
   "metadata": {},
   "source": [
    "【方法二】精簡的.replace"
   ]
  },
  {
   "cell_type": "code",
   "execution_count": 56,
   "metadata": {},
   "outputs": [],
   "source": [
    "news = \"\"\"\n",
    "苗栗警分局15日傍晚接獲通報，苗栗市貓貍山公園有民眾需要協助，南苗派出所員警趕往現場，發現21名乘客手足無措，因為原本載送他們的遊覽車已自行離去，領隊臨時調不到其他車輛前往，眼看天色漸暗，不知如何是好。\n",
    "\n",
    "警方調查，這群來自台北的乘客相約出遊，最後一站走訪苗栗市功維敘隧道，疑似乘客希望領隊請遊覽車司機把車開下山接駁，但司機認為，山下無法停車，要乘客走回山上坐車，雙方僵持不下，最後遊覽車司機竟掛電話直接把車開走。\n",
    "\n",
    "遭丟包的乘客在貓貍山公園枯等1個多小時後，向警方求助，找來5部計程車載往後龍高鐵站，再轉搭高鐵返回台北。當時氣憤的乘客曾向員警詢問，東西都還在遊覽車上，擔心物品遭竊，還要多花近新台幣500元車資，是否可提供報案紀錄，警方則回應，相關案情都有工作紀錄，可作為日後求償依據。\n",
    "\n",
    "苗栗縣政府消保官王德基表示，針對這起事件，遊覽車司機「不管怎麼樣都不可以把遊客丟包」，如果消費者因此產生額外的交通費用及損失，可向消保官申訴、求償。\n",
    "\"\"\""
   ]
  },
  {
   "cell_type": "code",
   "execution_count": 57,
   "metadata": {
    "scrolled": true
   },
   "outputs": [
    {
     "data": {
      "text/plain": [
       "'苗栗警分局15日傍晚接獲通報苗栗市貓貍山公園有民眾需要協助南苗派出所員警趕往現場發現21名乘客手足無措因為原本載送他們的遊覽車已自行離去領隊臨時調不到其他車輛前往眼看天色漸暗不知如何是好警方調查這群來自台北的乘客相約出遊最後一站走訪苗栗市功維敘隧道疑似乘客希望領隊請遊覽車司機把車開下山接駁但司機認為山下無法停車要乘客走回山上坐車雙方僵持不下最後遊覽車司機竟掛電話直接把車開走遭丟包的乘客在貓貍山公園枯等1個多小時後向警方求助找來5部計程車載往後龍高鐵站再轉搭高鐵返回台北當時氣憤的乘客曾向員警詢問東西都還在遊覽車上擔心物品遭竊還要多花近新台幣500元車資是否可提供報案紀錄警方則回應相關案情都有工作紀錄可作為日後求償依據苗栗縣政府消保官王德基表示針對這起事件遊覽車司機「不管怎麼樣都不可以把遊客丟包」如果消費者因此產生額外的交通費用及損失可向消保官申訴、求償'"
      ]
     },
     "execution_count": 57,
     "metadata": {},
     "output_type": "execute_result"
    }
   ],
   "source": [
    "news.replace('\\n', '').replace('，', '').replace('。','')"
   ]
  },
  {
   "cell_type": "code",
   "execution_count": 57,
   "metadata": {
    "scrolled": true
   },
   "outputs": [
    {
     "data": {
      "text/plain": [
       "'苗栗警分局15日傍晚接獲通報苗栗市貓貍山公園有民眾需要協助南苗派出所員警趕往現場發現21名乘客手足無措因為原本載送他們的遊覽車已自行離去領隊臨時調不到其他車輛前往眼看天色漸暗不知如何是好警方調查這群來自台北的乘客相約出遊最後一站走訪苗栗市功維敘隧道疑似乘客希望領隊請遊覽車司機把車開下山接駁但司機認為山下無法停車要乘客走回山上坐車雙方僵持不下最後遊覽車司機竟掛電話直接把車開走遭丟包的乘客在貓貍山公園枯等1個多小時後向警方求助找來5部計程車載往後龍高鐵站再轉搭高鐵返回台北當時氣憤的乘客曾向員警詢問東西都還在遊覽車上擔心物品遭竊還要多花近新台幣500元車資是否可提供報案紀錄警方則回應相關案情都有工作紀錄可作為日後求償依據苗栗縣政府消保官王德基表示針對這起事件遊覽車司機「不管怎麼樣都不可以把遊客丟包」如果消費者因此產生額外的交通費用及損失可向消保官申訴、求償'"
      ]
     },
     "execution_count": 57,
     "metadata": {},
     "output_type": "execute_result"
    }
   ],
   "source": [
    "news.replace('\\n', '')\\\n",
    "    .replace('，', '')\\\n",
    "    .replace('。','')"
   ]
  },
  {
   "cell_type": "markdown",
   "metadata": {},
   "source": [
    "【方法三】利用list和join"
   ]
  },
  {
   "cell_type": "code",
   "execution_count": 58,
   "metadata": {},
   "outputs": [],
   "source": [
    "news = \"\"\"\n",
    "苗栗警分局15日傍晚接獲通報，苗栗市貓貍山公園有民眾需要協助，南苗派出所員警趕往現場，發現21名乘客手足無措，因為原本載送他們的遊覽車已自行離去，領隊臨時調不到其他車輛前往，眼看天色漸暗，不知如何是好。\n",
    "\n",
    "警方調查，這群來自台北的乘客相約出遊，最後一站走訪苗栗市功維敘隧道，疑似乘客希望領隊請遊覽車司機把車開下山接駁，但司機認為，山下無法停車，要乘客走回山上坐車，雙方僵持不下，最後遊覽車司機竟掛電話直接把車開走。\n",
    "\n",
    "遭丟包的乘客在貓貍山公園枯等1個多小時後，向警方求助，找來5部計程車載往後龍高鐵站，再轉搭高鐵返回台北。當時氣憤的乘客曾向員警詢問，東西都還在遊覽車上，擔心物品遭竊，還要多花近新台幣500元車資，是否可提供報案紀錄，警方則回應，相關案情都有工作紀錄，可作為日後求償依據。\n",
    "\n",
    "苗栗縣政府消保官王德基表示，針對這起事件，遊覽車司機「不管怎麼樣都不可以把遊客丟包」，如果消費者因此產生額外的交通費用及損失，可向消保官申訴、求償。\n",
    "\"\"\""
   ]
  },
  {
   "cell_type": "code",
   "execution_count": 59,
   "metadata": {},
   "outputs": [
    {
     "data": {
      "text/plain": [
       "'苗栗警分局日傍晚接獲通報苗栗市貓貍山公園有民眾需要協助南苗派出所員警趕往現場發現名乘客手足無措因為原本載送他們的遊覽車已自行離去領隊臨時調不到其他車輛前往眼看天色漸暗不知如何是好警方調查這群來自台北的乘客相約出遊最後一站走訪苗栗市功維敘隧道疑似乘客希望領隊請遊覽車司機把車開下山接駁但司機認為山下無法停車要乘客走回山上坐車雙方僵持不下最後遊覽車司機竟掛電話直接把車開走遭丟包的乘客在貓貍山公園枯等個多小時後向警方求助找來部計程車載往後龍高鐵站再轉搭高鐵返回台北當時氣憤的乘客曾向員警詢問東西都還在遊覽車上擔心物品遭竊還要多花近新台幣元車資是否可提供報案紀錄警方則回應相關案情都有工作紀錄可作為日後求償依據苗栗縣政府消保官王德基表示針對這起事件遊覽車司機「不管怎麼樣都不可以把遊客丟包」如果消費者因此產生額外的交通費用及損失可向消保官申訴、求償'"
      ]
     },
     "execution_count": 59,
     "metadata": {},
     "output_type": "execute_result"
    }
   ],
   "source": [
    "stop_words = ['\\n', '，', '。'] + list(string.digits)\n",
    "''.join([w for w in news if w not in stop_words])"
   ]
  },
  {
   "cell_type": "markdown",
   "metadata": {},
   "source": [
    "## <font color=#0000FF>for與 list、if 混合使用(六)</font>"
   ]
  },
  {
   "cell_type": "markdown",
   "metadata": {},
   "source": [
    "<font size = 3>請列出1-50之間3的倍數</font>"
   ]
  },
  {
   "cell_type": "code",
   "execution_count": 62,
   "metadata": {},
   "outputs": [
    {
     "data": {
      "text/plain": [
       "[3, 6, 9, 12, 15, 18, 21, 24, 27, 30, 33, 36, 39, 42, 45, 48]"
      ]
     },
     "execution_count": 62,
     "metadata": {},
     "output_type": "execute_result"
    }
   ],
   "source": [
    "n = 50\n",
    "[x for x in range(1, n + 1) if x%3 == 0]"
   ]
  },
  {
   "cell_type": "markdown",
   "metadata": {},
   "source": [
    "<font size = 3>請列出 1-50 之間</font> \n",
    "\n",
    "- 偶數 : 加 1\n",
    "- 奇數 : 乘 2"
   ]
  },
  {
   "cell_type": "code",
   "execution_count": 63,
   "metadata": {},
   "outputs": [
    {
     "name": "stdout",
     "output_type": "stream",
     "text": [
      "[2, 3, 6, 5, 10, 7, 14, 9, 18, 11, 22, 13, 26, 15, 30, 17, 34, 19, 38, 21, 42, 23, 46, 25, 50, 27, 54, 29, 58, 31, 62, 33, 66, 35, 70, 37, 74, 39, 78, 41, 82, 43, 86, 45, 90, 47, 94, 49, 98, 51]\n"
     ]
    }
   ],
   "source": [
    "print([x+1 if x%2==0 else x*2 for x in range(1,51)])"
   ]
  },
  {
   "cell_type": "markdown",
   "metadata": {},
   "source": [
    "## <font color=#0000FF>nested (巢狀) for 使用(七)</font>"
   ]
  },
  {
   "cell_type": "code",
   "execution_count": 64,
   "metadata": {},
   "outputs": [
    {
     "data": {
      "text/plain": [
       "[(1, 11),\n",
       " (1, 12),\n",
       " (1, 13),\n",
       " (1, 14),\n",
       " (1, 15),\n",
       " (2, 11),\n",
       " (2, 12),\n",
       " (2, 13),\n",
       " (2, 14),\n",
       " (2, 15),\n",
       " (3, 11),\n",
       " (3, 12),\n",
       " (3, 13),\n",
       " (3, 14),\n",
       " (3, 15),\n",
       " (4, 11),\n",
       " (4, 12),\n",
       " (4, 13),\n",
       " (4, 14),\n",
       " (4, 15),\n",
       " (5, 11),\n",
       " (5, 12),\n",
       " (5, 13),\n",
       " (5, 14),\n",
       " (5, 15)]"
      ]
     },
     "execution_count": 64,
     "metadata": {},
     "output_type": "execute_result"
    }
   ],
   "source": [
    "[(x, y) for x in range(1, 6) for y in range(11, 16)]    #()：tuple"
   ]
  },
  {
   "cell_type": "markdown",
   "metadata": {},
   "source": [
    "<font size=3>使用 zip() 合併多個物件</font>"
   ]
  },
  {
   "cell_type": "code",
   "execution_count": 65,
   "metadata": {},
   "outputs": [
    {
     "data": {
      "text/plain": [
       "[(1, 11, 21), (2, 12, 22), (3, 13, 23), (4, 14, 24), (5, 15, 25)]"
      ]
     },
     "execution_count": 65,
     "metadata": {},
     "output_type": "execute_result"
    }
   ],
   "source": [
    "X = range( 1,  6)\n",
    "Y = range(11, 16)\n",
    "Z = range(21, 26)\n",
    "list(zip(X, Y, Z))"
   ]
  },
  {
   "cell_type": "code",
   "execution_count": 68,
   "metadata": {},
   "outputs": [
    {
     "data": {
      "text/plain": [
       "[(1, 11, 21), (2, 12, 22), (3, 13, 23), (4, 14, 24), (5, 15, 25)]"
      ]
     },
     "execution_count": 68,
     "metadata": {},
     "output_type": "execute_result"
    }
   ],
   "source": [
    "X = range( 1,  6)\n",
    "Y = range(11, 16)\n",
    "Z = range(21, 26)\n",
    "[(x, y, z) for (x, y, z) in zip(X, Y, Z)]"
   ]
  },
  {
   "cell_type": "markdown",
   "metadata": {
    "collapsed": true
   },
   "source": [
    "<font size = 3 color=#0000FF>【練習題】撰寫一個 質數 的判斷程式</font>"
   ]
  },
  {
   "cell_type": "markdown",
   "metadata": {},
   "source": [
    "<font size = 3> for ／ while迴圈可以使用： </font>\n",
    "\n",
    "- break : 直接跳離開迴圈之外\n",
    "- continue : 直接跳回至 for / while 之處"
   ]
  },
  {
   "cell_type": "code",
   "execution_count": 71,
   "metadata": {},
   "outputs": [
    {
     "name": "stdout",
     "output_type": "stream",
     "text": [
      "True\n"
     ]
    }
   ],
   "source": [
    "num = 23\n",
    "\n",
    "isPrimeFlag = True     #先假設他是質數\n",
    "for f in range(2, num):\n",
    "    if num % f == 0:\n",
    "        isPrimeFlag = False\n",
    "        break\n",
    "print(isPrimeFlag)"
   ]
  },
  {
   "cell_type": "markdown",
   "metadata": {},
   "source": [
    "<font size=3> 改寫成函數</font>"
   ]
  },
  {
   "cell_type": "code",
   "execution_count": 74,
   "metadata": {},
   "outputs": [],
   "source": [
    "def isPrime(num):\n",
    "    #num = 23\n",
    "    isPrimeFlag = True     #先假設他是質數\n",
    "    for f in range(2, num):\n",
    "        if num % f == 0:\n",
    "            isPrimeFlag = False\n",
    "            break\n",
    "    return isPrimeFlag"
   ]
  },
  {
   "cell_type": "code",
   "execution_count": 79,
   "metadata": {},
   "outputs": [
    {
     "data": {
      "text/plain": [
       "True"
      ]
     },
     "execution_count": 79,
     "metadata": {},
     "output_type": "execute_result"
    }
   ],
   "source": [
    "isPrime(53)"
   ]
  },
  {
   "cell_type": "markdown",
   "metadata": {},
   "source": [
    "<font size=3> 改用while迴圈</font>"
   ]
  },
  {
   "cell_type": "code",
   "execution_count": 82,
   "metadata": {},
   "outputs": [
    {
     "name": "stdout",
     "output_type": "stream",
     "text": [
      "True\n"
     ]
    }
   ],
   "source": [
    "num = 23\n",
    "isPrimeFlag = True\n",
    "f = 2\n",
    "while isPrimeFlag and f < num:\n",
    "    if num % f == 0:\n",
    "        isPrimeFlag = False\n",
    "    f = f + 1\n",
    "print(isPrimeFlag)  "
   ]
  },
  {
   "cell_type": "code",
   "execution_count": 83,
   "metadata": {},
   "outputs": [],
   "source": [
    "def isPrime2(num):\n",
    "    isPrimeFlag = True\n",
    "    f = 2\n",
    "    while isPrimeFlag and f < num:\n",
    "        if num % f == 0:\n",
    "            isPrimeFlag = False\n",
    "        f = f + 1\n",
    "    return isPrimeFlag"
   ]
  },
  {
   "cell_type": "code",
   "execution_count": 85,
   "metadata": {
    "scrolled": true
   },
   "outputs": [
    {
     "data": {
      "text/plain": [
       "False"
      ]
     },
     "execution_count": 85,
     "metadata": {},
     "output_type": "execute_result"
    }
   ],
   "source": [
    "isPrime2(25)"
   ]
  },
  {
   "cell_type": "markdown",
   "metadata": {},
   "source": [
    "<font size=3>【練習】請輸入一個字串，其中包含文數字，過濾後，只輸出數字的部分</font>"
   ]
  },
  {
   "cell_type": "code",
   "execution_count": 102,
   "metadata": {
    "scrolled": true
   },
   "outputs": [
    {
     "data": {
      "text/plain": [
       "'2345'"
      ]
     },
     "execution_count": 102,
     "metadata": {},
     "output_type": "execute_result"
    }
   ],
   "source": [
    "mystr = \"234ad5\"\n",
    "\"\".join([x for x in mystr if x in list(string.digits)])"
   ]
  }
 ],
 "metadata": {
  "kernelspec": {
   "display_name": "Python 3",
   "language": "python",
   "name": "python3"
  },
  "language_info": {
   "codemirror_mode": {
    "name": "ipython",
    "version": 3
   },
   "file_extension": ".py",
   "mimetype": "text/x-python",
   "name": "python",
   "nbconvert_exporter": "python",
   "pygments_lexer": "ipython3",
   "version": "3.8.5"
  }
 },
 "nbformat": 4,
 "nbformat_minor": 2
}
