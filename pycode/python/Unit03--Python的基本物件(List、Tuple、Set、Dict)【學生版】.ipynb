{
 "cells": [
  {
   "cell_type": "markdown",
   "metadata": {},
   "source": [
    "【臺北大學】Python程式設計<br>\n",
    "【授課老師】[陳祥輝 (Email : HsiangHui.Chen@gmail.com)](mailto:HsiangHui.Chen@gmail.com)<br>\n",
    "【facebook】[陳祥輝老師的臉書 (歡迎加好友)](https://goo.gl/osivhx)<br>\n",
    "【參考書籍】[從零開始學Python程式設計（適用Python 3.5以上）](http://www.drmaster.com.tw/Bookinfo.asp?BookID=MP31821)<br>\n",
    "【主要議題】Python的基本物件(List/Tuple/Set/Dict/Strings)"
   ]
  },
  {
   "cell_type": "markdown",
   "metadata": {},
   "source": [
    "【重點提要】\n",
    "* List : <font color=#FF0000>[ ]</font>\n",
    "* Tuple : <font color=#FF0000>( )</font>\n",
    "* Set : <font color=#FF0000>{ }</font>\n",
    "* Dict : <font color=#FF0000>{ }</font>\n",
    "* Strings : \n",
    "\n",
    "【參考資料】\n",
    "* [The Python Tutorial -- Data Structures](https://docs.python.org/3/tutorial/datastructures.html)\n",
    "* [tutorialspoint]\n",
    "    * [Python - Lists](https://www.tutorialspoint.com/python/python_lists.htm)\n",
    "    * [Python - Tuples](https://www.tutorialspoint.com/python/python_tuples.htm)\n",
    "    * [Python - Dictionary](https://www.tutorialspoint.com/python/python_dictionary.htm)\n",
    "    * [Python - Strings](https://www.tutorialspoint.com/python/python_strings.htm)\n",
    "* [Basic formatting of String](https://pyformat.info/)    "
   ]
  },
  {
   "cell_type": "markdown",
   "metadata": {},
   "source": [
    "## <font color=#0000FF>List [ ]</font>\n",
    "<font color=#0000FF>[The <u>list</u> data type has some more methods. Here are all of the methods of <u>list</u> objects:](https://docs.python.org/3/tutorial/datastructures.html)</font>\n",
    "* **list.append(x)**\n",
    "    * Add an item to the end of the list. \n",
    "    * Equivalent to <font color=#FF0000>a[len(a):] = [x]</font>.\n",
    "\n",
    "* **list.extend(iterable)**\n",
    "    * Extend the list by appending all the items from the iterable. \n",
    "    * Equivalent to <font color=#F0000>a[len(a):] = iterable</font>.\n",
    "\n",
    "* **list.insert(i, x)**\n",
    "    * Insert an item at a given position. \n",
    "    * The first argument is the index of the element before which to insert, so a.insert(0, x) inserts at the front of the list, and a.insert(len(a), x) is equivalent to a.append(x).\n",
    "\n",
    "* **list.remove(x)**\n",
    "    * Remove the ***first item*** from the list whose value is x. It is an error if there is no such item.\n",
    "\n",
    "* **list.pop([i])**\n",
    "    * Remove the item at the given position in the list, and return it. If no index is specified, a.pop() removes and returns the last item in the list. (The square brackets around the i in the method signature denote that the parameter is optional, not that you should type square brackets at that position.\n",
    "\n",
    "* **list.clear()**\n",
    "    * Remove all items from the list. Equivalent to <font color=#F0000>del a[:]</font>.\n",
    "\n",
    "* **list.index(x[, start[, end]])**\n",
    "    * Return zero-based index in the list of the first item whose value is x. Raises a ValueError if there is no such item.\n",
    "    * The optional arguments start and end are interpreted as in the slice notation and are used to limit the search to a particular subsequence of the list. The returned index is computed relative to the beginning of the full sequence rather than the start argument.\n",
    "\n",
    "* **list.count(x)**\n",
    "    * Return the number of times x appears in the list.\n",
    "\n",
    "* **list.sort(key=None, reverse=False)**\n",
    "    * Sort the items of the list <font color=#F0000>in place</font> (the arguments can be used for sort customization, see sorted() for their explanation).\n",
    "\n",
    "* **list.reverse()**\n",
    "    * Reverse the elements of the list <font color=#F0000>in place</font>.\n",
    "\n",
    "* **list.copy()**\n",
    "    * Return a shallow copy of the list. \n",
    "    * Equivalent to <font color=#F0000>a[:]</font>."
   ]
  },
  {
   "cell_type": "code",
   "execution_count": 1,
   "metadata": {},
   "outputs": [
    {
     "name": "stdout",
     "output_type": "stream",
     "text": [
      "【日期時間】2021/03/30 13:14:44\n",
      "【工作目錄】C:\\Users\\NTPU Computer Center\\Desktop\n",
      "【主機名稱】1MF08-06 (10.137.110.6)\n",
      "【Python】3.8.5\n"
     ]
    },
    {
     "data": {
      "application/javascript": [
       "IPython.notebook.set_autosave_interval(120000)"
      ]
     },
     "metadata": {},
     "output_type": "display_data"
    },
    {
     "name": "stdout",
     "output_type": "stream",
     "text": [
      "Autosaving every 120 seconds\n"
     ]
    }
   ],
   "source": [
    "# -*- coding: utf-8 -*-\n",
    "from platform import python_version\n",
    "import os, time, socket\n",
    "\n",
    "print(\"【日期時間】{}\".format(time.strftime(\"%Y/%m/%d %H:%M:%S\")))\n",
    "print(\"【工作目錄】{}\".format(os.getcwd()))\n",
    "print(\"【主機名稱】{} ({})\".format(socket.gethostname(),socket.gethostbyname(socket.gethostname())))\n",
    "print(\"【Python】{}\".format(python_version()))\n",
    "\n",
    "%autosave 120"
   ]
  },
  {
   "cell_type": "markdown",
   "metadata": {},
   "source": [
    "<font color=#0000FF>list的基本認識</font>"
   ]
  },
  {
   "cell_type": "markdown",
   "metadata": {},
   "source": [
    "**extend(list)：將另一個list中的每個元素插入**"
   ]
  },
  {
   "cell_type": "code",
   "execution_count": 6,
   "metadata": {},
   "outputs": [
    {
     "name": "stdout",
     "output_type": "stream",
     "text": [
      "[1, 2, 3, 4, 5, 6]\n",
      "[1, 2, 3, 4, 5, 6]\n"
     ]
    }
   ],
   "source": [
    "lstA = [1, 2, 3]\n",
    "lstB = [4, 5, 6]\n",
    "print(lstA + lstB)        # python 的寫法\n",
    "lstA.extend(lstB)         # 物件導向的寫法\n",
    "print(lstA)"
   ]
  },
  {
   "cell_type": "markdown",
   "metadata": {},
   "source": [
    "**append(元素)：將物件加入list中的最後一個元素**"
   ]
  },
  {
   "cell_type": "code",
   "execution_count": 7,
   "metadata": {
    "scrolled": true
   },
   "outputs": [
    {
     "name": "stdout",
     "output_type": "stream",
     "text": [
      "[1, 2, 3, 10]\n",
      "[1, 2, 3, 10, [4, 5, 6]]\n",
      "5\n"
     ]
    }
   ],
   "source": [
    "lstA = [1, 2, 3]\n",
    "lstB = [4, 5, 6]\n",
    "lstA.append(10)\n",
    "print(lstA)\n",
    "lstA.append(lstB)     #將元素加入\n",
    "print(lstA)\n",
    "print(len(lstA))"
   ]
  },
  {
   "cell_type": "markdown",
   "metadata": {},
   "source": [
    "**insert(位置， 插入的值)：在指定位置插入**"
   ]
  },
  {
   "cell_type": "code",
   "execution_count": 9,
   "metadata": {},
   "outputs": [
    {
     "name": "stdout",
     "output_type": "stream",
     "text": [
      "[1, 10, 2, 3]\n"
     ]
    }
   ],
   "source": [
    "lstA = [1, 2, 3]\n",
    "lstB = [4, 5, 6]\n",
    "lstA.insert(1, 10)\n",
    "print(lstA)"
   ]
  },
  {
   "cell_type": "markdown",
   "metadata": {},
   "source": [
    "**remove(要移除的元素的值)：將第一個相同的元素值移除**"
   ]
  },
  {
   "cell_type": "code",
   "execution_count": 10,
   "metadata": {},
   "outputs": [
    {
     "name": "stdout",
     "output_type": "stream",
     "text": [
      "[1, 2, 1, 3, 2]\n",
      "[1, 2, 1, 2]\n"
     ]
    }
   ],
   "source": [
    "lstA = [1, 2, 3, 1, 3, 2]\n",
    "lstA.remove(3)  #3:是元素值，不是位置\n",
    "print(lstA)\n",
    "lstA.remove(3)\n",
    "print(lstA)"
   ]
  },
  {
   "cell_type": "markdown",
   "metadata": {},
   "source": [
    "**pop(i)：從右邊移除第i個元素，i預設為1**"
   ]
  },
  {
   "cell_type": "code",
   "execution_count": 11,
   "metadata": {
    "scrolled": true
   },
   "outputs": [
    {
     "name": "stdout",
     "output_type": "stream",
     "text": [
      "[11, 12, 13, 14, 15, 16, 17, 18, 19, 20]\n",
      "20\n",
      "19\n",
      "18\n",
      "14\n",
      "[11, 12, 13, 15, 16, 17]\n"
     ]
    }
   ],
   "source": [
    "lstA = list(range(11, 21))\n",
    "print(lstA)\n",
    "print(lstA.pop())\n",
    "print(lstA.pop())\n",
    "print(lstA.pop())\n",
    "print(lstA.pop(3))\n",
    "print(lstA)"
   ]
  },
  {
   "cell_type": "markdown",
   "metadata": {},
   "source": [
    "**clear：將內容全部清除**"
   ]
  },
  {
   "cell_type": "code",
   "execution_count": null,
   "metadata": {},
   "outputs": [],
   "source": [
    "lstA = list(range(11, 21))\n",
    "print(lstA)\n",
    "lstA.clear()\n",
    "print(lstA)"
   ]
  },
  {
   "cell_type": "markdown",
   "metadata": {},
   "source": [
    "###### <font color=#0000FF>del statement</font>\n",
    "- del lst[:] : 將 lst 內的資料刪除\n",
    "- del lst : 將 lst 物件刪除"
   ]
  },
  {
   "cell_type": "code",
   "execution_count": null,
   "metadata": {
    "collapsed": true,
    "jupyter": {
     "outputs_hidden": true
    }
   },
   "outputs": [],
   "source": [
    "lstA = [1, 2, 3]\n",
    "lstB = [4, 5, 6]\n",
    "print(lstA[:])\n",
    "del lstA[:]         # 刪除掉 lstA 的內容\n",
    "del lstB            # 刪除掉 lstB 物件"
   ]
  },
  {
   "cell_type": "markdown",
   "metadata": {},
   "source": [
    "**index(值, 從第幾個之後開始找)：找出值的位置**"
   ]
  },
  {
   "cell_type": "code",
   "execution_count": null,
   "metadata": {
    "collapsed": true,
    "jupyter": {
     "outputs_hidden": true
    }
   },
   "outputs": [],
   "source": [
    "lstB = [4, 5, 6, 4, 6]\n",
    "print(lstB.index(6))\n",
    "print(lstB.index(6, 3))"
   ]
  },
  {
   "cell_type": "markdown",
   "metadata": {},
   "source": [
    "**count：就是數**"
   ]
  },
  {
   "cell_type": "code",
   "execution_count": null,
   "metadata": {
    "collapsed": true,
    "jupyter": {
     "outputs_hidden": true
    }
   },
   "outputs": [],
   "source": [
    "lstB = [4, 5, 6, 4, 6, 4]\n",
    "print(lstB.count(4))"
   ]
  },
  {
   "cell_type": "markdown",
   "metadata": {},
   "source": [
    "**sort(key, reverse=False)：排序，預設是遞增排序**"
   ]
  },
  {
   "cell_type": "code",
   "execution_count": null,
   "metadata": {},
   "outputs": [],
   "source": [
    "lstB = [4, 5, 6, 4, 6]\n",
    "lstB.sort(reverse=False)\n",
    "print(lstB)\n",
    "lstB.sort(reverse=True)\n",
    "print(lstB)"
   ]
  },
  {
   "cell_type": "markdown",
   "metadata": {},
   "source": [
    "**reverse()：反轉整個list**"
   ]
  },
  {
   "cell_type": "code",
   "execution_count": null,
   "metadata": {},
   "outputs": [],
   "source": [
    "lstB = [4, 5, 6, 4, 6]\n",
    "lstB.reverse()\n",
    "print(lstB)"
   ]
  },
  {
   "cell_type": "markdown",
   "metadata": {},
   "source": [
    "## <font color=#FF0000>slice of list(切片)</font>\n",
    "<pre>\n",
    "* a[start:end]      : items start through end-1\n",
    "* a[start:]         : items start through the rest of the array\n",
    "* a[:end]           : items from the beginning through end-1\n",
    "* a[:]              : a copy of the whole array\n",
    "* a[start:end:step] : start through not past end, by step\n",
    "</pre>"
   ]
  },
  {
   "cell_type": "code",
   "execution_count": null,
   "metadata": {
    "collapsed": true,
    "jupyter": {
     "outputs_hidden": true
    }
   },
   "outputs": [],
   "source": [
    "lst = list(range(100, 111))\n",
    "print(lst)\n",
    "print(lst[3])\n",
    "print(lst[:])\n",
    "print(lst[3:])\n",
    "print(lst[:7])      #前 7 個\n",
    "print(lst[3:9:2])"
   ]
  },
  {
   "cell_type": "code",
   "execution_count": null,
   "metadata": {},
   "outputs": [],
   "source": [
    "lst = list(range(100, 111))\n",
    "print(lst)\n",
    "print(lst[-1])\n",
    "print(lst[-3:])        #後 3 個\n",
    "print(lst[:-7])\n",
    "print(lst[::-1])\n",
    "print(lst[::-2])"
   ]
  },
  {
   "cell_type": "markdown",
   "metadata": {},
   "source": [
    "## <font color=#0000FF>Tuple : ( ) 不可更改的 list</font>\n",
    "* Tuples are ***immutable(不可變)***, and usually contain a ***heterogeneous(異質)*** sequence of elements that are accessed via unpacking (see later in this section) or indexing (or even by attribute in the case of namedtuples). \n",
    "* Lists are ***mutable(可變)***, and their elements are usually ***homogeneous(同質)*** and are accessed by iterating over the list."
   ]
  },
  {
   "cell_type": "code",
   "execution_count": null,
   "metadata": {
    "collapsed": true,
    "jupyter": {
     "outputs_hidden": true
    }
   },
   "outputs": [],
   "source": [
    "t = (1, 2, 3)\n",
    "t = t + (4, 5, 6)\n",
    "print(t)\n",
    "t[0] = 100   # 不可以更改\n",
    "print(t)"
   ]
  },
  {
   "cell_type": "markdown",
   "metadata": {},
   "source": [
    "## <font color=#0000FF>Set : { } 裡面的元素不會重複！</font>\n",
    "* A set is an unordered collection with <u>no duplicate elements</u>. \n",
    "* Basic uses include membership testing and eliminating duplicate entries. \n",
    "* Set objects also support mathematical operations like \n",
    "    * union：連集\n",
    "    * intersection：交集\n",
    "    * difference：差集\n",
    "    * symmetric difference：連集 - 交集"
   ]
  },
  {
   "cell_type": "code",
   "execution_count": 13,
   "metadata": {},
   "outputs": [
    {
     "name": "stdout",
     "output_type": "stream",
     "text": [
      "{1, 3, 5, 7, 9}\n",
      "{1, 3, 5, 7, 9}\n",
      "{5}\n",
      "{5}\n",
      "{1, 3}\n",
      "{9, 7}\n",
      "{1, 3, 7, 9}\n",
      "{1, 3, 7, 9}\n"
     ]
    }
   ],
   "source": [
    "setA = {1, 3, 5}\n",
    "setB = {5, 7, 9}\n",
    "print(setA.union(setB))\n",
    "print(setB.union(setA))\n",
    "print(setA.intersection(setB))\n",
    "print(setB.intersection(setA))\n",
    "print(setA.difference(setB))\n",
    "print(setB.difference(setA))\n",
    "print(setA.symmetric_difference(setB))\n",
    "print(setB.symmetric_difference(setA))"
   ]
  },
  {
   "cell_type": "markdown",
   "metadata": {},
   "source": [
    "**利用set的特性找出distinct的元素！**"
   ]
  },
  {
   "cell_type": "code",
   "execution_count": 12,
   "metadata": {},
   "outputs": [
    {
     "name": "stdout",
     "output_type": "stream",
     "text": [
      "[3, 5, 6, 7, 8, 9, 10, 12, 13]\n"
     ]
    }
   ],
   "source": [
    "lst = [3,5,8,3,6,8,7,9,10,13,12,12,6]\n",
    "print(list(set(lst)))"
   ]
  },
  {
   "cell_type": "markdown",
   "metadata": {},
   "source": [
    "## <font color=#0000FF>Dict : { }</font>\n",
    "\n",
    "* len(d)\n",
    "    * Return the number of items in the dictionary d.\n",
    "* d[key]\n",
    "    * Return the item of d with key key. Raises a KeyError if key is not in the map.\n",
    "* d[key] = value\n",
    "    * Set (or update) d[key] to value.\n",
    "* del d[key]\n",
    "    * Remove d[key] from d. Raises a KeyError if key is not in the map.\n",
    "* key in d\n",
    "    * Return True if d has a key key, else False.\n",
    "* key not in d\n",
    "    * Equivalent to not key in d.\n",
    "* iter(d)\n",
    "    * Return an iterator over the keys of the dictionary. This is a shortcut for iter(d.keys()).\n",
    "* clear()\n",
    "    * Remove all items from the dictionary.\n",
    "* copy()\n",
    "    * Return a shallow copy of the dictionary.\n",
    "* fromkeys() \n",
    "    * is a class method that returns a new dictionary. value defaults to None.\n",
    "    * classmethod fromkeys(seq[, value])\n",
    "    * Create a new dictionary with keys from seq and values set to value.\n",
    "* get(key[, default])\n",
    "    * Return the value for key if key is in the dictionary, else default. \n",
    "    * If default is not given, it defaults to None, so that this method never raises a KeyError.\n",
    "* items()\n",
    "    * Return a new view of the dictionary’s items ((key, value) pairs).\n",
    "* keys()\n",
    "    * Return a new view of the dictionary’s keys. See the documentation of view objects.\n",
    "* pop(key[, default])\n",
    "    * If key is in the dictionary, remove it and return its value, else return default. \n",
    "    * If default is not given and key is not in the dictionary, a KeyError is raised.\n",
    "* popitem()\n",
    "    * Remove and return an arbitrary (key, value) pair from the dictionary.\n",
    "    * popitem() is useful to destructively iterate over a dictionary, as often used in set algorithms. \n",
    "    * If the dictionary is empty, calling popitem() raises a KeyError.\n",
    "* setdefault(key[, default])\n",
    "    * If key is in the dictionary, return its value. If not, insert key with a value of default and return default. \n",
    "    * default defaults to None.\n",
    "* update([other])\n",
    "    * Update the dictionary with the key/value pairs from other, overwriting existing keys. Return None.\n",
    "    * update() accepts either another dictionary object or an iterable of key/value pairs (as tuples or other iterables of length two). \n",
    "    * If keyword arguments are specified, the dictionary is then updated with those key/value pairs: d.update(red=1, blue=2).\n",
    "* values()\n",
    "    * Return a new view of the dictionary’s values."
   ]
  },
  {
   "cell_type": "code",
   "execution_count": 15,
   "metadata": {},
   "outputs": [
    {
     "name": "stdout",
     "output_type": "stream",
     "text": [
      "3\n"
     ]
    }
   ],
   "source": [
    "d = {'a':100, 'b':200, 'c':300, 'a':400}\n",
    "print(len(d))"
   ]
  },
  {
   "cell_type": "code",
   "execution_count": 16,
   "metadata": {},
   "outputs": [
    {
     "name": "stdout",
     "output_type": "stream",
     "text": [
      "400\n",
      "400\n",
      "None\n",
      "0\n"
     ]
    },
    {
     "ename": "KeyError",
     "evalue": "'x'",
     "output_type": "error",
     "traceback": [
      "\u001b[1;31m---------------------------------------------------------------------------\u001b[0m",
      "\u001b[1;31mKeyError\u001b[0m                                  Traceback (most recent call last)",
      "\u001b[1;32m<ipython-input-16-fe308cce2c53>\u001b[0m in \u001b[0;36m<module>\u001b[1;34m\u001b[0m\n\u001b[0;32m      3\u001b[0m \u001b[0mprint\u001b[0m\u001b[1;33m(\u001b[0m\u001b[0md\u001b[0m\u001b[1;33m.\u001b[0m\u001b[0mget\u001b[0m\u001b[1;33m(\u001b[0m\u001b[1;34m'x'\u001b[0m\u001b[1;33m)\u001b[0m\u001b[1;33m)\u001b[0m         \u001b[1;31m# 物件導向的寫法\u001b[0m\u001b[1;33m\u001b[0m\u001b[1;33m\u001b[0m\u001b[0m\n\u001b[0;32m      4\u001b[0m \u001b[0mprint\u001b[0m\u001b[1;33m(\u001b[0m\u001b[0md\u001b[0m\u001b[1;33m.\u001b[0m\u001b[0mget\u001b[0m\u001b[1;33m(\u001b[0m\u001b[1;34m'x'\u001b[0m\u001b[1;33m,\u001b[0m \u001b[1;36m0\u001b[0m\u001b[1;33m)\u001b[0m\u001b[1;33m)\u001b[0m      \u001b[1;31m# 物件導向的寫法\u001b[0m\u001b[1;33m\u001b[0m\u001b[1;33m\u001b[0m\u001b[0m\n\u001b[1;32m----> 5\u001b[1;33m \u001b[0mprint\u001b[0m\u001b[1;33m(\u001b[0m\u001b[0md\u001b[0m\u001b[1;33m[\u001b[0m\u001b[1;34m'x'\u001b[0m\u001b[1;33m]\u001b[0m\u001b[1;33m)\u001b[0m             \u001b[1;31m# python的寫法\u001b[0m\u001b[1;33m\u001b[0m\u001b[1;33m\u001b[0m\u001b[0m\n\u001b[0m",
      "\u001b[1;31mKeyError\u001b[0m: 'x'"
     ]
    }
   ],
   "source": [
    "print(d.get('a'))\n",
    "print(d['a'])\n",
    "print(d.get('x'))         # 物件導向的寫法\n",
    "print(d.get('x', 0))      # 物件導向的寫法\n",
    "print(d['x'])             # python的寫法"
   ]
  },
  {
   "cell_type": "code",
   "execution_count": 17,
   "metadata": {
    "scrolled": true
   },
   "outputs": [
    {
     "name": "stdout",
     "output_type": "stream",
     "text": [
      "None\n",
      "600\n",
      "800\n",
      "None\n"
     ]
    }
   ],
   "source": [
    "print(d.get('x')) \n",
    "d['x'] = 600              # 當 'x' 不存在時，視為新增\n",
    "print(d.get('x'))\n",
    "d['x'] = 800              # 當 'x' 存在時，視為更改\n",
    "print(d.get('x'))\n",
    "del d['x']                # 刪除\n",
    "print(d.get('x'))"
   ]
  },
  {
   "cell_type": "code",
   "execution_count": 18,
   "metadata": {},
   "outputs": [
    {
     "name": "stdout",
     "output_type": "stream",
     "text": [
      "dict_items([('a', 400), ('b', 200), ('c', 300)])\n",
      "dict_keys(['a', 'b', 'c'])\n",
      "dict_values([400, 200, 300])\n"
     ]
    }
   ],
   "source": [
    "print(d.items())\n",
    "print(d.keys())\n",
    "print(d.values())"
   ]
  },
  {
   "cell_type": "markdown",
   "metadata": {},
   "source": [
    "**zip把資料當成一行一行列好，但只會取到最小的len**"
   ]
  },
  {
   "cell_type": "code",
   "execution_count": 20,
   "metadata": {
    "scrolled": true
   },
   "outputs": [
    {
     "name": "stdout",
     "output_type": "stream",
     "text": [
      "(100, 1)\n",
      "(200, 2)\n",
      "(300, 3)\n"
     ]
    }
   ],
   "source": [
    "X = [100, 200, 300]\n",
    "Y = [  1,   2,   3]\n",
    "for (x, y) in zip(X, Y) :\n",
    "    print('({}, {})'.format(x, y))"
   ]
  },
  {
   "cell_type": "code",
   "execution_count": 19,
   "metadata": {
    "scrolled": true
   },
   "outputs": [
    {
     "name": "stdout",
     "output_type": "stream",
     "text": [
      "(100, 1)\n",
      "(200, 2)\n",
      "(300, 3)\n"
     ]
    }
   ],
   "source": [
    "X = [100, 200, 300]\n",
    "Y = [  1,   2,   3,   4]\n",
    "for (x, y) in zip(X, Y) :\n",
    "    print('({}, {})'.format(x, y))"
   ]
  },
  {
   "cell_type": "markdown",
   "metadata": {},
   "source": [
    "<font size=4>當有大量資料要灌入dict物件時</font>"
   ]
  },
  {
   "cell_type": "code",
   "execution_count": 24,
   "metadata": {},
   "outputs": [],
   "source": [
    "import string\n",
    "import numpy as np"
   ]
  },
  {
   "cell_type": "code",
   "execution_count": 25,
   "metadata": {},
   "outputs": [
    {
     "name": "stdout",
     "output_type": "stream",
     "text": [
      "26\n",
      "26\n",
      "dict_items([('a', None), ('b', None), ('c', None), ('d', None), ('e', None), ('f', None), ('g', None), ('h', None), ('i', None), ('j', None), ('k', None), ('l', None), ('m', None), ('n', None), ('o', None), ('p', None), ('q', None), ('r', None), ('s', None), ('t', None), ('u', None), ('v', None), ('w', None), ('x', None), ('y', None), ('z', None)])\n"
     ]
    }
   ],
   "source": [
    "k = list(string.ascii_lowercase)\n",
    "v = np.random.randint(0, 101, len(k))\n",
    "print(len(k))\n",
    "print(len(v))\n",
    "d2 = dict.fromkeys(k)   #預設的value會填入None\n",
    "print(d2.items())"
   ]
  },
  {
   "cell_type": "code",
   "execution_count": 31,
   "metadata": {
    "scrolled": true
   },
   "outputs": [
    {
     "name": "stdout",
     "output_type": "stream",
     "text": [
      "26\n",
      "26\n",
      "dict_items([('a', 74), ('b', 42), ('c', 8), ('d', 29), ('e', 10), ('f', 75), ('g', 85), ('h', 87), ('i', 38), ('j', 8), ('k', 95), ('l', 59), ('m', 93), ('n', 70), ('o', 21), ('p', 20), ('q', 31), ('r', 74), ('s', 25), ('t', 65), ('u', 82), ('v', 17), ('w', 62), ('x', 84), ('y', 50), ('z', 6)])\n"
     ]
    }
   ],
   "source": [
    "k = list(string.ascii_lowercase)\n",
    "v = np.random.randint(0, 101, len(k))\n",
    "print(len(k))\n",
    "print(len(v))\n",
    "d2 = dict.fromkeys(k)\n",
    "\n",
    "for i, (k, _) in enumerate(d2.items()):\n",
    "    d2[k] = v[i]\n",
    "\n",
    "print(d2.items())"
   ]
  },
  {
   "cell_type": "code",
   "execution_count": 30,
   "metadata": {},
   "outputs": [
    {
     "ename": "NameError",
     "evalue": "name 'd3' is not defined",
     "output_type": "error",
     "traceback": [
      "\u001b[1;31m---------------------------------------------------------------------------\u001b[0m",
      "\u001b[1;31mNameError\u001b[0m                                 Traceback (most recent call last)",
      "\u001b[1;32m<ipython-input-30-ee67cb058316>\u001b[0m in \u001b[0;36m<module>\u001b[1;34m\u001b[0m\n\u001b[1;32m----> 1\u001b[1;33m \u001b[0md3\u001b[0m\u001b[1;33m.\u001b[0m\u001b[0mkeys\u001b[0m\u001b[1;33m(\u001b[0m\u001b[1;33m)\u001b[0m\u001b[1;33m\u001b[0m\u001b[1;33m\u001b[0m\u001b[0m\n\u001b[0m",
      "\u001b[1;31mNameError\u001b[0m: name 'd3' is not defined"
     ]
    }
   ],
   "source": []
  },
  {
   "cell_type": "markdown",
   "metadata": {},
   "source": [
    "<font size=4>【練習】</font>"
   ]
  },
  {
   "cell_type": "code",
   "execution_count": 33,
   "metadata": {},
   "outputs": [],
   "source": [
    "news = \"\"\"\n",
    "全球40億人每年一個月嚴重缺水 空拍直擊各國水域遭嚴重污染\n",
    "Yahoo奇摩（國際通）．70,371 次觀看．4 天前\n",
    "3月22日是世界水資源日，但全球水資源短缺現象持續惡化，聯合國表示目前全球有40億人，每年至少有一個月嚴重缺水；16億人無法被保障獲得清潔、安全的水源。而2050年，世界一半以上的人口將生活在缺水地區。路透在世界水資源日前夕．使用無人機捕捉世界各地受污染水域的照片和影音，提醒人們保護與珍惜水資源。畫面可見巴西最大的城市聖保羅的鐵特河，每日接收數百噸未經處理的污水和廢物，印尼奇塔倫河被大量垃圾塞滿。\n",
    "\n",
    "\n",
    "英國朴茨茅斯大學的人類地理學家朱莉亞·布朗博士（Julia Brown）表示，其實許多農業和工業用水密集的國家十分缺水，當向他們購買產品時，其實是購買水，但這些國家的人民自己卻沒有安全用水。\n",
    "\"\"\""
   ]
  },
  {
   "cell_type": "code",
   "execution_count": 34,
   "metadata": {},
   "outputs": [
    {
     "name": "stdout",
     "output_type": "stream",
     "text": [
      "['（', '）', '\\n', '0', '1', '2', '3', '4', '5', '6', '7', '8', '9']\n",
      "['全', '球', '億', '人', '每', '年', '一', '個', '月', '嚴', '重', '缺', '水', ' ', '空', '拍', '直', '擊', '各', '國', '水', '域', '遭', '嚴', '重', '污', '染', 'Y', 'a', 'h', 'o', 'o', '奇', '摩', '國', '際', '通', '．', ',', ' ', '次', '觀', '看', '．', ' ', '天', '前', '月', '日', '是', '世', '界', '水', '資', '源', '日', '，', '但', '全', '球', '水', '資', '源', '短', '缺', '現', '象', '持', '續', '惡', '化', '，', '聯', '合', '國', '表', '示', '目', '前', '全', '球', '有', '億', '人', '，', '每', '年', '至', '少', '有', '一', '個', '月', '嚴', '重', '缺', '水', '；', '億', '人', '無', '法', '被', '保', '障', '獲', '得', '清', '潔', '、', '安', '全', '的', '水', '源', '。', '而', '年', '，', '世', '界', '一', '半', '以', '上', '的', '人', '口', '將', '生', '活', '在', '缺', '水', '地', '區', '。', '路', '透', '在', '世', '界', '水', '資', '源', '日', '前', '夕', '．', '使', '用', '無', '人', '機', '捕', '捉', '世', '界', '各', '地', '受', '污', '染', '水', '域', '的', '照', '片', '和', '影', '音', '，', '提', '醒', '人', '們', '保', '護', '與', '珍', '惜', '水', '資', '源', '。', '畫', '面', '可', '見', '巴', '西', '最', '大', '的', '城', '市', '聖', '保', '羅', '的', '鐵', '特', '河', '，', '每', '日', '接', '收', '數', '百', '噸', '未', '經', '處', '理', '的', '污', '水', '和', '廢', '物', '，', '印', '尼', '奇', '塔', '倫', '河', '被', '大', '量', '垃', '圾', '塞', '滿', '。', '英', '國', '朴', '茨', '茅', '斯', '大', '學', '的', '人', '類', '地', '理', '學', '家', '朱', '莉', '亞', '·', '布', '朗', '博', '士', 'J', 'u', 'l', 'i', 'a', ' ', 'B', 'r', 'o', 'w', 'n', '表', '示', '，', '其', '實', '許', '多', '農', '業', '和', '工', '業', '用', '水', '密', '集', '的', '國', '家', '十', '分', '缺', '水', '，', '當', '向', '他', '們', '購', '買', '產', '品', '時', '，', '其', '實', '是', '購', '買', '水', '，', '但', '這', '些', '國', '家', '的', '人', '民', '自', '己', '卻', '沒', '有', '安', '全', '用', '水', '。']\n"
     ]
    }
   ],
   "source": [
    "stop_words = ['（','）','\\n'] + list(string.digits)    #停用詞(字)\n",
    "print(stop_words)\n",
    "news = [w for w in news if w not in stop_words]\n",
    "print(news)\n",
    "# print(''.join(news))"
   ]
  },
  {
   "cell_type": "code",
   "execution_count": 35,
   "metadata": {},
   "outputs": [
    {
     "name": "stdout",
     "output_type": "stream",
     "text": [
      "dict_items([('全', 5), ('球', 3), ('億', 3), ('人', 8), ('每', 3), ('年', 3), ('一', 3), ('個', 2), ('月', 3), ('嚴', 3), ('重', 3), ('缺', 5), ('水', 15), (' ', 4), ('空', 1), ('拍', 1), ('直', 1), ('擊', 1), ('各', 2), ('國', 6), ('域', 2), ('遭', 1), ('污', 3), ('染', 2), ('Y', 1), ('a', 2), ('h', 1), ('o', 3), ('奇', 2), ('摩', 1), ('際', 1), ('通', 1), ('．', 3), (',', 1), ('次', 1), ('觀', 1), ('看', 1), ('天', 1), ('前', 3), ('日', 4), ('是', 2), ('世', 4), ('界', 4), ('資', 4), ('源', 5), ('，', 11), ('但', 2), ('短', 1), ('現', 1), ('象', 1), ('持', 1), ('續', 1), ('惡', 1), ('化', 1), ('聯', 1), ('合', 1), ('表', 2), ('示', 2), ('目', 1), ('有', 3), ('至', 1), ('少', 1), ('；', 1), ('無', 2), ('法', 1), ('被', 2), ('保', 3), ('障', 1), ('獲', 1), ('得', 1), ('清', 1), ('潔', 1), ('、', 1), ('安', 2), ('的', 9), ('。', 5), ('而', 1), ('半', 1), ('以', 1), ('上', 1), ('口', 1), ('將', 1), ('生', 1), ('活', 1), ('在', 2), ('地', 3), ('區', 1), ('路', 1), ('透', 1), ('夕', 1), ('使', 1), ('用', 3), ('機', 1), ('捕', 1), ('捉', 1), ('受', 1), ('照', 1), ('片', 1), ('和', 3), ('影', 1), ('音', 1), ('提', 1), ('醒', 1), ('們', 2), ('護', 1), ('與', 1), ('珍', 1), ('惜', 1), ('畫', 1), ('面', 1), ('可', 1), ('見', 1), ('巴', 1), ('西', 1), ('最', 1), ('大', 3), ('城', 1), ('市', 1), ('聖', 1), ('羅', 1), ('鐵', 1), ('特', 1), ('河', 2), ('接', 1), ('收', 1), ('數', 1), ('百', 1), ('噸', 1), ('未', 1), ('經', 1), ('處', 1), ('理', 2), ('廢', 1), ('物', 1), ('印', 1), ('尼', 1), ('塔', 1), ('倫', 1), ('量', 1), ('垃', 1), ('圾', 1), ('塞', 1), ('滿', 1), ('英', 1), ('朴', 1), ('茨', 1), ('茅', 1), ('斯', 1), ('學', 2), ('類', 1), ('家', 3), ('朱', 1), ('莉', 1), ('亞', 1), ('·', 1), ('布', 1), ('朗', 1), ('博', 1), ('士', 1), ('J', 1), ('u', 1), ('l', 1), ('i', 1), ('B', 1), ('r', 1), ('w', 1), ('n', 1), ('其', 2), ('實', 2), ('許', 1), ('多', 1), ('農', 1), ('業', 2), ('工', 1), ('密', 1), ('集', 1), ('十', 1), ('分', 1), ('當', 1), ('向', 1), ('他', 1), ('購', 2), ('買', 2), ('產', 1), ('品', 1), ('時', 1), ('這', 1), ('些', 1), ('民', 1), ('自', 1), ('己', 1), ('卻', 1), ('沒', 1)])\n"
     ]
    }
   ],
   "source": [
    "d = dict()\n",
    "for w in news :\n",
    "    if d.get(w) is None :\n",
    "        d[w] = 1\n",
    "    else :\n",
    "        d[w] = d.get(w) + 1\n",
    "print(d.items())     "
   ]
  },
  {
   "cell_type": "code",
   "execution_count": 36,
   "metadata": {},
   "outputs": [
    {
     "name": "stdout",
     "output_type": "stream",
     "text": [
      "dict_items([('全', 5), ('球', 3), ('億', 3), ('人', 8), ('每', 3), ('年', 3), ('一', 3), ('個', 2), ('月', 3), ('嚴', 3), ('重', 3), ('缺', 5), ('水', 15), (' ', 4), ('空', 1), ('拍', 1), ('直', 1), ('擊', 1), ('各', 2), ('國', 6), ('域', 2), ('遭', 1), ('污', 3), ('染', 2), ('Y', 1), ('a', 2), ('h', 1), ('o', 3), ('奇', 2), ('摩', 1), ('際', 1), ('通', 1), ('．', 3), (',', 1), ('次', 1), ('觀', 1), ('看', 1), ('天', 1), ('前', 3), ('日', 4), ('是', 2), ('世', 4), ('界', 4), ('資', 4), ('源', 5), ('，', 11), ('但', 2), ('短', 1), ('現', 1), ('象', 1), ('持', 1), ('續', 1), ('惡', 1), ('化', 1), ('聯', 1), ('合', 1), ('表', 2), ('示', 2), ('目', 1), ('有', 3), ('至', 1), ('少', 1), ('；', 1), ('無', 2), ('法', 1), ('被', 2), ('保', 3), ('障', 1), ('獲', 1), ('得', 1), ('清', 1), ('潔', 1), ('、', 1), ('安', 2), ('的', 9), ('。', 5), ('而', 1), ('半', 1), ('以', 1), ('上', 1), ('口', 1), ('將', 1), ('生', 1), ('活', 1), ('在', 2), ('地', 3), ('區', 1), ('路', 1), ('透', 1), ('夕', 1), ('使', 1), ('用', 3), ('機', 1), ('捕', 1), ('捉', 1), ('受', 1), ('照', 1), ('片', 1), ('和', 3), ('影', 1), ('音', 1), ('提', 1), ('醒', 1), ('們', 2), ('護', 1), ('與', 1), ('珍', 1), ('惜', 1), ('畫', 1), ('面', 1), ('可', 1), ('見', 1), ('巴', 1), ('西', 1), ('最', 1), ('大', 3), ('城', 1), ('市', 1), ('聖', 1), ('羅', 1), ('鐵', 1), ('特', 1), ('河', 2), ('接', 1), ('收', 1), ('數', 1), ('百', 1), ('噸', 1), ('未', 1), ('經', 1), ('處', 1), ('理', 2), ('廢', 1), ('物', 1), ('印', 1), ('尼', 1), ('塔', 1), ('倫', 1), ('量', 1), ('垃', 1), ('圾', 1), ('塞', 1), ('滿', 1), ('英', 1), ('朴', 1), ('茨', 1), ('茅', 1), ('斯', 1), ('學', 2), ('類', 1), ('家', 3), ('朱', 1), ('莉', 1), ('亞', 1), ('·', 1), ('布', 1), ('朗', 1), ('博', 1), ('士', 1), ('J', 1), ('u', 1), ('l', 1), ('i', 1), ('B', 1), ('r', 1), ('w', 1), ('n', 1), ('其', 2), ('實', 2), ('許', 1), ('多', 1), ('農', 1), ('業', 2), ('工', 1), ('密', 1), ('集', 1), ('十', 1), ('分', 1), ('當', 1), ('向', 1), ('他', 1), ('購', 2), ('買', 2), ('產', 1), ('品', 1), ('時', 1), ('這', 1), ('些', 1), ('民', 1), ('自', 1), ('己', 1), ('卻', 1), ('沒', 1)])\n"
     ]
    }
   ],
   "source": [
    "d = dict()\n",
    "for w in news :\n",
    "    d[w] = d.get(w, 0) + 1\n",
    "print(d.items())        "
   ]
  },
  {
   "cell_type": "code",
   "execution_count": 45,
   "metadata": {},
   "outputs": [
    {
     "name": "stdout",
     "output_type": "stream",
     "text": [
      "{'障': 1, '通': 1, '提': 1, '水': 15, '時': 1, '聖': 1, '朴': 1, '生': 1, '少': 1, '透': 1, '擊': 1, '他': 1, 'i': 1, '許': 1, '至': 1, 'B': 1, '次': 1, '半': 1, '際': 1, '有': 3, '當': 1, '可': 1, '·': 1, '類': 1, '人': 8, '業': 2, '大': 3, '茨': 1, '鐵': 1, '品': 1, '醒': 1, '使': 1, '，': 11, '未': 1, '示': 2, '獲': 1, '目': 1, 'r': 1, '分': 1, '卻': 1, '無': 2, '國': 6, '塔': 1, 'a': 2, '布': 1, 'Y': 1, '口': 1, '活': 1, '十': 1, '理': 2, '億': 3, '缺': 5, '茅': 1, '珍': 1, '塞': 1, '收': 1, '最': 1, '上': 1, '各': 2, '捕': 1, '音': 1, '農': 1, '聯': 1, '潔': 1, '世': 4, '照': 1, '尼': 1, '清': 1, '多': 1, 'o': 3, '直': 1, '垃': 1, '用': 3, '地': 3, '和': 3, '個': 2, '區': 1, '每': 3, '拍': 1, '奇': 2, '前': 3, '城': 1, '化': 1, '界': 4, '斯': 1, '己': 1, '民': 1, '看': 1, '羅': 1, '染': 2, '護': 1, '實': 2, '噸': 1, '安': 2, '遭': 1, '量': 1, '物': 1, '畫': 1, '英': 1, '、': 1, '巴': 1, '域': 2, '月': 3, '們': 2, '重': 3, '產': 1, '污': 3, '一': 3, '向': 1, '空': 1, '現': 1, '其': 2, '全': 5, '將': 1, '家': 3, '嚴': 3, '持': 1, '這': 1, '面': 1, '與': 1, '被': 2, 'l': 1, '朱': 1, '年': 3, '夕': 1, '片': 1, '法': 1, '工': 1, '學': 2, '而': 1, '惡': 1, 'h': 1, '．': 3, '沒': 1, '集': 1, '市': 1, '摩': 1, '購': 2, ',': 1, 'n': 1, '滿': 1, '象': 1, '西': 1, '捉': 1, '接': 1, '惜': 1, '數': 1, 'J': 1, '路': 1, '圾': 1, '但': 2, '日': 4, '合': 1, '些': 1, '河': 2, '朗': 1, '亞': 1, '短': 1, '續': 1, '保': 3, '是': 2, '倫': 1, '。': 5, '在': 2, '見': 1, '以': 1, '觀': 1, '經': 1, '得': 1, '源': 5, '天': 1, '印': 1, '球': 3, '買': 2, '機': 1, '表': 2, 'w': 1, '的': 9, '資': 4, ' ': 4, '受': 1, '特': 1, '莉': 1, 'u': 1, '處': 1, '廢': 1, '；': 1, '博': 1, '百': 1, '影': 1, '自': 1, '士': 1, '密': 1}\n"
     ]
    }
   ],
   "source": [
    "d = dict([[w, news.count(w)] for w in set(news)])\n",
    "print(d)"
   ]
  },
  {
   "cell_type": "markdown",
   "metadata": {},
   "source": [
    "<font size=4>【回家練習】將中文數文字寫成function </font>"
   ]
  },
  {
   "cell_type": "code",
   "execution_count": null,
   "metadata": {},
   "outputs": [],
   "source": [
    "def countChnWords(news, stop_words) :\n",
    "    \n",
    "    \n",
    "    \n",
    "    return dict"
   ]
  },
  {
   "cell_type": "markdown",
   "metadata": {},
   "source": [
    "<font size=4>【回家練習】可以抓英文的文章試看看 </font>"
   ]
  },
  {
   "cell_type": "code",
   "execution_count": 60,
   "metadata": {},
   "outputs": [],
   "source": [
    "news = \"\"\"\n",
    "Several Western countries have imposed sanctions on officials in China over rights abuses against the mostly Muslim Uighur minority group.\n",
    "\n",
    "China has detained Uighurs at camps in the north-west region of Xinjiang, where allegations of torture, forced labour and sexual abuse have emerged.\n",
    "\n",
    "The sanctions were introduced as a coordinated effort by the European Union, UK, US and Canada.\n",
    "\n",
    "China responded with its own sanctions on European officials.\n",
    "\n",
    "It has denied the allegations of abuse, claiming the camps are \"re-education\" facilities used to combat terrorism.\n",
    "\n",
    "But UK Foreign Secretary Dominic Raab said the treatment of Uighurs amounted to \"appalling violations of the most basic human rights\".\n",
    "\n",
    "The EU has not imposed new sanctions on China over human rights abuses since the 1989 Tiananmen Square crackdown, when troops in Beijing opened fire on pro-democracy protesters.\n",
    "\"\"\""
   ]
  },
  {
   "cell_type": "code",
   "execution_count": 65,
   "metadata": {},
   "outputs": [
    {
     "name": "stdout",
     "output_type": "stream",
     "text": [
      "['Several', 'Western', 'countries', 'have', 'imposed', 'sanctions', 'on', 'officials', 'in', 'China', 'over', 'rights', 'abuses', 'against', 'the', 'mostly', 'Muslim', 'Uighur', 'minority', 'group']\n",
      "['China', 'has', 'detained', 'Uighurs', 'at', 'camps', 'in', 'the', 'north-west', 'region', 'of', 'Xinjiang', 'where', 'allegations', 'of', 'torture', 'forced', 'labour', 'and', 'sexual', 'abuse', 'have', 'emerged']\n",
      "['The', 'sanctions', 'were', 'introduced', 'as', 'a', 'coordinated', 'effort', 'by', 'the', 'European', 'Union', 'UK', 'US', 'and', 'Canada']\n",
      "['China', 'responded', 'with', 'its', 'own', 'sanctions', 'on', 'European', 'officials']\n",
      "['It', 'has', 'denied', 'the', 'allegations', 'of', 'abuse', 'claiming', 'the', 'camps', 'are', 're-education', 'facilities', 'used', 'to', 'combat', 'terrorism']\n",
      "['But', 'UK', 'Foreign', 'Secretary', 'Dominic', 'Raab', 'said', 'the', 'treatment', 'of', 'Uighurs', 'amounted', 'to', 'appalling', 'violations', 'of', 'the', 'most', 'basic', 'human', 'rights']\n",
      "['The', 'EU', 'has', 'not', 'imposed', 'new', 'sanctions', 'on', 'China', 'over', 'human', 'rights', 'abuses', 'since', 'the', '1989', 'Tiananmen', 'Square', 'crackdown', 'when', 'troops', 'in', 'Beijing', 'opened', 'fire', 'on', 'pro-democracy', 'protesters']\n",
      "['']\n"
     ]
    }
   ],
   "source": [
    "stop_words = [\"\\n\", '\"', \",\"]\n",
    "news = [w for w in news if w not in stop_words]\n",
    "news = \"\".join(news)\n",
    "for sen in news.split(\".\"):\n",
    "    print((sen.split(\" \")))\n"
   ]
  },
  {
   "cell_type": "markdown",
   "metadata": {},
   "source": [
    "## <font color=#0000FF>Strings</font>\n",
    "- [Python format格式化函數](https://www.runoob.com/python/att-string-format.html)<br>\n",
    "<table>\n",
    "  <thead>\n",
    "    <tr>\n",
    "      <th>數字</th>\n",
    "      <th>格式</th>\n",
    "      <th>輸出</th>\n",
    "      <th>描述</th>\n",
    "    </tr>\n",
    "  </thead>\n",
    "  <tbody>\n",
    "    <tr>\n",
    "      <td>3.1415926</td>\n",
    "      <td>{:.2f}</td>\n",
    "      <td>3.1415926</td>\n",
    "      <td>保留小數點後兩位</td>\n",
    "    </tr>\n",
    "    <tr>\n",
    "      <td>3.1415926</td>\n",
    "      <td>{:+.2f}</td>\n",
    "      <td>+3.14</td>\n",
    "      <td>加上正負符號保留小數點後兩位</td>\n",
    "    </tr>\n",
    "    <tr>\n",
    "      <td>-1</td>\n",
    "      <td>{:+.2f}</td>\n",
    "      <td>-1.00</td>\n",
    "      <td>加上正負符號保留小數點後兩位</td>\n",
    "    </tr>\n",
    "    <tr>\n",
    "      <td>2.71828</td>\n",
    "      <td>{:.0f}</td>\n",
    "      <td>3</td>\n",
    "      <td>四捨五入到整數位（沒有小數點）</td>\n",
    "    </tr>\n",
    "    <tr>\n",
    "      <td>5</td>\n",
    "      <td>{:0>2d}</td>\n",
    "      <td>05</td>\n",
    "      <td>左邊補上0，長度為2</td>\n",
    "    </tr>\n",
    "    <tr>\n",
    "      <td>5</td>\n",
    "      <td>{:x&#060;4d}</td>\n",
    "      <td>5xxx</td>\n",
    "      <td>右邊補上x，長度為4</td>\n",
    "    </tr>\n",
    "    <tr>\n",
    "      <td>1000000</td>\n",
    "      <td>{:,}</td>\n",
    "      <td>1,000,000</td>\n",
    "      <td>會計記法</td>\n",
    "    </tr>\n",
    "    <tr>\n",
    "      <td>0.25</td>\n",
    "      <td>{:.2%}</td>\n",
    "      <td>25.00%</td>\n",
    "      <td>百分比格式，小數點後兩位</td>\n",
    "    </tr>\n",
    "    <tr>\n",
    "      <td>1000000000</td>\n",
    "      <td>{:.2e}</td>\n",
    "      <td>1.00e+09</td>\n",
    "      <td>指數記法</td>\n",
    "    </tr>\n",
    "  </tbody>\n",
    "</table>"
   ]
  },
  {
   "cell_type": "markdown",
   "metadata": {},
   "source": [
    "<font color=#0000FF>【字串格式format】</font>\n",
    "* Old : '%s %s' % ('one', 'two')\n",
    "* New : '{ } { }'.format('one', 'two')\n",
    "* Output : one two\n",
    "\n",
    "【數值】\n",
    "* Old : '%d %d' % (1, 2)\n",
    "* New :'{1} {0}'.format(2, 1)\n",
    "* Output : 1 2"
   ]
  },
  {
   "cell_type": "code",
   "execution_count": null,
   "metadata": {},
   "outputs": [],
   "source": [
    "x = 3423524.23543; y =0.68526; z = 1324093.452\n",
    "print('x = {}, y = {}, z = {}'.format(x, y, z))\n",
    "print('x = {0}, y = {1}, z = {2}'.format(x, y, z))\n",
    "print('x = {0:+.2f}, y = {1:.2%}, z = {2:,}'.format(x, y, z))"
   ]
  },
  {
   "cell_type": "code",
   "execution_count": null,
   "metadata": {},
   "outputs": [],
   "source": [
    "w = 35\n",
    "print('w = {:0>5d}, w = {:0<3d}'.format(w, w))"
   ]
  }
 ],
 "metadata": {
  "kernelspec": {
   "display_name": "Python 3",
   "language": "python",
   "name": "python3"
  },
  "language_info": {
   "codemirror_mode": {
    "name": "ipython",
    "version": 3
   },
   "file_extension": ".py",
   "mimetype": "text/x-python",
   "name": "python",
   "nbconvert_exporter": "python",
   "pygments_lexer": "ipython3",
   "version": "3.8.5"
  }
 },
 "nbformat": 4,
 "nbformat_minor": 4
}
