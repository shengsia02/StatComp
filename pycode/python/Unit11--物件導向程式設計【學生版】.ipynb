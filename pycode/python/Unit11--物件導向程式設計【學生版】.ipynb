{
 "cells": [
  {
   "cell_type": "markdown",
   "metadata": {},
   "source": [
    "【臺北大學】Python程式設計<br>\n",
    "【授課老師】[陳祥輝 (Email : HsiangHui.Chen@gmail.com)](mailto:HsiangHui.Chen@gmail.com)<br>\n",
    "【facebook】[陳祥輝老師的臉書 (歡迎加好友)](https://goo.gl/osivhx)<br>\n",
    "【參考書籍】[從零開始學Python程式設計（適用Python 3.5以上）](http://www.drmaster.com.tw/Bookinfo.asp?BookID=MP31821)<br>\n",
    "【主要議題】Python之物件導向(Object Oriented)"
   ]
  },
  {
   "cell_type": "markdown",
   "metadata": {},
   "source": [
    "## 【名詞介紹】\n",
    "### 類別 (Class)\n",
    "<font color=red>【不成文規定】第一個字都是大寫</font>\n",
    "\n",
    "A user-defined prototype for an object that defines a set of attributes that characterize any object of the class. The attributes are <font color=#FF0000>data members</font> (<u>class variables</u> and <u>instance variables</u>) and <font color=#FF0000>methods</font>, accessed via dot notation.\n",
    "\n",
    "* 資料成員 (Data member)<br>\n",
    "A <font color=#FF0000>class variable</font> or <font color=#FF0000>instance variable</font> that holds data associated with a __class__ and its __objects__.\n",
    "\n",
    "* 方法 (Method)<br>\n",
    "A special kind of function that is defined in a class definition.\n",
    "\n",
    "### 類別變數 (Class variable)\n",
    "A variable that <font color=#FF0000>is shared</font> by all instances of a class. Class variables are defined within a class but __outside__ any of the class's methods. Class variables are not used as frequently as instance variables are.\n",
    "\n",
    "### 實例變數 (Instance variable)\n",
    "A variable that is defined inside a method and belongs only to the current instance of a class.\n",
    "\n",
    "### 多載 (Overloading)\n",
    "* 函數或方法多載 (__Function or Method Overloading__)<br>\n",
    "The assignment of more than one behavior to a particular function. The operation performed varies by the types of objects or arguments involved.\n",
    "\n",
    "* 運算子的多載 (__Operator overloading__)<br>\n",
    "The assignment of more than one function to a particular operator.\n",
    "\n",
    "### 繼承 (Inheritance)\n",
    "The transfer of the characteristics of a class to other classes that are derived from it.\n",
    "\n",
    "### 多重繼承 (Multiple Inheritance)\n",
    "Python supports a form of multiple inheritance as well. A class definition with multiple base classes.\n",
    "\n",
    "### 實例 (Instance)\n",
    "An individual object of a certain class. An object obj that belongs to a class Circle, for example, is an instance of the class Circle.\n",
    "\n",
    "### 實例化 (Instantiation)\n",
    "The creation of an instance of a class.\n",
    "\n",
    "### 物件 (Object)\n",
    "<font color=red>【不成文規定】第一個字都是小寫</font>\n",
    "\n",
    "A unique instance of a data structure that's defined by its class. An object comprises both data members (class variables and instance variables) and methods.\n",
    "\n",
    "##### 覆載、重載、覆寫 (Overriding Methods)\n",
    "\n",
    "##### 建構函數、建構子 (Constructor)\n",
    "\\__new\\__() + \\__init\\__() : 建構物件 + 初始化物件\n",
    "\n",
    "#### 解構函數、解構子 (Destructor)\n",
    "\\__del\\__(self)"
   ]
  },
  {
   "cell_type": "code",
   "execution_count": 1,
   "metadata": {},
   "outputs": [
    {
     "name": "stdout",
     "output_type": "stream",
     "text": [
      "【日期時間】2021/06/15 13:52:02\n",
      "【工作目錄】C:\\Users\\amy10\\Desktop\\Course\\1092python\n",
      "【主機名稱】DESKTOP-AQAMOD2 (192.168.43.47)\n",
      "【Python】3.8.5\n"
     ]
    },
    {
     "data": {
      "application/javascript": [
       "IPython.notebook.set_autosave_interval(120000)"
      ]
     },
     "metadata": {},
     "output_type": "display_data"
    },
    {
     "name": "stdout",
     "output_type": "stream",
     "text": [
      "Autosaving every 120 seconds\n"
     ]
    }
   ],
   "source": [
    "# -*-coding:UTF-8-*- \n",
    "from platform import python_version\n",
    "import os, time, glob, socket\n",
    "\n",
    "print(\"【日期時間】{}\".format(time.strftime(\"%Y/%m/%d %H:%M:%S\")))\n",
    "print(\"【工作目錄】{}\".format(os.getcwd()))\n",
    "print(\"【主機名稱】{} ({})\".format(socket.gethostname(),socket.gethostbyname(socket.gethostname())))\n",
    "print(\"【Python】{}\".format(python_version()))\n",
    "\n",
    "%autosave 120"
   ]
  },
  {
   "cell_type": "markdown",
   "metadata": {},
   "source": [
    "## 甚麼是抽象?\n",
    "- 抽象化 :  將一般事物的共通性抽離出來的過程\n",
    "- 物類分種的依據 : 界、門、綱、目、科、屬、種\n",
    "\n",
    "## 類別或物件有兩種東西\n",
    "- attribute(s) : 屬性(變數)\n",
    "- method(s) : 方法(函數、功能"
   ]
  },
  {
   "cell_type": "code",
   "execution_count": 2,
   "metadata": {},
   "outputs": [],
   "source": [
    "class Animal :\n",
    "    def move(self, unit=1) :    # self : 代表物件本身，如同 Java 的 this\n",
    "        print('is moving {} unit(s)'.format(unit))\n",
    "        \n",
    "    def breath(self) :\n",
    "        print('is breathing...')"
   ]
  },
  {
   "cell_type": "code",
   "execution_count": 3,
   "metadata": {},
   "outputs": [],
   "source": [
    "an01 = Animal()\n",
    "an02 = Animal()"
   ]
  },
  {
   "cell_type": "code",
   "execution_count": 4,
   "metadata": {},
   "outputs": [
    {
     "data": {
      "text/plain": [
       "True"
      ]
     },
     "execution_count": 4,
     "metadata": {},
     "output_type": "execute_result"
    }
   ],
   "source": [
    "isinstance(an01, Animal)"
   ]
  },
  {
   "cell_type": "code",
   "execution_count": 5,
   "metadata": {},
   "outputs": [
    {
     "name": "stdout",
     "output_type": "stream",
     "text": [
      "is breathing...\n",
      "is moving 1 unit(s)\n"
     ]
    }
   ],
   "source": [
    "an01.breath()\n",
    "an01.move()"
   ]
  },
  {
   "cell_type": "code",
   "execution_count": 6,
   "metadata": {},
   "outputs": [
    {
     "name": "stdout",
     "output_type": "stream",
     "text": [
      "is breathing...\n",
      "is moving 5 unit(s)\n",
      "is moving 3 unit(s)\n"
     ]
    }
   ],
   "source": [
    "an02.breath()\n",
    "an02.move(5)       # 因為 an02 會透過 self 傳遞進去，所以 5 視同是第二個參數\n",
    "an02.move(unit=3)"
   ]
  },
  {
   "cell_type": "code",
   "execution_count": 7,
   "metadata": {},
   "outputs": [
    {
     "name": "stdout",
     "output_type": "stream",
     "text": [
      "<class '__main__.Animal'>\n",
      "<class '__main__.Animal'>\n"
     ]
    }
   ],
   "source": [
    "print(type(an01))\n",
    "print(type(an02))"
   ]
  },
  {
   "cell_type": "markdown",
   "metadata": {},
   "source": [
    "## 將 Animal 類別寫至 mod01.py\n",
    "<font color=red>restart kernel</font>"
   ]
  },
  {
   "cell_type": "code",
   "execution_count": 11,
   "metadata": {},
   "outputs": [],
   "source": [
    "import mod01"
   ]
  },
  {
   "cell_type": "code",
   "execution_count": null,
   "metadata": {},
   "outputs": [],
   "source": [
    "an01 = mod01.Animal()\n",
    "an01.move(10)\n",
    "print(type(an01))"
   ]
  },
  {
   "cell_type": "code",
   "execution_count": null,
   "metadata": {},
   "outputs": [],
   "source": [
    "from mod01 import Animal"
   ]
  },
  {
   "cell_type": "code",
   "execution_count": 13,
   "metadata": {},
   "outputs": [],
   "source": [
    "an02 = Animal()"
   ]
  },
  {
   "cell_type": "code",
   "execution_count": 14,
   "metadata": {},
   "outputs": [
    {
     "name": "stdout",
     "output_type": "stream",
     "text": [
      "<class '__main__.Animal'>\n"
     ]
    }
   ],
   "source": [
    "print(type(an02))"
   ]
  },
  {
   "cell_type": "markdown",
   "metadata": {},
   "source": [
    "## <font color = blue>Python的物件可以隨意的增加/刪除屬性</font>"
   ]
  },
  {
   "cell_type": "code",
   "execution_count": 8,
   "metadata": {},
   "outputs": [
    {
     "ename": "AttributeError",
     "evalue": "'Animal' object has no attribute 'age'",
     "output_type": "error",
     "traceback": [
      "\u001b[1;31m---------------------------------------------------------------------------\u001b[0m",
      "\u001b[1;31mAttributeError\u001b[0m                            Traceback (most recent call last)",
      "\u001b[1;32m<ipython-input-8-1ffe38f73166>\u001b[0m in \u001b[0;36m<module>\u001b[1;34m\u001b[0m\n\u001b[1;32m----> 1\u001b[1;33m \u001b[0man02\u001b[0m\u001b[1;33m.\u001b[0m\u001b[0mage\u001b[0m       \u001b[1;31m# age 屬性 不存在\u001b[0m\u001b[1;33m\u001b[0m\u001b[1;33m\u001b[0m\u001b[0m\n\u001b[0m",
      "\u001b[1;31mAttributeError\u001b[0m: 'Animal' object has no attribute 'age'"
     ]
    }
   ],
   "source": [
    "an02.age       # age 屬性 不存在"
   ]
  },
  {
   "cell_type": "code",
   "execution_count": 9,
   "metadata": {},
   "outputs": [],
   "source": [
    "an02.age = 3   # 新增一個 age 的屬性"
   ]
  },
  {
   "cell_type": "code",
   "execution_count": 10,
   "metadata": {},
   "outputs": [
    {
     "data": {
      "text/plain": [
       "3"
      ]
     },
     "execution_count": 10,
     "metadata": {},
     "output_type": "execute_result"
    }
   ],
   "source": [
    "an02.age"
   ]
  },
  {
   "cell_type": "code",
   "execution_count": 11,
   "metadata": {},
   "outputs": [
    {
     "name": "stdout",
     "output_type": "stream",
     "text": [
      "is moving 20 unit(s)\n"
     ]
    }
   ],
   "source": [
    "an02.move(20)"
   ]
  },
  {
   "cell_type": "code",
   "execution_count": 12,
   "metadata": {},
   "outputs": [],
   "source": [
    "del an02.age   # 刪除 age 屬性"
   ]
  },
  {
   "cell_type": "markdown",
   "metadata": {},
   "source": [
    "## <font size = 4 color = blue>Python 的建構子與解建構子</font>\n",
    "- \\_\\_init\\_\\_(self) : 建構子（元）, 產生物件時，<font color = red>第一個</font>自動被執行的method。用來初始化物件變數，在除了python以外的物件導向通常都是用類別（class）的名稱\n",
    "- \\_\\_del\\_\\_(self) : 解建構子（元）, 物件被刪除時，最後一個自動被執行的method。用來回收垃圾，不是所有物件導向程式都有（C++有，JAVA沒有）\n",
    "\n",
    "## <font size = 4 color = blue>變數種類</font>\n",
    "- 區域變數（local variable） : 生命週期只存在再某一個區塊(block)內 ex：name, age\n",
    "- 物件變數（object/instance variable） : 生命週期隨著物件的出現與消失，每一個物件的物件變數是各自獨立 ex：self.name, self.age\n",
    "- 類別變數（class variable） : 所有物件皆共同使用 ex：counter"
   ]
  },
  {
   "cell_type": "code",
   "execution_count": 13,
   "metadata": {},
   "outputs": [],
   "source": [
    "class Animal :\n",
    "    def __init__(self, name, age) : # constructor\n",
    "        self.name = name  # name, age : local variable\n",
    "        self.age = age    # self.name, self.age : object(instance) variable\n",
    "        \n",
    "    def move(self, unit=1) :    # self : 代表物件本身，如同 Java 的 this\n",
    "        print('is moving {} unit(s)'.format(unit))\n",
    "        \n",
    "    def breath(self) :\n",
    "        print('is breathing...')"
   ]
  },
  {
   "cell_type": "code",
   "execution_count": 14,
   "metadata": {},
   "outputs": [],
   "source": [
    "an01 = Animal('an01', 3)"
   ]
  },
  {
   "cell_type": "code",
   "execution_count": 15,
   "metadata": {},
   "outputs": [
    {
     "data": {
      "text/plain": [
       "'an01'"
      ]
     },
     "execution_count": 15,
     "metadata": {},
     "output_type": "execute_result"
    }
   ],
   "source": [
    "an01.name"
   ]
  },
  {
   "cell_type": "markdown",
   "metadata": {},
   "source": [
    "<font size=3 >restart the kernal</font>"
   ]
  },
  {
   "cell_type": "code",
   "execution_count": 2,
   "metadata": {},
   "outputs": [],
   "source": [
    "class Animal :\n",
    "    counter = 0 #類別變數(class variable)\n",
    "    def __init__(self, name, age) : # constructor\n",
    "        self.name = name  # name, age : local variable\n",
    "        self.age = age    # self.name, self.age : object(instance) variable\n",
    "        Animal.counter += 1 # class variable：要加上類別名稱\n",
    "        \n",
    "    def move(self, unit=1) :    # self : 代表物件本身，如同 Java 的 this\n",
    "        print('is moving {} unit(s)'.format(unit))\n",
    "        \n",
    "    def breath(self) :\n",
    "        print('is breathing...')\n",
    "        \n",
    "    def __del__(self):\n",
    "        Animal.counter -= 1"
   ]
  },
  {
   "cell_type": "code",
   "execution_count": 3,
   "metadata": {},
   "outputs": [],
   "source": [
    "an01 = Animal('an01', 3)\n",
    "an02 = Animal('an02', 5)\n",
    "an03 = Animal('an03', 6)"
   ]
  },
  {
   "cell_type": "code",
   "execution_count": 4,
   "metadata": {
    "scrolled": false
   },
   "outputs": [
    {
     "name": "stdout",
     "output_type": "stream",
     "text": [
      "3\n",
      "3\n",
      "3\n",
      "3\n"
     ]
    }
   ],
   "source": [
    "print(an01.counter)\n",
    "print(an02.counter)\n",
    "print(an03.counter)\n",
    "print(Animal.counter)"
   ]
  },
  {
   "cell_type": "markdown",
   "metadata": {},
   "source": [
    "## <font color=blue size=4>Python Docstr（線上說明）</font>\n",
    "\n",
    "$Docstr∈g$可以在以下四種東西的第一行加入Docstring，一定要使用 \"\"\" \"\"\"<br>\n",
    "- module\n",
    "- function\n",
    "- class\n",
    "- method"
   ]
  },
  {
   "cell_type": "code",
   "execution_count": 5,
   "metadata": {},
   "outputs": [],
   "source": [
    "class Animal :\n",
    "    \"\"\"\n",
    "    This is an Animal\n",
    "    \"\"\"\n",
    "    def move(self, unit=1) :    # self : 代表物件本身，如同 Java 的 this\n",
    "        \"\"\"\n",
    "        unit : 移動的單位\n",
    "        \"\"\"\n",
    "        print('is moving {} unit(s)'.format(unit))\n",
    "        \n",
    "    def breath(self) :\n",
    "        print('is breathing...')"
   ]
  },
  {
   "cell_type": "code",
   "execution_count": 6,
   "metadata": {},
   "outputs": [
    {
     "name": "stdout",
     "output_type": "stream",
     "text": [
      "Help on class Animal in module __main__:\n",
      "\n",
      "class Animal(builtins.object)\n",
      " |  This is an Animal\n",
      " |  \n",
      " |  Methods defined here:\n",
      " |  \n",
      " |  breath(self)\n",
      " |  \n",
      " |  move(self, unit=1)\n",
      " |      unit : 移動的單位\n",
      " |  \n",
      " |  ----------------------------------------------------------------------\n",
      " |  Data descriptors defined here:\n",
      " |  \n",
      " |  __dict__\n",
      " |      dictionary for instance variables (if defined)\n",
      " |  \n",
      " |  __weakref__\n",
      " |      list of weak references to the object (if defined)\n",
      "\n"
     ]
    }
   ],
   "source": [
    "help(Animal)"
   ]
  },
  {
   "cell_type": "code",
   "execution_count": 8,
   "metadata": {},
   "outputs": [
    {
     "name": "stdout",
     "output_type": "stream",
     "text": [
      "is moving 6 unit(s)\n"
     ]
    }
   ],
   "source": [
    "an01 = Animal()\n",
    "an01.move(6)   # 可以使用 shift+tab 查詢 Docstring"
   ]
  },
  {
   "cell_type": "markdown",
   "metadata": {},
   "source": [
    "## <font size=4 color=blue>access modifier存取修飾子</font>\n",
    "- public：公開的，讓外面的直接存取，子類別可以繼承\n",
    "- protected：受保護的，子類別可以繼承\n",
    "- private：私有的，只有類別本身可以使用，子類別不可以繼承，也不可以改變"
   ]
  },
  {
   "cell_type": "code",
   "execution_count": 9,
   "metadata": {},
   "outputs": [],
   "source": [
    "class People :\n",
    "    def __init__(self, name, alias, age):\n",
    "        self.name = name     # public\n",
    "        self._alias = alias  # protected\n",
    "        self.__age = age     # private"
   ]
  },
  {
   "cell_type": "code",
   "execution_count": 10,
   "metadata": {},
   "outputs": [],
   "source": [
    "p1 = People(\"Amy\", \"a\", 18)"
   ]
  },
  {
   "cell_type": "code",
   "execution_count": 11,
   "metadata": {
    "scrolled": true
   },
   "outputs": [
    {
     "name": "stdout",
     "output_type": "stream",
     "text": [
      "Amy\n",
      "a\n"
     ]
    },
    {
     "ename": "AttributeError",
     "evalue": "'People' object has no attribute '__age'",
     "output_type": "error",
     "traceback": [
      "\u001b[1;31m---------------------------------------------------------------------------\u001b[0m",
      "\u001b[1;31mAttributeError\u001b[0m                            Traceback (most recent call last)",
      "\u001b[1;32m<ipython-input-11-e3dc2a07d8e5>\u001b[0m in \u001b[0;36m<module>\u001b[1;34m\u001b[0m\n\u001b[0;32m      1\u001b[0m \u001b[0mprint\u001b[0m\u001b[1;33m(\u001b[0m\u001b[0mp1\u001b[0m\u001b[1;33m.\u001b[0m\u001b[0mname\u001b[0m\u001b[1;33m)\u001b[0m\u001b[1;33m\u001b[0m\u001b[1;33m\u001b[0m\u001b[0m\n\u001b[0;32m      2\u001b[0m \u001b[0mprint\u001b[0m\u001b[1;33m(\u001b[0m\u001b[0mp1\u001b[0m\u001b[1;33m.\u001b[0m\u001b[0m_alias\u001b[0m\u001b[1;33m)\u001b[0m\u001b[1;33m\u001b[0m\u001b[1;33m\u001b[0m\u001b[0m\n\u001b[1;32m----> 3\u001b[1;33m \u001b[0mprint\u001b[0m\u001b[1;33m(\u001b[0m\u001b[0mp1\u001b[0m\u001b[1;33m.\u001b[0m\u001b[0m__age\u001b[0m\u001b[1;33m)\u001b[0m\u001b[1;33m\u001b[0m\u001b[1;33m\u001b[0m\u001b[0m\n\u001b[0m",
      "\u001b[1;31mAttributeError\u001b[0m: 'People' object has no attribute '__age'"
     ]
    }
   ],
   "source": [
    "print(p1.name) \n",
    "print(p1._alias)  # protected有隱藏的效果\n",
    "print(p1.__age)   # private完全不給外面使用\n",
    "# private:目前在於 \"封裝\""
   ]
  },
  {
   "cell_type": "code",
   "execution_count": 12,
   "metadata": {
    "scrolled": false
   },
   "outputs": [
    {
     "name": "stdout",
     "output_type": "stream",
     "text": [
      "Amy_Chen\n",
      "aaa\n"
     ]
    }
   ],
   "source": [
    "p1.name = \"Amy_Chen\"\n",
    "p1._alias = \"aaa\"\n",
    "print(p1.name) \n",
    "print(p1._alias)"
   ]
  },
  {
   "cell_type": "markdown",
   "metadata": {},
   "source": [
    "<font size=3 color = blue>存取private attribute</font>"
   ]
  },
  {
   "cell_type": "code",
   "execution_count": 16,
   "metadata": {},
   "outputs": [],
   "source": [
    "class People :\n",
    "    def __init__(self, name, alias, age):\n",
    "        self.name = name     # public\n",
    "        self._alias = alias  # protected\n",
    "        self.__age = age     # private\n",
    "    \n",
    "    def getAge(self):\n",
    "        return self.__age\n",
    "    \n",
    "    def setAge(self, age):\n",
    "        if age < 0 :\n",
    "            raise ValueError('年齡不可以小於0歲')\n",
    "        self.__age = age"
   ]
  },
  {
   "cell_type": "code",
   "execution_count": 18,
   "metadata": {},
   "outputs": [],
   "source": [
    "p1 = People(\"Amy\", \"a\", 18)"
   ]
  },
  {
   "cell_type": "code",
   "execution_count": 15,
   "metadata": {},
   "outputs": [
    {
     "data": {
      "text/plain": [
       "18"
      ]
     },
     "execution_count": 15,
     "metadata": {},
     "output_type": "execute_result"
    }
   ],
   "source": [
    "p1.getAge()"
   ]
  },
  {
   "cell_type": "code",
   "execution_count": 20,
   "metadata": {},
   "outputs": [
    {
     "name": "stdout",
     "output_type": "stream",
     "text": [
      "年齡不可以小於0歲\n"
     ]
    }
   ],
   "source": [
    "try:\n",
    "    p1.setAge(-10)\n",
    "except ValueError as e:\n",
    "    print(e)"
   ]
  },
  {
   "cell_type": "markdown",
   "metadata": {},
   "source": [
    "## 繼承"
   ]
  },
  {
   "cell_type": "markdown",
   "metadata": {},
   "source": [
    "<font color=blue size=3>繼承：不好的示範，乖小孩千萬不要學</font>"
   ]
  },
  {
   "cell_type": "code",
   "execution_count": null,
   "metadata": {},
   "outputs": [],
   "source": [
    "class Dog:\n",
    "    def move(self, unit=1):\n",
    "        print(\"is moving {} unit(s)\".format(unit))\n",
    "        \n",
    "    def breath(self):\n",
    "        print(\"is breathing......\")\n",
    "    \n",
    "    def bark(self):\n",
    "        print(\"汪汪汪\")"
   ]
  },
  {
   "cell_type": "code",
   "execution_count": null,
   "metadata": {},
   "outputs": [],
   "source": [
    "class Cat:\n",
    "    def move(self, unit=1):\n",
    "        print(\"is moving {} unit(s)\".format(unit))\n",
    "        \n",
    "    def breath(self):\n",
    "        print(\"is breathing......\")\n",
    "    \n",
    "    def bark(self):\n",
    "        print(\"喵喵喵\")"
   ]
  },
  {
   "cell_type": "markdown",
   "metadata": {},
   "source": [
    "<font color=red size=3>繼承：好的示範，乖小孩千萬要學</font>"
   ]
  },
  {
   "cell_type": "code",
   "execution_count": 29,
   "metadata": {},
   "outputs": [],
   "source": [
    "class Animal:\n",
    "    def move(self, unit=1):\n",
    "        print(\"is moving {} unit(s)\".format(unit))\n",
    "        \n",
    "    def breath(self):\n",
    "        print(\"is breathing......\")\n",
    "        \n",
    "class Dog(Animal): # Dog 繼承自 Animal\n",
    "    def bark(self):\n",
    "        print(\"汪汪汪\")\n",
    "        \n",
    "class Cat(Animal):\n",
    "    def bark(self):\n",
    "        print(\"喵喵喵\")"
   ]
  },
  {
   "cell_type": "code",
   "execution_count": 30,
   "metadata": {},
   "outputs": [],
   "source": [
    "dog = Dog()\n",
    "cat = Cat()"
   ]
  },
  {
   "cell_type": "code",
   "execution_count": 31,
   "metadata": {
    "scrolled": true
   },
   "outputs": [
    {
     "name": "stdout",
     "output_type": "stream",
     "text": [
      "汪汪汪\n",
      "is moving 6 unit(s)\n",
      "喵喵喵\n",
      "is moving 3 unit(s)\n"
     ]
    }
   ],
   "source": [
    "dog.bark()\n",
    "dog.move(6)\n",
    "cat.bark()\n",
    "cat.move(3)"
   ]
  },
  {
   "cell_type": "markdown",
   "metadata": {},
   "source": [
    "## Overriding(覆寫)"
   ]
  },
  {
   "cell_type": "code",
   "execution_count": 36,
   "metadata": {},
   "outputs": [],
   "source": [
    "class Animal:\n",
    "    def __init__(self, typeName):\n",
    "        self.typeName = typeName\n",
    "        \n",
    "    def move(self, unit=1):\n",
    "        print(\"is moving {} unit(s)\".format(unit))\n",
    "        \n",
    "    def breath(self):\n",
    "        print(\"is breathing......\")\n",
    "        \n",
    "class Dog(Animal): # Dog 繼承自 Animal\n",
    "    def __init__(self, typeName, name):\n",
    "        super().__init__(typeName)\n",
    "        self.name = name\n",
    "        \n",
    "    def bark(self):\n",
    "        print(\"汪汪汪\")\n",
    "        \n",
    "class Cat(Animal):\n",
    "    def bark(self):\n",
    "        print(\"喵喵喵\")\n",
    "        \n",
    "    def move(self, unit=1):\n",
    "        print(\"is jumping {} unit(s)\".format(unit))"
   ]
  },
  {
   "cell_type": "code",
   "execution_count": 37,
   "metadata": {},
   "outputs": [],
   "source": [
    "dog = Dog('Dog', '小白')\n",
    "cat = Cat('Cat')\n",
    "an = Animal('Animal')"
   ]
  },
  {
   "cell_type": "code",
   "execution_count": 38,
   "metadata": {},
   "outputs": [
    {
     "name": "stdout",
     "output_type": "stream",
     "text": [
      "小白\n",
      "is moving 1 unit(s)\n",
      "is jumping 1 unit(s)\n",
      "is moving 1 unit(s)\n"
     ]
    }
   ],
   "source": [
    "print(dog.name)\n",
    "dog.move()\n",
    "cat.move()\n",
    "an.move()"
   ]
  },
  {
   "cell_type": "markdown",
   "metadata": {},
   "source": [
    "## 實際個案探討"
   ]
  },
  {
   "cell_type": "code",
   "execution_count": 39,
   "metadata": {},
   "outputs": [],
   "source": [
    "import pandas as pd\n",
    "import matplotlib.pyplot as plt"
   ]
  },
  {
   "cell_type": "code",
   "execution_count": 40,
   "metadata": {},
   "outputs": [],
   "source": [
    "fname = r'Data\\PyData\\iris.csv'\n",
    "iris = pd.read_csv(fname, sep=',', encoding='utf-8', engine='python')\n",
    "\n",
    "fname = r'Data\\PyData\\cars.csv'\n",
    "cars = pd.read_csv(fname, sep=',', encoding='utf-8', engine='python')"
   ]
  },
  {
   "cell_type": "code",
   "execution_count": 43,
   "metadata": {},
   "outputs": [],
   "source": [
    "class MyPlot:\n",
    "    def __init__(self, data = None):\n",
    "        self.data = data\n",
    "        \n",
    "    def scatter(self, x, y):\n",
    "        plt.plot(self.data[x], self.data[y], \"b^\")\n",
    "        plt.show()\n",
    "    \n",
    "    def getData(self):\n",
    "        return self.data"
   ]
  },
  {
   "cell_type": "code",
   "execution_count": 44,
   "metadata": {},
   "outputs": [],
   "source": [
    "myPlot_iris = MyPlot(iris)\n",
    "myPlot_cars = MyPlot(cars)"
   ]
  },
  {
   "cell_type": "code",
   "execution_count": 49,
   "metadata": {
    "scrolled": true
   },
   "outputs": [
    {
     "data": {
      "image/png": "[encoded data removed]",
      "text/plain": [
       "<Figure size 432x288 with 1 Axes>"
      ]
     },
     "metadata": {
      "needs_background": "light"
     },
     "output_type": "display_data"
    }
   ],
   "source": [
    "myPlot_cars.scatter('speed', 'dist')"
   ]
  },
  {
   "cell_type": "code",
   "execution_count": 47,
   "metadata": {
    "scrolled": true
   },
   "outputs": [
    {
     "data": {
      "image/png": "[encoded data removed]",
      "text/plain": [
       "<Figure size 432x288 with 1 Axes>"
      ]
     },
     "metadata": {
      "needs_background": "light"
     },
     "output_type": "display_data"
    }
   ],
   "source": [
    "myPlot_iris.scatter('Sepal.Length', 'Sepal.Width')"
   ]
  },
  {
   "cell_type": "markdown",
   "metadata": {},
   "source": [
    "<font color =red size=4>有無使用copy的差別</font>\n",
    "\n",
    "【特別注意】 iris 與 myPlot_iris 物件內的 dataframe 屬於同一份資料"
   ]
  },
  {
   "cell_type": "markdown",
   "metadata": {},
   "source": [
    "<font size=3>無使用copy</font>"
   ]
  },
  {
   "cell_type": "code",
   "execution_count": 50,
   "metadata": {},
   "outputs": [
    {
     "name": "stdout",
     "output_type": "stream",
     "text": [
      "100.0\n",
      "100.0\n",
      "300.0\n"
     ]
    }
   ],
   "source": [
    "iris.iat[0,0] = 100\n",
    "print(myPlot_iris.getData().iat[0,0])\n",
    "test = myPlot_iris.getData()\n",
    "print(test.iat[0, 0])\n",
    "test.iat[0, 0] = 300\n",
    "print(iris.iat[0, 0])"
   ]
  },
  {
   "cell_type": "markdown",
   "metadata": {},
   "source": [
    "<font size=3>使用copy</font>"
   ]
  },
  {
   "cell_type": "code",
   "execution_count": 52,
   "metadata": {
    "scrolled": true
   },
   "outputs": [
    {
     "name": "stdout",
     "output_type": "stream",
     "text": [
      "100.0\n",
      "100.0\n",
      "100.0\n"
     ]
    }
   ],
   "source": [
    "iris.iat[0,0] = 100\n",
    "print(myPlot_iris.getData().iat[0,0])\n",
    "test = myPlot_iris.getData().copy()\n",
    "print(test.iat[0, 0])\n",
    "test.iat[0, 0] = 300\n",
    "print(iris.iat[0, 0])"
   ]
  },
  {
   "cell_type": "markdown",
   "metadata": {},
   "source": [
    "<font size=4>將 myPlot_iris 物件存成檔案，再重新載入使用</font>"
   ]
  },
  {
   "cell_type": "code",
   "execution_count": 53,
   "metadata": {},
   "outputs": [],
   "source": [
    "import joblib"
   ]
  },
  {
   "cell_type": "code",
   "execution_count": 55,
   "metadata": {},
   "outputs": [
    {
     "data": {
      "text/plain": [
       "['temp\\\\iris.job']"
      ]
     },
     "execution_count": 55,
     "metadata": {},
     "output_type": "execute_result"
    }
   ],
   "source": [
    "joblib.dump(myPlot_iris, r'temp\\iris.job')"
   ]
  },
  {
   "cell_type": "markdown",
   "metadata": {},
   "source": [
    "<font size=3 >restart the kernal</font>"
   ]
  },
  {
   "cell_type": "code",
   "execution_count": 1,
   "metadata": {},
   "outputs": [],
   "source": [
    "import pandas as pd\n",
    "import matplotlib.pyplot as plt\n",
    "import joblib"
   ]
  },
  {
   "cell_type": "code",
   "execution_count": 2,
   "metadata": {},
   "outputs": [],
   "source": [
    "class MyPlot :\n",
    "    def __init__(self, data = None) :\n",
    "        self.data = data\n",
    "    \n",
    "    def scatter(self, x, y):\n",
    "        plt.plot(self.data[x], self.data[y], 'b^')\n",
    "        plt.show()\n",
    "        \n",
    "    def getData(self) :\n",
    "        return self.data"
   ]
  },
  {
   "cell_type": "code",
   "execution_count": 4,
   "metadata": {},
   "outputs": [],
   "source": [
    "myPlot = joblib.load(r'temp\\iris.job')"
   ]
  },
  {
   "cell_type": "code",
   "execution_count": 5,
   "metadata": {},
   "outputs": [
    {
     "data": {
      "text/plain": [
       "100.0"
      ]
     },
     "execution_count": 5,
     "metadata": {},
     "output_type": "execute_result"
    }
   ],
   "source": [
    "myPlot.getData().iat[0, 0]"
   ]
  },
  {
   "cell_type": "markdown",
   "metadata": {},
   "source": [
    "<font size=4 color=red>使用**kwargs</font>"
   ]
  },
  {
   "cell_type": "code",
   "execution_count": 6,
   "metadata": {},
   "outputs": [],
   "source": [
    "class MyPlot2 :\n",
    "    def __init__(self, data = None) :\n",
    "        self.data = data\n",
    "    \n",
    "    def scatter(self, x, y, **kwargs):\n",
    "        plt.plot(self.data[x], self.data[y], **kwargs)\n",
    "        plt.show()\n",
    "        \n",
    "    def getData(self) :\n",
    "        return self.data"
   ]
  },
  {
   "cell_type": "code",
   "execution_count": 7,
   "metadata": {},
   "outputs": [],
   "source": [
    "fname = r'Data\\PyData\\iris.csv'\n",
    "iris = pd.read_csv(fname, sep=',', encoding='utf-8', engine='python')\n",
    "\n",
    "fname = r'Data\\PyData\\cars.csv'\n",
    "cars = pd.read_csv(fname, sep=',', encoding='utf-8', engine='python')"
   ]
  },
  {
   "cell_type": "code",
   "execution_count": 8,
   "metadata": {},
   "outputs": [],
   "source": [
    "myPlot_iris = MyPlot2(iris)\n",
    "myPlot_cars = MyPlot2(cars)"
   ]
  },
  {
   "cell_type": "code",
   "execution_count": 13,
   "metadata": {
    "scrolled": true
   },
   "outputs": [
    {
     "data": {
      "image/png": "[encoded data removed]",
      "text/plain": [
       "<Figure size 432x288 with 1 Axes>"
      ]
     },
     "metadata": {
      "needs_background": "light"
     },
     "output_type": "display_data"
    }
   ],
   "source": [
    "myPlot_cars.scatter('speed', 'dist', marker=\"o\", linestyle='')"
   ]
  },
  {
   "cell_type": "code",
   "execution_count": 14,
   "metadata": {
    "scrolled": true
   },
   "outputs": [
    {
     "data": {
      "image/png": "[encoded data removed]",
      "text/plain": [
       "<Figure size 432x288 with 1 Axes>"
      ]
     },
     "metadata": {
      "needs_background": "light"
     },
     "output_type": "display_data"
    }
   ],
   "source": [
    "myPlot_iris.scatter('Sepal.Length', 'Sepal.Width', marker='v', color=\"red\", linestyle='')"
   ]
  }
 ],
 "metadata": {
  "kernelspec": {
   "display_name": "Python 3",
   "language": "python",
   "name": "python3"
  },
  "language_info": {
   "codemirror_mode": {
    "name": "ipython",
    "version": 3
   },
   "file_extension": ".py",
   "mimetype": "text/x-python",
   "name": "python",
   "nbconvert_exporter": "python",
   "pygments_lexer": "ipython3",
   "version": "3.8.5"
  }
 },
 "nbformat": 4,
 "nbformat_minor": 2
}
