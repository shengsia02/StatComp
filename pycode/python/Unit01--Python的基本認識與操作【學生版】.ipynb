{
 "cells": [
  {
   "cell_type": "markdown",
   "metadata": {},
   "source": [
    "【臺北大學】Python程式設計<br>\n",
    "【授課老師】[陳祥輝 (Email : HsiangHui.Chen@gmail.com)](mailto:HsiangHui.Chen@gmail.com)<br>\n",
    "【facebook】[陳祥輝老師的臉書 (歡迎加好友)](https://goo.gl/osivhx)<br>\n",
    "【參考書籍】[從零開始學Python程式設計（適用Python 3.5以上）](http://www.drmaster.com.tw/Bookinfo.asp?BookID=MP31821)<br>\n",
    "【主要議題】Python的基本認識與操作"
   ]
  },
  {
   "cell_type": "code",
   "execution_count": 3,
   "metadata": {
    "collapsed": true
   },
   "outputs": [],
   "source": [
    "# -*- coding: utf-8 -*-\n",
    "import os, time\n",
    "\n",
    "print(\"【工作目錄】{}\".format(os.getcwd()))\n",
    "print(\"【日期時間】{}\".format(time.strftime(\"%Y/%m/%d %H:%M:%S\")))"
   ]
  },
  {
   "cell_type": "markdown",
   "metadata": {},
   "source": [
    "【重點提要】\n",
    "\n",
    "* Unicode的使用\n",
    "* comment\n",
    " * 單行註記 : # (Ctrl+/)\n",
    " * 多行註記 : 前後使用三個引號 \"\"\".....\"\"\"\n",
    "* 一個敘述斷行的連結符號 : \\ (倒斜線)\n",
    "* 一行有多個敘述的連結符號 : ; (分號)\n",
    "* 程式的block使用縮排 (:)\n",
    "* console輸入資料 : input()\n",
    "* 基本的算術運算子(Arithmetic operators) \n",
    "* 指派運算子(Assignment operators)<br>\n",
    "* 比較運算子(Comparison operators)\n",
    "* 邏輯運算子(Logical operators)\n",
    "* 位元運算子(Bitwise operators)<br>\n",
    "* Identity operators\n",
    "* Membership operators\n",
    "* 常用math模組的屬性、方法"
   ]
  },
  {
   "cell_type": "markdown",
   "metadata": {},
   "source": [
    "### <font color=#0000FF>Jupyter Notebook環境的基本操作與線上說明</font>"
   ]
  },
  {
   "cell_type": "markdown",
   "metadata": {},
   "source": [
    "<font color=#0000FF>快速鍵的練習</font>\n",
    "* jupyter notebook 的快速鍵 : <font color=#FF0000>【Help】\\【Keyboard Shortcuts】</font>\n",
    "* 模式切換\n",
    "    * 【Command mode】\n",
    "    * 【Edit mode】\n",
    "* 認識 Cell 的切換與功用\n",
    "    * 【Code】 (command mode : **<u>Y</u>**)\n",
    "    * 【Markdown】 (command mode : <b><u>M</u></u>)"
   ]
  },
  {
   "cell_type": "markdown",
   "metadata": {},
   "source": [
    "<font size=3 color=red>使用批次(batch)檔案啟動jupyter notebook</font>\n",
    "\n",
    "利用notepad++輸入下列指令（這個指令會直接在CMD執行） 存成 Py38.bat（bat是windows的批次檔）<br>\n",
    "call conda activate Py38<br>\n",
    "call conda env list<br>\n",
    "timeout /t 10<br>\n",
    "jupyter notebook 路徑位置<br>"
   ]
  },
  {
   "cell_type": "markdown",
   "metadata": {},
   "source": [
    "### <font color=#0000FF>Jupyter lab（雲端）環境的基本操作與線上說明</font>"
   ]
  },
  {
   "cell_type": "markdown",
   "metadata": {},
   "source": [
    "- pip install jupyterlab\n",
    "- jupyter lab D:\\"
   ]
  },
  {
   "cell_type": "markdown",
   "metadata": {},
   "source": [
    "### <font color=#0000FF>Python的基本操作</font>"
   ]
  },
  {
   "cell_type": "markdown",
   "metadata": {},
   "source": [
    "<font color=#0000FF>設定編碼</font>"
   ]
  },
  {
   "cell_type": "code",
   "execution_count": 35,
   "metadata": {
    "collapsed": true
   },
   "outputs": [],
   "source": [
    "#以下三種設定方式皆可\n",
    "\n",
    "#-*- coding: utf-8 -*-\n",
    "#coding = utf-8\n",
    "#coding : utf-8"
   ]
  },
  {
   "cell_type": "code",
   "execution_count": null,
   "metadata": {
    "collapsed": true
   },
   "outputs": [],
   "source": []
  },
  {
   "cell_type": "code",
   "execution_count": null,
   "metadata": {
    "collapsed": true
   },
   "outputs": [],
   "source": []
  },
  {
   "cell_type": "markdown",
   "metadata": {},
   "source": [
    "### <font color=#0000FF>基本的算術運算子(Arithmetic operators) </font>\n",
    "\n",
    "|運算子|說明|\n",
    "|:---:|:---:|\n",
    "|+  | 加法|\n",
    "|-  | 減法|\n",
    "|*  | 乘法|\n",
    "|/ | 除法|\n",
    "|**| 次方|\n",
    "|//| 整數商|\n",
    "|% | 餘數|\n"
   ]
  },
  {
   "cell_type": "code",
   "execution_count": null,
   "metadata": {
    "collapsed": true
   },
   "outputs": [],
   "source": []
  },
  {
   "cell_type": "markdown",
   "metadata": {},
   "source": [
    "### <font color=#0000FF>指派運算子(Assignment operators)</font>\n",
    "<font color=#FF0000>假設result的初始值=20</font>\n",
    "\n",
    "|指派運算子|使用說明|運算說明|result的結果|\n",
    "|:---:|:---:|:---:|:---:|\n",
    "|+=|result+=10|result = result + 10|30|\n",
    "|-=|result-=10|result = result - 10|10|\n",
    "|*=|result*=10|result = result * 10|200|\n",
    "|/=|result/=10|result = result / 10|2|\n",
    "|**=|result**=2|result = result ** 2|400|\n",
    "|//=|result//=3|result = result // 3|6|\n",
    "|%= |result%=7|result = result % 7|6|"
   ]
  },
  {
   "cell_type": "code",
   "execution_count": null,
   "metadata": {
    "collapsed": true
   },
   "outputs": [],
   "source": []
  },
  {
   "cell_type": "markdown",
   "metadata": {},
   "source": [
    "### <font color=#0000FF>比較運算子(Comparison operators)</font>\n",
    "\n",
    "|運算子|說明|範例|\n",
    "|:---:|:---|:---|\n",
    "|> |判斷左邊的值是否大於右邊的值|x > y|\n",
    "|< |判斷左邊的值是否大於右邊的值|x < y|\n",
    "|==|判斷左、右兩邊的值是否相等|x == y|\n",
    "|!=|判斷左、右兩邊的值是否不相等|x != y|\n",
    "|>=|判斷左邊的值是否大於或等於右邊的值|x >= y|\n",
    "|<=|判斷左邊的值是否小於或等於右邊的值|x <= y|"
   ]
  },
  {
   "cell_type": "code",
   "execution_count": null,
   "metadata": {
    "collapsed": true
   },
   "outputs": [],
   "source": []
  },
  {
   "cell_type": "markdown",
   "metadata": {},
   "source": [
    "### <font color=#0000FF>邏輯運算子(Logical operators)</font>\n",
    "\n",
    "|運算子|說明|範例|\n",
    "|:---:|:---|:---|\n",
    "|and|當兩邊皆為True，結果才會True，否則皆為False|x and y|\n",
    "|or |當兩邊其中有一個True，結果就會True，否則為False|x or y|\n",
    "|not|結果會與運算元(operand)相反|not x|"
   ]
  },
  {
   "cell_type": "code",
   "execution_count": null,
   "metadata": {
    "collapsed": true
   },
   "outputs": [],
   "source": []
  },
  {
   "cell_type": "markdown",
   "metadata": {},
   "source": [
    "### <font color=#0000FF>位元運算子(Bitwise operators)</font>\n",
    "<font color=#FF0000>假設x的初始值=10 (0000 1010)<br>\n",
    "假設y的初始值= 4 (0000 0100)</font>\n",
    "\n",
    "|運算子|說明|範例|\n",
    "|:---:|:---|:---|\n",
    "|& |Bitwise AND|x & y = 0 (0000 0000)|\n",
    "|｜|Bitwise OR|x ｜ y = 14 (0000 1110)|\n",
    "|~ |Bitwise NOT|~x = -11 (1111 0101)|\n",
    "|^ |Bitwise XOR|x ^ y = 14 (0000 1110)|\n",
    "|>>|Bitwise right shift|x>> 2 = 2 (0000 0010)|\n",
    "|<<|Bitwise left shift|x<< 2 = 40 (0010 1000)|\n"
   ]
  },
  {
   "cell_type": "code",
   "execution_count": null,
   "metadata": {
    "collapsed": true
   },
   "outputs": [],
   "source": []
  },
  {
   "cell_type": "markdown",
   "metadata": {},
   "source": [
    "### <font color=#0000FF>Identity operators</font>\n",
    "\n",
    "|運算子|說明|範例|\n",
    "|:---:|:---|:---|\n",
    "|is|判斷是否相同|x is True|\n",
    "|is not|判斷是否不相同|x is not True|\n"
   ]
  },
  {
   "cell_type": "code",
   "execution_count": null,
   "metadata": {
    "collapsed": true
   },
   "outputs": [],
   "source": []
  },
  {
   "cell_type": "markdown",
   "metadata": {},
   "source": [
    "### <font color=#0000FF>Membership operators</font>\n",
    "\n",
    "|運算子|說明|範例|\n",
    "|:---:|:---|:---|\n",
    "|in|判斷某值或變數是否在序列中找得到|5 in x|\n",
    "|not in|判斷某值或變數是否在序列中找得到|5 not in x|"
   ]
  },
  {
   "cell_type": "code",
   "execution_count": null,
   "metadata": {
    "collapsed": true
   },
   "outputs": [],
   "source": []
  },
  {
   "cell_type": "markdown",
   "metadata": {},
   "source": [
    "### <font color=#0000FF>常用math模組的屬性、方法</font>\n",
    "【常用屬性】\n",
    "* math.nan\n",
    "* math.pi\n",
    "* math.inf\n",
    "---\n",
    "* math.ceil(), math.floor()\n",
    "* math.isfinite(), math.isinf()\n",
    "* math.isnan()\n",
    "* math.pow(), math.exp()\n",
    "* math.round()\n",
    "* math.sqrt()"
   ]
  },
  {
   "cell_type": "code",
   "execution_count": 6,
   "metadata": {},
   "outputs": [],
   "source": [
    "dir(__builtins__)"
   ]
  },
  {
   "cell_type": "markdown",
   "metadata": {},
   "source": [
    "### <font color=#0000FF>常用內建函數</font>\n",
    "【參考資料】\n",
    "* [Python BUILT-IN METHODS](https://www.programiz.com/python-programming/methods/built-in/exec)\n",
    "\n",
    "---\n",
    "\n",
    "* abs() : returns absolute value of a number\n",
    "* all() : returns true when all elements in iterable is true\n",
    "* any() : Checks if any Element of an Iterable is True\n",
    "* ascii() : Returns String Containing Printable Representation\n",
    "* bin() : converts integer to binary string\n",
    "* bool() : Coverts a Value to Boolean\n",
    "* bytearray() : returns array of given byte size\n",
    "* bytes() : returns immutable bytes object\n",
    "* callable() : Checks if the Object is Callable\n",
    "* chr() : Returns a Character (a string) from an Integer\n",
    "* classmethod() : returns class method for given function\n",
    "* compile() : Returns a Python code object\n",
    "* complex() : Creates a Complex Number\n",
    "* copyright()\n",
    "* credits()\n",
    "* delattr() : Deletes Attribute From the Object\n",
    "* ***dict() : Creates a Dictionary***\n",
    "* dir() : Tries to Return Attributes of Object\n",
    "* divmod() : Returns a Tuple of Quotient and Remainder\n",
    "* dreload()\n",
    "* enumerate() : Returns an Enumerate Object\n",
    "* eval() : Runs Python Code Within Program\n",
    "* exec() : Executes Dynamically Created Program\n",
    "* filter() : constructs iterator from elements which are true\n",
    "* float() : returns floating point number from number, string\n",
    "* format() : returns formatted representation of a value\n",
    "* frozenset() : returns immutable frozenset object\n",
    "* get_ipython()\n",
    "* getattr() : returns value of named attribute of an object\n",
    "* globals() : returns dictionary of current global symbol table\n",
    "* hasattr() : returns whether object has named attribute\n",
    "* hash() : returns hash value of an object\n",
    "* help() : Invokes the built-in Help System\n",
    "* hex() : Converts to Integer to Hexadecimal\n",
    "* id() : Returns Identify of an Object\n",
    "* input() : reads and returns a line of string\n",
    "* int() : returns integer from a number or string\n",
    "* isinstance() : Checks if a Object is an Instance of Class\n",
    "* issubclass() : Checks if a Object is Subclass of a Class\n",
    "* iter() : returns iterator for an object\n",
    "* len() : Returns Length of an Object\n",
    "* license()\n",
    "* ***list() : creates list in Python***\n",
    "* locals() :returns dictionary of current local symbol table\n",
    "* map() : Applies Function and Returns a List\n",
    "* max() : returns largest element\n",
    "* memoryview() : returns memory view of an argument\n",
    "* min() : returns smallest element\n",
    "* next() : Retrieves Next Element from Iterator\n",
    "* object() : \tCreates a Featureless Object\n",
    "* oct() : converts integer to octal\n",
    "* open() : Returns a File object\n",
    "* ord() : returns Unicode code point for Unicode character\n",
    "* pow() : returns x to the power of y\n",
    "* print() : Prints the Given Object\n",
    "* property() : returns a property attribute\n",
    "* range() : return sequence of integers between start and stop\n",
    "* repr() : returns printable representation of an object\n",
    "* reversed() : returns reversed iterator of a sequence\n",
    "* round() : rounds a floating point number to ndigits places.\n",
    "* ***set() : returns a Python set***\n",
    "* setattr() : sets value of an attribute of object\n",
    "* slice() : creates a slice object specified by range()\n",
    "* sorted() : returns sorted list from a given iterable\n",
    "* staticmethod() : creates static method from a function\n",
    "* str() : returns informal representation of an object\n",
    "* sum() : Add items of an Iterable\n",
    "* super() : Allow you to Refer Parent Class by super\n",
    "* ***tuple() : Creates a Tuple***\n",
    "* type() : Returns Type of an Object\n",
    "* vars() : Returns __dict__ attribute of a class\n",
    "* zip() : Returns an Iterator of Tuples\n",
    "* \\__import\\__() : Advanced Function Called by import"
   ]
  },
  {
   "cell_type": "code",
   "execution_count": 21,
   "metadata": {
    "collapsed": true
   },
   "outputs": [],
   "source": []
  },
  {
   "cell_type": "code",
   "execution_count": null,
   "metadata": {
    "collapsed": true
   },
   "outputs": [],
   "source": []
  }
 ],
 "metadata": {
  "kernelspec": {
   "display_name": "Python 3",
   "language": "python",
   "name": "python3"
  },
  "language_info": {
   "codemirror_mode": {
    "name": "ipython",
    "version": 3
   },
   "file_extension": ".py",
   "mimetype": "text/x-python",
   "name": "python",
   "nbconvert_exporter": "python",
   "pygments_lexer": "ipython3",
   "version": "3.8.5"
  }
 },
 "nbformat": 4,
 "nbformat_minor": 2
}
