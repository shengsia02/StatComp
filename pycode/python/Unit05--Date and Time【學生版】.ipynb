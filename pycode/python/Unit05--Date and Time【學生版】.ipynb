{
 "cells": [
  {
   "cell_type": "markdown",
   "metadata": {},
   "source": [
    "【臺北大學】Python程式設計<br>\n",
    "【授課老師】[陳祥輝 (Email : HsiangHui.Chen@gmail.com)](mailto:HsiangHui.Chen@gmail.com)<br>\n",
    "【facebook】[陳祥輝老師的臉書 (歡迎加好友)](https://goo.gl/osivhx)<br>\n",
    "【參考書籍】[從零開始學Python程式設計（適用Python 3.5以上）](http://www.drmaster.com.tw/Bookinfo.asp?BookID=MP31821)<br>\n",
    "【主要議題】Date and Time"
   ]
  },
  {
   "cell_type": "markdown",
   "metadata": {},
   "source": [
    "【重點提要】\n",
    "- Python <font color=#0000FF>time</font> Module\n",
    "- pandas有關日期的method\n",
    "    - [pandas.date_range()](https://pandas.pydata.org/pandas-docs/stable/reference/api/pandas.date_range.html) : Return a fixed frequency DatetimeIndex.\n",
    "    - [pandas.DatetimeIndex()](https://pandas.pydata.org/pandas-docs/stable/reference/api/pandas.DatetimeIndex.html#pandas.DatetimeIndex) : An immutable container for datetimes.\n",
    "    - [pandas.timedelta_range()](https://pandas.pydata.org/pandas-docs/stable/reference/api/pandas.timedelta_range.html#pandas.timedelta_range) : Return a fixed frequency TimedeltaIndex.\n",
    "    - [pandas.period_range()](https://pandas.pydata.org/pandas-docs/stable/reference/api/pandas.period_range.html#pandas.period_range) : Return a fixed frequency PeriodIndex.\n",
    "    - [pandas.interval_range()](https://pandas.pydata.org/pandas-docs/stable/reference/api/pandas.interval_range.html#pandas.interval_range) : Return a fixed frequency IntervalIndex.\n",
    "- Python <font color=#0000FF>datetime</font> Module"
   ]
  },
  {
   "cell_type": "markdown",
   "metadata": {},
   "source": [
    "【參考資料】\n",
    "- [Offset Aliases](https://pandas.pydata.org/pandas-docs/stable/user_guide/timeseries.html#timeseries-offset-aliases)\n",
    "- [Python datetime Module](https://www.programiz.com/python-programming/datetime)"
   ]
  },
  {
   "cell_type": "code",
   "execution_count": 1,
   "metadata": {},
   "outputs": [
    {
     "name": "stdout",
     "output_type": "stream",
     "text": [
      "【日期時間】2021-04-20 14:21:38\n",
      "【工作目錄】C:\\Users\\NTPU Computer Center\\Desktop\n",
      "【主機名稱】1MF08-06 (10.137.110.6)\n",
      "【Python】3.8.5\n"
     ]
    }
   ],
   "source": [
    "# -*- coding: utf-8 -*-\n",
    "from platform import python_version\n",
    "import os, time, socket\n",
    "import pandas as pd\n",
    "import numpy as np\n",
    "\n",
    "print(\"【日期時間】{}\".format(time.strftime(\"%Y-%m-%d %H:%M:%S\")))\n",
    "print(\"【工作目錄】{}\".format(os.getcwd()))\n",
    "print(\"【主機名稱】{} ({})\".format(socket.gethostname(),socket.gethostbyname(socket.gethostname())))\n",
    "print(\"【Python】{}\".format(python_version()))"
   ]
  },
  {
   "cell_type": "markdown",
   "metadata": {},
   "source": [
    "### <font color=#0000FF>time.strftime()</font>\n",
    "<pre>\n",
    "%Y  Year with century as a decimal number.\n",
    "%m  Month as a decimal number [01,12].\n",
    "%d  Day of the month as a decimal number [01,31].\n",
    "%H  Hour (24-hour clock) as a decimal number [00,23].\n",
    "%M  Minute as a decimal number [00,59].\n",
    "%S  Second as a decimal number [00,61].\n",
    "%z  Time zone offset from UTC.\n",
    "%a  Locale's abbreviated weekday name.\n",
    "%A  Locale's full weekday name.\n",
    "%b  Locale's abbreviated month name.\n",
    "%B  Locale's full month name.\n",
    "%c  Locale's appropriate date and time representation.\n",
    "%I  Hour (12-hour clock) as a decimal number [01,12].\n",
    "%p  Locale's equivalent of either AM or PM.\n",
    "</pre>"
   ]
  },
  {
   "cell_type": "markdown",
   "metadata": {},
   "source": [
    "### <font color=#0000FF>pandas.date_range()</font>\n",
    "\n",
    "pandas.date_range(start=None, end=None, periods=None, freq=None, tz=None, normalize=False, name=None, closed=None, **kwargs)\n",
    "\n",
    "- start : str or datetime-like, optional Left bound for generating dates.\n",
    "- end : str or datetime-like, optional Right bound for generating dates.\n",
    "- periods : integer, optional Number of periods to generate.\n",
    "- freq : str or DateOffset, default ‘D’ Frequency strings can have multiples, e.g. ‘5H’. See here for a list of frequency aliases.\n",
    "- tz : str or tzinfo, optional Time zone name for returning localized DatetimeIndex, for example ‘Asia/Hong_Kong’. By default, the resulting DatetimeIndex is timezone-naive.\n",
    "- normalize : bool, default False Normalize start/end dates to midnight before generating date range.\n",
    "- name : str, default None Name of the resulting DatetimeIndex.\n",
    "- closed : {None, ‘left’, ‘right’}, optional Make the interval closed with respect to the given frequency to the ‘left’, ‘right’, or both sides (None, the default).\n",
    "- \\**kwargs For compatibility. Has no effect on the result.\n",
    "\n",
    "---\n",
    "[參考資料]\n",
    "- [pandas.date_range](https://pandas.pydata.org/pandas-docs/stable/reference/api/pandas.date_range.html)\n",
    "- [Offset Aliases](https://pandas.pydata.org/pandas-docs/stable/user_guide/timeseries.html#timeseries-offset-aliases)\n",
    "- [Using the urllib.request Module](https://stackabuse.com/download-files-with-python/)"
   ]
  },
  {
   "cell_type": "markdown",
   "metadata": {},
   "source": [
    "#### <font color=#0000FF>(1) freq 參數 : 給定起(start)、迄(end)，依據freq來取日期</font>\n",
    "- [Offset Aliases](https://pandas.pydata.org/pandas-docs/stable/user_guide/timeseries.html#timeseries-offset-aliases) <font color='red'>【★★★★☆】</font>"
   ]
  },
  {
   "cell_type": "code",
   "execution_count": 2,
   "metadata": {},
   "outputs": [
    {
     "data": {
      "text/plain": [
       "DatetimeIndex(['2021-12-15', '2021-12-17', '2021-12-19', '2021-12-21',\n",
       "               '2021-12-23', '2021-12-25', '2021-12-27', '2021-12-29',\n",
       "               '2021-12-31', '2022-01-02', '2022-01-04', '2022-01-06',\n",
       "               '2022-01-08', '2022-01-10', '2022-01-12', '2022-01-14',\n",
       "               '2022-01-16', '2022-01-18', '2022-01-20', '2022-01-22',\n",
       "               '2022-01-24', '2022-01-26', '2022-01-28', '2022-01-30',\n",
       "               '2022-02-01', '2022-02-03', '2022-02-05', '2022-02-07',\n",
       "               '2022-02-09', '2022-02-11', '2022-02-13', '2022-02-15',\n",
       "               '2022-02-17', '2022-02-19', '2022-02-21', '2022-02-23',\n",
       "               '2022-02-25', '2022-02-27', '2022-03-01', '2022-03-03',\n",
       "               '2022-03-05', '2022-03-07', '2022-03-09', '2022-03-11',\n",
       "               '2022-03-13', '2022-03-15'],\n",
       "              dtype='datetime64[ns]', freq='2D')"
      ]
     },
     "execution_count": 2,
     "metadata": {},
     "output_type": "execute_result"
    }
   ],
   "source": [
    "pd.date_range(start='2021-12-15', end='2022-03-15', freq='2D')"
   ]
  },
  {
   "cell_type": "code",
   "execution_count": 3,
   "metadata": {},
   "outputs": [
    {
     "data": {
      "text/plain": [
       "DatetimeIndex(['2021-04-01', '2021-04-02', '2021-04-05', '2021-04-06',\n",
       "               '2021-04-07', '2021-04-08', '2021-04-09', '2021-04-12',\n",
       "               '2021-04-13', '2021-04-14', '2021-04-15', '2021-04-16',\n",
       "               '2021-04-19', '2021-04-20', '2021-04-21', '2021-04-22',\n",
       "               '2021-04-23', '2021-04-26', '2021-04-27', '2021-04-28',\n",
       "               '2021-04-29', '2021-04-30', '2021-05-03', '2021-05-04',\n",
       "               '2021-05-05', '2021-05-06', '2021-05-07', '2021-05-10',\n",
       "               '2021-05-11', '2021-05-12', '2021-05-13', '2021-05-14'],\n",
       "              dtype='datetime64[ns]', freq='B')"
      ]
     },
     "execution_count": 3,
     "metadata": {},
     "output_type": "execute_result"
    }
   ],
   "source": [
    "pd.date_range(start='2021-04-01', end='2021-05-15', freq='B')     # business day frequency"
   ]
  },
  {
   "cell_type": "code",
   "execution_count": 4,
   "metadata": {},
   "outputs": [
    {
     "data": {
      "text/plain": [
       "DatetimeIndex(['2020-12-31', '2021-01-31', '2021-02-28'], dtype='datetime64[ns]', freq='M')"
      ]
     },
     "execution_count": 4,
     "metadata": {},
     "output_type": "execute_result"
    }
   ],
   "source": [
    "pd.date_range(start='2020-12-15', end='2021-03-15', freq='M')     # month end frequency"
   ]
  },
  {
   "cell_type": "code",
   "execution_count": 5,
   "metadata": {},
   "outputs": [
    {
     "data": {
      "text/plain": [
       "DatetimeIndex(['2021-01-01', '2021-02-01', '2021-03-01'], dtype='datetime64[ns]', freq='MS')"
      ]
     },
     "execution_count": 5,
     "metadata": {},
     "output_type": "execute_result"
    }
   ],
   "source": [
    "pd.date_range(start='2020-12-15', end='2021-03-15', freq='MS')    # month start frequency"
   ]
  },
  {
   "cell_type": "markdown",
   "metadata": {},
   "source": [
    "#### <font color=#0000FF>(2) closed 參數控制是否包含起、迄</font>\n",
    "- closed = None : 包含起、迄\n",
    "- closed = 'left' : 包含起、不包含迄\n",
    "- closed = 'right' : 不包含起、包含迄"
   ]
  },
  {
   "cell_type": "code",
   "execution_count": 7,
   "metadata": {},
   "outputs": [
    {
     "data": {
      "text/plain": [
       "DatetimeIndex(['2020-12-15', '2020-12-16', '2020-12-17', '2020-12-18',\n",
       "               '2020-12-19', '2020-12-20', '2020-12-21', '2020-12-22',\n",
       "               '2020-12-23', '2020-12-24', '2020-12-25', '2020-12-26',\n",
       "               '2020-12-27', '2020-12-28', '2020-12-29', '2020-12-30',\n",
       "               '2020-12-31', '2021-01-01', '2021-01-02', '2021-01-03',\n",
       "               '2021-01-04', '2021-01-05', '2021-01-06', '2021-01-07',\n",
       "               '2021-01-08', '2021-01-09', '2021-01-10', '2021-01-11',\n",
       "               '2021-01-12', '2021-01-13', '2021-01-14', '2021-01-15'],\n",
       "              dtype='datetime64[ns]', freq='D')"
      ]
     },
     "execution_count": 7,
     "metadata": {},
     "output_type": "execute_result"
    }
   ],
   "source": [
    "pd.date_range(start='2020-12-15', end='2021-01-15', freq='1D',closed=None)"
   ]
  },
  {
   "cell_type": "code",
   "execution_count": 8,
   "metadata": {},
   "outputs": [
    {
     "data": {
      "text/plain": [
       "DatetimeIndex(['2020-12-15', '2020-12-16', '2020-12-17', '2020-12-18',\n",
       "               '2020-12-19', '2020-12-20', '2020-12-21', '2020-12-22',\n",
       "               '2020-12-23', '2020-12-24', '2020-12-25', '2020-12-26',\n",
       "               '2020-12-27', '2020-12-28', '2020-12-29', '2020-12-30',\n",
       "               '2020-12-31', '2021-01-01', '2021-01-02', '2021-01-03',\n",
       "               '2021-01-04', '2021-01-05', '2021-01-06', '2021-01-07',\n",
       "               '2021-01-08', '2021-01-09', '2021-01-10', '2021-01-11',\n",
       "               '2021-01-12', '2021-01-13', '2021-01-14'],\n",
       "              dtype='datetime64[ns]', freq='D')"
      ]
     },
     "execution_count": 8,
     "metadata": {},
     "output_type": "execute_result"
    }
   ],
   "source": [
    "pd.date_range(start='2020-12-15', end='2021-01-15', freq='1D',closed='left')"
   ]
  },
  {
   "cell_type": "code",
   "execution_count": 9,
   "metadata": {},
   "outputs": [
    {
     "data": {
      "text/plain": [
       "DatetimeIndex(['2020-12-16', '2020-12-17', '2020-12-18', '2020-12-19',\n",
       "               '2020-12-20', '2020-12-21', '2020-12-22', '2020-12-23',\n",
       "               '2020-12-24', '2020-12-25', '2020-12-26', '2020-12-27',\n",
       "               '2020-12-28', '2020-12-29', '2020-12-30', '2020-12-31',\n",
       "               '2021-01-01', '2021-01-02', '2021-01-03', '2021-01-04',\n",
       "               '2021-01-05', '2021-01-06', '2021-01-07', '2021-01-08',\n",
       "               '2021-01-09', '2021-01-10', '2021-01-11', '2021-01-12',\n",
       "               '2021-01-13', '2021-01-14', '2021-01-15'],\n",
       "              dtype='datetime64[ns]', freq='D')"
      ]
     },
     "execution_count": 9,
     "metadata": {},
     "output_type": "execute_result"
    }
   ],
   "source": [
    "pd.date_range(start='2020-12-15', end='2021-01-15', freq='1D',closed='right')"
   ]
  },
  {
   "cell_type": "markdown",
   "metadata": {},
   "source": [
    "#### <font color=#0000FF>(3) 給定 起(start)日期 或(且) 迄日期(end)，來取得幾個日期(periods)</font>\n",
    "- [Offset Aliases](https://pandas.pydata.org/pandas-docs/stable/user_guide/timeseries.html#timeseries-offset-aliases)</font>\n",
    "- start / end 的設定方式\n",
    "    - 只給 start : 往未來日期取\n",
    "    - 只給 end : 往過去日期取\n",
    "    - 同時給 start, end : 在start與end之間取等距個periods個日期"
   ]
  },
  {
   "cell_type": "code",
   "execution_count": 10,
   "metadata": {},
   "outputs": [
    {
     "data": {
      "text/plain": [
       "DatetimeIndex(['2021-12-31', '2022-01-31', '2022-02-28', '2022-03-31',\n",
       "               '2022-04-30', '2022-05-31', '2022-06-30', '2022-07-31'],\n",
       "              dtype='datetime64[ns]', freq='M')"
      ]
     },
     "execution_count": 10,
     "metadata": {},
     "output_type": "execute_result"
    }
   ],
   "source": [
    "pd.date_range(start='2021-12-15', periods=8, freq='M',closed=None)"
   ]
  },
  {
   "cell_type": "code",
   "execution_count": 11,
   "metadata": {},
   "outputs": [
    {
     "data": {
      "text/plain": [
       "DatetimeIndex(['2021-04-30', '2021-05-31', '2021-06-30', '2021-07-31',\n",
       "               '2021-08-31', '2021-09-30', '2021-10-31', '2021-11-30'],\n",
       "              dtype='datetime64[ns]', freq='M')"
      ]
     },
     "execution_count": 11,
     "metadata": {},
     "output_type": "execute_result"
    }
   ],
   "source": [
    "pd.date_range(end='2021-12-15', periods=8, freq='M',closed=None)"
   ]
  },
  {
   "cell_type": "code",
   "execution_count": 12,
   "metadata": {},
   "outputs": [
    {
     "data": {
      "text/plain": [
       "DatetimeIndex([          '2021-12-15 00:00:00',\n",
       "               '2022-01-03 10:17:08.571428571',\n",
       "               '2022-01-22 20:34:17.142857143',\n",
       "               '2022-02-11 06:51:25.714285714',\n",
       "               '2022-03-02 17:08:34.285714286',\n",
       "               '2022-03-22 03:25:42.857142858',\n",
       "               '2022-04-10 13:42:51.428571428',\n",
       "                         '2022-04-30 00:00:00'],\n",
       "              dtype='datetime64[ns]', freq=None)"
      ]
     },
     "execution_count": 12,
     "metadata": {},
     "output_type": "execute_result"
    }
   ],
   "source": [
    "pd.date_range(start='2021-12-15', end='2022-04-30', periods=8, closed=None)"
   ]
  },
  {
   "cell_type": "markdown",
   "metadata": {},
   "source": [
    "### <font color=#0000FF>第三次作業(2021-04-20)</font>\n",
    "請設定一個起、迄日期(例如 : 2020-12-15 ~ 2021-01-15 將以下 1. 的檔案下載至 C:\\temp，下載時要將相對應的檔案儲存至相對應的目錄，例如 C:\\temp\\2020\\12\\2020-12-15.csv.gz，如果相對應的目錄不存在，程式要自動建立，不可使用手動建立。並自己想辦法將下載的檔案解壓縮，當然不可以使用人工進行解壓縮，下載方式可以參考 2. 的網址。\n",
    "1. [CRAN package download logs](http://cran-logs.rstudio.com/)\n",
    "2. [Using the urllib.request Module](https://stackabuse.com/download-files-with-python/)\n",
    "\n",
    "【說明】\n",
    "1. 下載的函數名稱 downloadFiles(srcURL, destPath, datesList)\n",
    "2. 解壓縮的函數名稱 zipFiles(path)"
   ]
  },
  {
   "cell_type": "code",
   "execution_count": null,
   "metadata": {},
   "outputs": [],
   "source": [
    "import urllib.request, os\n",
    "for adate in pd.date_range(start=\"2020-12-15\", end = \"2021-01-15\", freq = \"D\"):\n",
    "    if not os.path.exists(r\"C:\\temp\\{}\\{}\".format(str(adate)[:4],str(adate)[5:7])):\n",
    "        os.makedirs(r\"C:\\temp\\{}\\{}\".format(str(adate)[:4],str(adate)[5:7]))\n",
    "    urllib.request.urlretrieve(\"http://cran-logs.rstudio.com/{}/{}.csv.gz\".format(str(adate)[:4],str(adate)[:10]), \\\n",
    "                               r\"C:\\temp\\{}\\{}\\{}.csv.gz\".format(str(adate)[:4],str(adate)[5:7],str(adate)[:10]))"
   ]
  },
  {
   "cell_type": "code",
   "execution_count": null,
   "metadata": {},
   "outputs": [],
   "source": []
  }
 ],
 "metadata": {
  "kernelspec": {
   "display_name": "Python 3",
   "language": "python",
   "name": "python3"
  },
  "language_info": {
   "codemirror_mode": {
    "name": "ipython",
    "version": 3
   },
   "file_extension": ".py",
   "mimetype": "text/x-python",
   "name": "python",
   "nbconvert_exporter": "python",
   "pygments_lexer": "ipython3",
   "version": "3.8.5"
  }
 },
 "nbformat": 4,
 "nbformat_minor": 2
}
