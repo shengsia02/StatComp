{
 "cells": [
  {
   "cell_type": "markdown",
   "metadata": {},
   "source": [
    "【臺北大學】Python程式設計<br>\n",
    "【授課老師】[陳祥輝 (Email : HsiangHui.Chen@gmail.com)](mailto:HsiangHui.Chen@gmail.com)<br>\n",
    "【facebook】[陳祥輝老師的臉書 (歡迎加好友)](https://goo.gl/osivhx)<br>\n",
    "【參考書籍】[從零開始學Python程式設計（適用Python 3.5以上）](http://www.drmaster.com.tw/Bookinfo.asp?BookID=MP31821)<br>\n",
    "【主要議題】讀、寫檔案與匯入、匯出資料檔案"
   ]
  },
  {
   "cell_type": "markdown",
   "metadata": {},
   "source": [
    "【重點提要】\n",
    "1. os module\n",
    "2. glob module\n",
    "3. 基本的純文字檔open/read/write/close\n",
    "4. 序列檔案的讀、寫 pickle\n",
    "5. 匯入/匯出 csv 檔案格式\n",
    "    * 使用 pandas module，讀入 DataFrame\n",
    "6. 匯入/匯出 excel 檔案格式 (使用 pandas & csv module)"
   ]
  },
  {
   "cell_type": "markdown",
   "metadata": {},
   "source": [
    "## <font color=#0000FF>ODBC的下載與安裝</font>\n",
    "* [下載 ODBC Driver for SQL Server](https://docs.microsoft.com/zh-tw/sql/connect/odbc/download-odbc-driver-for-sql-server?view=sql-server-2017)\n",
    "* [Microsoft® ODBC Driver 17 for SQL Server® - Windows, Linux, & macOS](https://www.microsoft.com/en-us/download/details.aspx?id=56567)\n",
    "\n",
    "## <font color=#0000FF>安裝pymssql</font>\n",
    "* pip install pymssql"
   ]
  },
  {
   "cell_type": "code",
   "execution_count": 1,
   "metadata": {},
   "outputs": [
    {
     "name": "stdout",
     "output_type": "stream",
     "text": [
      "【日期時間】2021/04/20 13:36:56\n",
      "【工作目錄】C:\\Users\\NTPU Computer Center\\Desktop\n",
      "【主機名稱】1MF08-06 (10.137.110.6)\n",
      "【Python】3.8.5\n"
     ]
    },
    {
     "data": {
      "application/javascript": "IPython.notebook.set_autosave_interval(120000)"
     },
     "metadata": {},
     "output_type": "display_data"
    },
    {
     "name": "stdout",
     "output_type": "stream",
     "text": [
      "Autosaving every 120 seconds\n"
     ]
    }
   ],
   "source": [
    "# -*- coding: utf-8 -*-\n",
    "from platform import python_version\n",
    "import os, time, glob, pickle, joblib, socket\n",
    "import pandas as pd\n",
    "\n",
    "print(\"【日期時間】{}\".format(time.strftime(\"%Y/%m/%d %H:%M:%S\")))\n",
    "print(\"【工作目錄】{}\".format(os.getcwd()))\n",
    "print(\"【主機名稱】{} ({})\".format(socket.gethostname(),socket.gethostbyname(socket.gethostname())))\n",
    "print(\"【Python】{}\".format(python_version()))\n",
    "\n",
    "%autosave 120"
   ]
  },
  {
   "cell_type": "code",
   "execution_count": 2,
   "metadata": {},
   "outputs": [
    {
     "name": "stdout",
     "output_type": "stream",
     "text": [
      "+0800 Tue Tuesday Apr April Tue Apr 20 13:36:56 2021 01 PM\n"
     ]
    }
   ],
   "source": [
    "print(time.strftime('%z %a %A %b %B %c %I %p'))"
   ]
  },
  {
   "cell_type": "markdown",
   "metadata": {},
   "source": [
    "### time.strftime()\n",
    "* %Y : Year with century as a decimal number.\n",
    "* %m : Month as a decimal number [01,12].\n",
    "* %d : Day of the month as a decimal number [01,31].\n",
    "* %H : Hour (24-hour clock) as a decimal number [00,23].\n",
    "* %M : Minute as a decimal number [00,59].\n",
    "* %S : Second as a decimal number [00,61].\n",
    "---\n",
    "* %z : Time zone offset from UTC.\n",
    "* %a : Locale's abbreviated weekday name.\n",
    "* %A : Locale's full weekday name.\n",
    "* %b : Locale's abbreviated month name.\n",
    "* %B : Locale's full month name.\n",
    "* %c : Locale's appropriate date and time representation.\n",
    "* %I : Hour (12-hour clock) as a decimal number [01,12].\n",
    "* %p : Locale's equivalent of either AM or PM."
   ]
  },
  {
   "cell_type": "markdown",
   "metadata": {},
   "source": [
    "## <font color=#0000FF>os 模組</font>\n",
    "* os.getcwd()：取得目前路徑\n",
    "* os.chdir(path)：切換路徑\n",
    "* os.path.exists(path)：查詢是否存在\n",
    "* os.mkdir(path)：建立目錄，一次只能建立一層\n",
    "* os.makedirs(name)：建立目錄，一次可以建立多層\n",
    "* os.remove(path)：移除檔案\n",
    "* os.removedirs()：移除目錄，一次可以移除多層"
   ]
  },
  {
   "cell_type": "code",
   "execution_count": 3,
   "metadata": {
    "jupyter": {
     "outputs_hidden": true
    }
   },
   "outputs": [],
   "source": [
    "import os"
   ]
  },
  {
   "cell_type": "code",
   "execution_count": 4,
   "metadata": {
    "jupyter": {
     "outputs_hidden": true
    }
   },
   "outputs": [
    {
     "name": "stdout",
     "output_type": "stream",
     "text": [
      "C:\\Users\\NTPU Computer Center\\Desktop\n"
     ]
    }
   ],
   "source": [
    "print(os.getcwd())"
   ]
  },
  {
   "cell_type": "markdown",
   "metadata": {},
   "source": [
    "### <font color=blue>字串的 prefix - 前綴 字元</font>\n",
    "- r : raw string，此字串的字元都沒有其他意思，不包含任何特殊符號\n",
    "- b : bytes\n",
    "- u : unicode\n",
    "- f : format"
   ]
  },
  {
   "cell_type": "markdown",
   "metadata": {},
   "source": [
    "### os.chdir()：切換路徑，三種方式\n",
    "- \\\\\\：\\ 通常是跳脫成字元\n",
    "- /：使用正斜線\n",
    "- r：在路徑字串前加上r，告訴python此字串為raw string，切記最後一個字不能為\\"
   ]
  },
  {
   "cell_type": "code",
   "execution_count": 5,
   "metadata": {},
   "outputs": [
    {
     "name": "stdout",
     "output_type": "stream",
     "text": [
      "C:\\PyData\n"
     ]
    }
   ],
   "source": [
    "os.chdir('C:\\\\PyData')         # \\ : 跳脫字元\n",
    "print(os.getcwd())"
   ]
  },
  {
   "cell_type": "code",
   "execution_count": 6,
   "metadata": {},
   "outputs": [
    {
     "name": "stdout",
     "output_type": "stream",
     "text": [
      "C:\\PyImages\n"
     ]
    }
   ],
   "source": [
    "os.chdir('C:/PyImages')\n",
    "print(os.getcwd())"
   ]
  },
  {
   "cell_type": "code",
   "execution_count": 7,
   "metadata": {},
   "outputs": [
    {
     "name": "stdout",
     "output_type": "stream",
     "text": [
      "C:\\PyFruits-360\n"
     ]
    }
   ],
   "source": [
    "os.chdir(r'C:\\PyFruits-360')         # r : raw string , 使用此方法時，最後一個字不可以為 \\\n",
    "print(os.getcwd())"
   ]
  },
  {
   "cell_type": "markdown",
   "metadata": {},
   "source": [
    "### os.mkdir() 和 os.makedirs()\n",
    "* os.mkdir(path)：建立目錄，一次只能建立一層\n",
    "* os.makedirs(name)：建立目錄，一次可以建立多層"
   ]
  },
  {
   "cell_type": "code",
   "execution_count": 8,
   "metadata": {},
   "outputs": [
    {
     "ename": "FileNotFoundError",
     "evalue": "[WinError 3] 系統找不到指定的路徑。: 'c:\\\\temp\\\\A\\\\B\\\\C'",
     "output_type": "error",
     "traceback": [
      "\u001b[1;31m---------------------------------------------------------------------------\u001b[0m",
      "\u001b[1;31mFileNotFoundError\u001b[0m                         Traceback (most recent call last)",
      "\u001b[1;32m<ipython-input-8-f8955b340e06>\u001b[0m in \u001b[0;36m<module>\u001b[1;34m\u001b[0m\n\u001b[1;32m----> 1\u001b[1;33m \u001b[0mos\u001b[0m\u001b[1;33m.\u001b[0m\u001b[0mmkdir\u001b[0m\u001b[1;33m(\u001b[0m\u001b[1;34mr'c:\\temp\\A\\B\\C'\u001b[0m\u001b[1;33m)\u001b[0m\u001b[1;33m\u001b[0m\u001b[1;33m\u001b[0m\u001b[0m\n\u001b[0m",
      "\u001b[1;31mFileNotFoundError\u001b[0m: [WinError 3] 系統找不到指定的路徑。: 'c:\\\\temp\\\\A\\\\B\\\\C'"
     ]
    }
   ],
   "source": [
    "os.mkdir(r'c:\\temp\\A\\B\\C') "
   ]
  },
  {
   "cell_type": "code",
   "execution_count": null,
   "metadata": {},
   "outputs": [],
   "source": [
    "os.mkdir(r'c:\\temp\\A') "
   ]
  },
  {
   "cell_type": "code",
   "execution_count": null,
   "metadata": {},
   "outputs": [],
   "source": [
    "os.makedirs(r'c:\\temp\\A\\B\\C\\D\\E')"
   ]
  },
  {
   "cell_type": "markdown",
   "metadata": {},
   "source": [
    "### os.remove() 和 os.removedirs()\n",
    "* os.remove(path)：移除檔案\n",
    "* os.rmdir()：移除目錄，一次移除一層\n",
    "* os.removedirs()：移除目錄，一次可以移除多層"
   ]
  },
  {
   "cell_type": "code",
   "execution_count": null,
   "metadata": {},
   "outputs": [],
   "source": [
    "os.remove(r'C:\\PyImages\\水果\\水果12.jpg')"
   ]
  },
  {
   "cell_type": "code",
   "execution_count": null,
   "metadata": {},
   "outputs": [],
   "source": [
    "os.rmdir(r'C:\\temp\\A\\B\\C\\D\\E')"
   ]
  },
  {
   "cell_type": "code",
   "execution_count": null,
   "metadata": {},
   "outputs": [],
   "source": [
    "os.removedirs(r'C:\\temp\\A\\B\\C\\D\\E')"
   ]
  },
  {
   "cell_type": "markdown",
   "metadata": {},
   "source": [
    "#### 實驗：如果只是要刪除C底下的所有目錄"
   ]
  },
  {
   "cell_type": "code",
   "execution_count": null,
   "metadata": {},
   "outputs": [],
   "source": [
    "os.makedirs(r'c:\\temp\\A\\B\\C\\D\\E') "
   ]
  },
  {
   "cell_type": "code",
   "execution_count": null,
   "metadata": {},
   "outputs": [],
   "source": [
    "os.chdir(r'c:\\temp\\A\\B')\n",
    "os.removedirs(r'C\\D\\E')\n",
    "os.chdir('c:/')"
   ]
  },
  {
   "cell_type": "markdown",
   "metadata": {},
   "source": [
    "## <font color=#0000FF>glob 模組 — Unix style pathname pattern expansion</font>\n",
    "* glob.glob(pathname, *, recursive=False)\n",
    "    * If recursive is true, the pattern '**' will match any files and zero or more directories and subdirectories.\n",
    "    \n",
    "用來抓檔案路徑的"
   ]
  },
  {
   "cell_type": "code",
   "execution_count": null,
   "metadata": {},
   "outputs": [],
   "source": [
    "import glob"
   ]
  },
  {
   "cell_type": "code",
   "execution_count": null,
   "metadata": {
    "jupyter": {
     "outputs_hidden": true
    }
   },
   "outputs": [],
   "source": [
    "path = r'C:\\PyFruits-360\\Validation'\n",
    "fnames = glob.glob(path + r'\\**\\*.jpg', recursive=True)  #recursive是遞迴，就是第一個子目錄下面所有的目錄也都會做，然後再跑第二個子目錄\n",
    "print(len(fnames))\n",
    "print(fnames[10])"
   ]
  },
  {
   "cell_type": "code",
   "execution_count": null,
   "metadata": {},
   "outputs": [],
   "source": [
    "for fname in fnames :\n",
    "    os.remove(fname)"
   ]
  },
  {
   "cell_type": "code",
   "execution_count": null,
   "metadata": {},
   "outputs": [],
   "source": [
    "def getFileNames(path, fileType) :\n",
    "    return glob.glob(path + r'\\**\\*.{}'.format(fileType), recursive=True)"
   ]
  },
  {
   "cell_type": "code",
   "execution_count": null,
   "metadata": {},
   "outputs": [],
   "source": [
    "fnames = getFileNames(r'C:\\Users\\NTPU Computer Center\\Desktop\\PyFruits-360', 'jpg')\n",
    "print(len(fnames))"
   ]
  },
  {
   "cell_type": "markdown",
   "metadata": {},
   "source": [
    "## <font color=blue>基本的編碼(encode)、與解碼(decode)</font>\n",
    "\n",
    "- Encode and Decode\n",
    "    * str -> encode -> bytes\n",
    "    * str <- decode <- bytes\n",
    "- 常見的編碼\n",
    "    * cp950 : Code Page 950, ASCII, Big-5, ms950\n",
    "    * utf-8 : UTF-8\n",
    "    * utf-8-sig : UTF-8-BOM\n",
    "- [Python Standard Encodings](https://docs.python.org/2.4/lib/standard-encodings.html)"
   ]
  },
  {
   "cell_type": "markdown",
   "metadata": {},
   "source": [
    "### 編碼encode"
   ]
  },
  {
   "cell_type": "code",
   "execution_count": null,
   "metadata": {},
   "outputs": [],
   "source": [
    "msg = u'這是Python課程'            # u : unicode\n",
    "print(msg.encode(encoding='cp950'))      # code page : 碼頁\n",
    "print(msg.encode(encoding='utf-8'))\n",
    "print(msg.encode(encoding='utf-8-sig'))"
   ]
  },
  {
   "cell_type": "markdown",
   "metadata": {},
   "source": [
    "### 解碼decode\n",
    "切記用什麼編碼，就要用什麼解碼"
   ]
  },
  {
   "cell_type": "code",
   "execution_count": null,
   "metadata": {},
   "outputs": [],
   "source": [
    "msg = u'這是Python課程'\n",
    "bytes_ = msg.encode(encoding='cp950')\n",
    "print(bytes_)\n",
    "print(bytes_.decode(encoding='cp950'))"
   ]
  },
  {
   "cell_type": "markdown",
   "metadata": {},
   "source": [
    "## <font color=#0000FF>基本的純文字檔open/read/write/close</font>\n",
    "<pre>\n",
    "========= ===========================================================================================\n",
    "Character Meaning\n",
    "--------- -------------------------------------------------------------------------------------------\n",
    "'r'       open for reading (default)\n",
    "'w'       open for writing, truncating the file first，會刪掉原本的檔再寫入\n",
    "'a'       open for writing, appending to the end of the file if it exists，直接增加並不會刪掉原本的檔案\n",
    "'+'       open a disk file for updating (reading and writing)\n",
    "---------\n",
    "'t'       text mode (default)\n",
    "'b'       binary mode\n",
    "---------\n",
    "'x'       create a new file and open it for writing\n",
    "'U'       universal newline mode (deprecated)\n",
    "========= ============================================================================================\n",
    "</pre>"
   ]
  },
  {
   "cell_type": "markdown",
   "metadata": {},
   "source": [
    "### <font color=blue>第一種寫法</font>\n",
    "執行完程式可以看一下檔案"
   ]
  },
  {
   "cell_type": "markdown",
   "metadata": {},
   "source": [
    "#### mode = 'wt'"
   ]
  },
  {
   "cell_type": "code",
   "execution_count": null,
   "metadata": {},
   "outputs": [],
   "source": [
    "path = r'c:\\temp'\n",
    "if not os.path.exists(path) :\n",
    "    os.mkdir(path)\n",
    "\n",
    "outf = open(path + r'\\outf.txt', mode='wt', encoding='utf-8')\n",
    "print(outf.writable())\n",
    "\n",
    "outf.write('哈囉!! 人生苦短，我愛用Python001\\n')\n",
    "outf.write('Hello Python001\\n')\n",
    "outf.write('Hello Python001\\n')\n",
    "\n",
    "outf.close()"
   ]
  },
  {
   "cell_type": "markdown",
   "metadata": {},
   "source": [
    "#### mode = 'at'"
   ]
  },
  {
   "cell_type": "code",
   "execution_count": null,
   "metadata": {},
   "outputs": [],
   "source": [
    "path = r'c:\\temp'\n",
    "if not os.path.exists(path) :\n",
    "    os.mkdir(path)\n",
    "\n",
    "outf = open(path + r'\\outf.txt', mode='at', encoding='utf-8')\n",
    "print(outf.writable())\n",
    "\n",
    "outf.write('哈囉!! 人生苦短，我愛用Python002\\n')\n",
    "outf.write('Hello Python002\\n')\n",
    "outf.write('Hello Python002\\n')\n",
    "\n",
    "outf.close()"
   ]
  },
  {
   "cell_type": "markdown",
   "metadata": {},
   "source": [
    "#### flush()：強迫將 buffer 寫入 disk"
   ]
  },
  {
   "cell_type": "code",
   "execution_count": null,
   "metadata": {},
   "outputs": [],
   "source": [
    "path = r'c:\\temp'\n",
    "if not os.path.exists(path) :\n",
    "    os.mkdir(path)\n",
    "\n",
    "outf = open(path + r'\\outf.txt', mode='at', encoding='utf-8')\n",
    "print(outf.writable())\n",
    "\n",
    "outf.write('哈囉!! 人生苦短，我愛用Python003\\n')\n",
    "outf.write('Hello Python003\\n')\n",
    "outf.write('Hello Python003\\n')\n",
    "outf.flush()                           #強迫將 buffer 寫入 disk\n",
    "\n",
    "outf.close()"
   ]
  },
  {
   "cell_type": "markdown",
   "metadata": {},
   "source": [
    "#### writelines(list)：寫入多行資料"
   ]
  },
  {
   "cell_type": "code",
   "execution_count": null,
   "metadata": {},
   "outputs": [],
   "source": [
    "path = r'c:\\temp'\n",
    "content = ['哈囉!! 人生苦短，我愛用Python005\\n', '哈囉!! 人生苦短，我愛用Python005\\n', '哈囉!! 人生苦短，我愛用Python001\\n', '哈囉!! 人生苦短，我愛用Python002\\n', '哈囉!! 人生苦短，我愛用Python005\\n', '哈囉!! 人生苦短，我愛用Python005\\n', '哈囉!! 人生苦短，我愛用Python005\\n', '哈囉!! 人生苦短，我愛用Python005\\n', '哈囉!! 人生苦短，我愛用Python005\\n']    \n",
    "    \n",
    "outf = open(path + r'\\outf.txt', mode='at', encoding='utf-8')\n",
    "outf.writelines(content)\n",
    "outf.close()"
   ]
  },
  {
   "cell_type": "markdown",
   "metadata": {},
   "source": [
    "#### mode = 'rt'\n",
    "- BOF：begin of file\n",
    "- EOF：end of file"
   ]
  },
  {
   "cell_type": "markdown",
   "metadata": {},
   "source": [
    "#### 有關read的函式\n",
    "- readable()：是否可以讀取，回傳True／False\n",
    "- readline()：回傳一行的 str （只有一行）\n",
    "- readlines()：回傳list\n",
    "- read()：回傳str（所有文字）"
   ]
  },
  {
   "cell_type": "code",
   "execution_count": null,
   "metadata": {},
   "outputs": [],
   "source": [
    "path = r'c:\\temp'\n",
    "inpf = open(path + r'\\outf.txt', mode='rt', encoding='utf-8')\n",
    "\n",
    "print(inpf.readable())\n",
    "msg = inpf.readline()\n",
    "while msg != '' :\n",
    "    print(msg, end='')\n",
    "    msg = inpf.readline()\n",
    "inpf.close()"
   ]
  },
  {
   "cell_type": "code",
   "execution_count": null,
   "metadata": {},
   "outputs": [],
   "source": [
    "path = r'c:\\temp'\n",
    "inpf = open(path + r'\\outf.txt', mode='rt', encoding='utf-8')\n",
    "\n",
    "lst = inpf.readlines()   # 回傳一個 list\n",
    "print(type(lst))\n",
    "print(lst)\n",
    "lst = [w.replace('\\n','') for w in lst]\n",
    "print(lst)\n",
    "\n",
    "inpf.close()"
   ]
  },
  {
   "cell_type": "code",
   "execution_count": null,
   "metadata": {},
   "outputs": [],
   "source": [
    "path = r'c:\\temp'\n",
    "inpf = open(path + r'\\outf.txt', mode='rt', encoding='utf-8')\n",
    "\n",
    "lst = inpf.read()    # 回傳一個 str\n",
    "print(lst)\n",
    "\n",
    "inpf.close()"
   ]
  },
  {
   "cell_type": "markdown",
   "metadata": {},
   "source": [
    "### <font color=blue>第二種寫法：with , 不需要人工 close</font>"
   ]
  },
  {
   "cell_type": "markdown",
   "metadata": {},
   "source": [
    "#### 寫檔"
   ]
  },
  {
   "cell_type": "code",
   "execution_count": null,
   "metadata": {},
   "outputs": [],
   "source": [
    "path = r'c:\\temp'\n",
    "\n",
    "with open(path + r'\\outf.txt', mode='at', encoding='utf-8') as outf :\n",
    "    print(outf.writable())\n",
    "\n",
    "    outf.write('哈囉!! 人生苦短，我愛用Python002\\n')\n",
    "    outf.write('Hello Python002\\n')\n",
    "    outf.write('Hello Python002\\n')"
   ]
  },
  {
   "cell_type": "markdown",
   "metadata": {},
   "source": [
    "#### 讀檔"
   ]
  },
  {
   "cell_type": "code",
   "execution_count": null,
   "metadata": {},
   "outputs": [],
   "source": [
    "path = r'c:\\temp'\n",
    "with open(path + r'\\outf.txt', mode='rt', encoding='utf-8') as inpf :\n",
    "    lst = inpf.read()    # 回傳一個 str\n",
    "    print(lst)"
   ]
  },
  {
   "cell_type": "markdown",
   "metadata": {},
   "source": [
    "### <font color=blue>第三種寫法：物件導向的寫法</font>"
   ]
  },
  {
   "cell_type": "code",
   "execution_count": null,
   "metadata": {},
   "outputs": [],
   "source": [
    "path = r'c:\\temp'\n",
    "msg = open(path + r'\\outf.txt', mode='rt', encoding='utf-8') \\\n",
    "      .read() \\\n",
    "      .replace(\"\\n\",\"\")\n",
    "print(msg)\n"
   ]
  },
  {
   "cell_type": "markdown",
   "metadata": {},
   "source": [
    "## <font color=#0000FF>序列檔案(二進位檔案)的讀、寫 pickle joblib</font>\n",
    "- 有pickel和joblib兩種存檔方式\n",
    "- 只要是物件都匯存成二進位檔\n",
    "- 可以用來儲存訓練完成的模型..."
   ]
  },
  {
   "cell_type": "code",
   "execution_count": null,
   "metadata": {},
   "outputs": [],
   "source": [
    "import pickle, joblib"
   ]
  },
  {
   "cell_type": "markdown",
   "metadata": {},
   "source": [
    "#### pickle : 較低階，要先open檔案才可進行存取或讀取\n",
    "- .dump(物件, 路徑)：將物件存出去\n",
    "- .load(路徑)：讀取資料，回傳list"
   ]
  },
  {
   "cell_type": "code",
   "execution_count": null,
   "metadata": {
    "jupyter": {
     "outputs_hidden": true
    },
    "scrolled": true
   },
   "outputs": [],
   "source": [
    "path_ = r'C:\\PyFruits-360\\Training'\n",
    "fnames = glob.glob(path_ + r'\\**\\*.jpg', recursive=True)\n",
    "print(len(fnames))\n",
    "print(fnames[100])\n",
    "print(type(fnames))"
   ]
  },
  {
   "cell_type": "code",
   "execution_count": null,
   "metadata": {},
   "outputs": [],
   "source": [
    "path_ = r'C:\\temp'\n",
    "if not os.path.exists(path_):\n",
    "    os.mkdir(path_)\n",
    "#在這邊 wb 是指 write binaray\n",
    "with open(path_ + '\\outf.pkl', mode = 'wb') as outf:\n",
    "    pickle.dump(fnames, outf)"
   ]
  },
  {
   "cell_type": "code",
   "execution_count": null,
   "metadata": {},
   "outputs": [],
   "source": [
    "del fnames"
   ]
  },
  {
   "cell_type": "code",
   "execution_count": null,
   "metadata": {},
   "outputs": [],
   "source": [
    "#在這邊 rb 是指 read binaray\n",
    "with open(path_ + r'\\out.pkl', mode = 'rb') as inpf:\n",
    "    fnames2 = pickle.load(inpf)"
   ]
  },
  {
   "cell_type": "code",
   "execution_count": null,
   "metadata": {},
   "outputs": [],
   "source": [
    "print(type(fnames2))\n",
    "print(len(fnames2))"
   ]
  },
  {
   "cell_type": "markdown",
   "metadata": {
    "collapsed": true,
    "jupyter": {
     "outputs_hidden": true
    }
   },
   "source": [
    "#### joblib : 較高階，不用先open檔案才可進行存取或讀取\n",
    "- .dump(物件, 路徑)：將物件存出去\n",
    "- .load(路徑)：讀取資料，回傳list"
   ]
  },
  {
   "cell_type": "code",
   "execution_count": null,
   "metadata": {
    "jupyter": {
     "outputs_hidden": true
    }
   },
   "outputs": [],
   "source": [
    "joblib.dump(fnames2, r'c:\\temp\\outf2.job')"
   ]
  },
  {
   "cell_type": "code",
   "execution_count": null,
   "metadata": {},
   "outputs": [],
   "source": [
    "fnames3 = joblib.load(r'c:\\temp\\outf2.job')"
   ]
  },
  {
   "cell_type": "code",
   "execution_count": null,
   "metadata": {},
   "outputs": [],
   "source": [
    "print(type(fnames3))\n",
    "print(len(fnames3))"
   ]
  },
  {
   "cell_type": "markdown",
   "metadata": {},
   "source": [
    "## <font color=#0000FF>匯入/匯出 csv 檔案格式 (使用 pandas module)</font>\n",
    "\n",
    "Signature: <br>\n",
    "pd.read_csv(filepath_or_buffer, sep=',', delimiter=None, header='infer', names=None, index_col=None, usecols=None, squeeze=False, prefix=None, mangle_dupe_cols=True, dtype=None, engine=None, converters=None, true_values=None, false_values=None, skipinitialspace=False, skiprows=None, nrows=None, na_values=None, keep_default_na=True, na_filter=True, verbose=False, skip_blank_lines=True, parse_dates=False, infer_datetime_format=False, keep_date_col=False, date_parser=None, dayfirst=False, iterator=False, chunksize=None, compression='infer', thousands=None, decimal=b'.', lineterminator=None, quotechar='\"', quoting=0, escapechar=None, comment=None, encoding=None, dialect=None, tupleize_cols=False, error_bad_lines=True, warn_bad_lines=True, skipfooter=0, skip_footer=0, doublequote=True, delim_whitespace=False, as_recarray=False, compact_ints=False, use_unsigned=False, low_memory=True, buffer_lines=None, memory_map=False, float_precision=None)"
   ]
  },
  {
   "cell_type": "code",
   "execution_count": null,
   "metadata": {
    "jupyter": {
     "outputs_hidden": true
    }
   },
   "outputs": [],
   "source": [
    "fname = r'C:\\PyData\\AirQty2016-06-01_CP950.csv'\n",
    "airQty = pd.read_csv(fname, sep=',', encoding='cp950', engine='python')\n",
    "print(type(airQty))\n",
    "print(airQty.shape)\n",
    "print(airQty.ndim)\n",
    "print(airQty.columns)\n",
    "print(airQty.dtypes)"
   ]
  },
  {
   "cell_type": "code",
   "execution_count": null,
   "metadata": {
    "jupyter": {
     "outputs_hidden": true
    }
   },
   "outputs": [],
   "source": [
    "fname = r'C:\\PyData\\AirQty2016-06-01_UTF8.csv'\n",
    "airQty_UTF8 = pd.read_csv(fname, sep=',', encoding='UTF-8', engine='python')\n",
    "print(airQty_UTF8.shape)\n",
    "print(airQty_UTF8.columns)\n",
    "print(airQty_UTF8.dtypes)"
   ]
  },
  {
   "cell_type": "code",
   "execution_count": null,
   "metadata": {
    "jupyter": {
     "outputs_hidden": true
    }
   },
   "outputs": [],
   "source": [
    "fname = r'C:\\PyData\\AirQty2016-06-01_UTF8_BOM.csv'\n",
    "airQty_UTF8_BOM = pd.read_csv(fname, sep=',', encoding='utf-8-sig', engine='python')\n",
    "print(airQty_UTF8_BOM.columns)\n",
    "print(airQty_UTF8_BOM.dtypes)"
   ]
  },
  {
   "cell_type": "markdown",
   "metadata": {},
   "source": [
    "## <font color=#0000FF>匯入/匯出 excel 檔案格式</font>\n",
    "\n",
    "Signature: <br>\n",
    "pd.read_excel(io, sheetname=0, header=0, skiprows=None, skip_footer=0, index_col=None, names=None, parse_cols=None, parse_dates=False, date_parser=None, na_values=None, thousands=None, convert_float=True, has_index_names=None, converters=None, dtype=None, true_values=None, false_values=None, engine=None, squeeze=False, **kwds)"
   ]
  },
  {
   "cell_type": "markdown",
   "metadata": {},
   "source": [
    "magic function\n",
    "- line magic : %\n",
    "- cell magic : %%"
   ]
  },
  {
   "cell_type": "code",
   "execution_count": null,
   "metadata": {
    "jupyter": {
     "outputs_hidden": true
    }
   },
   "outputs": [],
   "source": [
    "%time print('Hello Python')"
   ]
  },
  {
   "cell_type": "code",
   "execution_count": null,
   "metadata": {
    "jupyter": {
     "outputs_hidden": true
    }
   },
   "outputs": [],
   "source": [
    "%%time\n",
    "fname = r'C:\\PyData\\rlog2016-06-01.xlsx'\n",
    "rlog = pd.read_excel(fname, sheet_name=0)"
   ]
  },
  {
   "cell_type": "code",
   "execution_count": null,
   "metadata": {},
   "outputs": [],
   "source": [
    "rlog.head(3)"
   ]
  },
  {
   "cell_type": "markdown",
   "metadata": {},
   "source": [
    "## <font color=#0000FF>JSON (<u>J</u>ava<u>S</u>cript <u>O</u>bject <u>N</u>otation，JavaScript物件表示法)</font>\n",
    "- key:value \n",
    "- { } : 物件\n",
    "- \\[ \\] : 陣列，元素之間用 , 隔開"
   ]
  },
  {
   "cell_type": "markdown",
   "metadata": {},
   "source": [
    "【JSON On-Line Parser】\n",
    "- [JSON Editor Online - view, edit and format JSON online](https://jsoneditoronline.org/)\n",
    "- [Best JSON Editor Online - JSON Formatter](https://jsonformatter.org/json-editor)\n",
    "- [Best JSON Viewer and JSON Beautifier Online - Code Beautify](https://codebeautify.org/jsonviewer)\n",
    "- [Json Parser Online](http://jsonparseronline.com/)"
   ]
  },
  {
   "cell_type": "markdown",
   "metadata": {},
   "source": [
    "【參考資料】\n",
    "- [Python JSON](http://www.runoob.com/python/python-json.html)\n",
    "- [requests](https://2.python-requests.org/en/v0.6.2/api/)"
   ]
  },
  {
   "cell_type": "code",
   "execution_count": 1,
   "metadata": {},
   "outputs": [],
   "source": [
    "import requests, json"
   ]
  },
  {
   "cell_type": "code",
   "execution_count": 2,
   "metadata": {},
   "outputs": [],
   "source": [
    "url = 'https://news.ltn.com.tw/ajax/breakingnews/all/3'\n",
    "resp = requests.get(url)\n",
    "# print(resp.text)"
   ]
  },
  {
   "cell_type": "code",
   "execution_count": 3,
   "metadata": {},
   "outputs": [
    {
     "data": {
      "text/plain": [
       "dict"
      ]
     },
     "execution_count": 3,
     "metadata": {},
     "output_type": "execute_result"
    }
   ],
   "source": [
    "type(json.loads(resp.text))"
   ]
  },
  {
   "cell_type": "code",
   "execution_count": 4,
   "metadata": {},
   "outputs": [
    {
     "name": "stdout",
     "output_type": "stream",
     "text": [
      "dict_keys(['code', 'data'])\n"
     ]
    }
   ],
   "source": [
    "news = json.loads(resp.text)\n",
    "print(news.keys())"
   ]
  },
  {
   "cell_type": "code",
   "execution_count": 5,
   "metadata": {
    "scrolled": true
   },
   "outputs": [
    {
     "data": {
      "text/plain": [
       "{'no': '4575740',\n",
       " 'title': '無敵年終！台南小資女刮中頭獎300萬',\n",
       " 'bigphoto_flag': '0',\n",
       " 'photo_S': 'https://img.ltn.com.tw/Upload/business/page/400S/2024/02/08/4575740_1.jpg',\n",
       " 'photo_L': 'https://img.ltn.com.tw/Upload/business/page/800S/2024/02/08/4575740_1.jpg',\n",
       " 'url': 'https://ec.ltn.com.tw/article/breakingnews/4575740',\n",
       " 'time': '12:54',\n",
       " 'type_en': 'business',\n",
       " 'group': 'breakingnews',\n",
       " 'type_cn': '財經',\n",
       " 'local': '',\n",
       " 'summary': '\\n\\n\\n台灣彩券公司表示，台南1位小資女，下班後路過彩券行，她進店後先摸了摸彌勒佛的肚子，並向店員表示最近剛領年終獎金，想要買張刮刮樂來碰碰運氣，希望能幫自己加碼年終獎金，挑選了...',\n",
       " 'video': '',\n",
       " 'width': '1920',\n",
       " 'height': '1440',\n",
       " 'localUrl': '',\n",
       " 'tagUrl': 'list/breakingnews/business',\n",
       " 'style': None,\n",
       " 'tagText': '財經'}"
      ]
     },
     "execution_count": 5,
     "metadata": {},
     "output_type": "execute_result"
    }
   ],
   "source": [
    "news.get('data').get('40')"
   ]
  },
  {
   "cell_type": "code",
   "execution_count": 6,
   "metadata": {},
   "outputs": [
    {
     "data": {
      "text/plain": [
       "dict_keys(['no', 'title', 'bigphoto_flag', 'photo_S', 'photo_L', 'url', 'time', 'type_en', 'group', 'type_cn', 'local', 'summary', 'video', 'width', 'height', 'localUrl', 'tagUrl', 'style', 'tagText'])"
      ]
     },
     "execution_count": 6,
     "metadata": {},
     "output_type": "execute_result"
    }
   ],
   "source": [
    "news.get('data').get('40').keys()"
   ]
  },
  {
   "cell_type": "code",
   "execution_count": 7,
   "metadata": {},
   "outputs": [
    {
     "name": "stdout",
     "output_type": "stream",
     "text": [
      "無敵年終！台南小資女刮中頭獎300萬\n",
      "https://ec.ltn.com.tw/article/breakingnews/4575740\n",
      "\n",
      "\n",
      "\n",
      "台灣彩券公司表示，台南1位小資女，下班後路過彩券行，她進店後先摸了摸彌勒佛的肚子，並向店員表示最近剛領年終獎金，想要買張刮刮樂來碰碰運氣，希望能幫自己加碼年終獎金，挑選了...\n"
     ]
    }
   ],
   "source": [
    "print(news.get('data').get('40').get('title'))\n",
    "print(news.get('data').get('40').get('url'))\n",
    "print(news.get('data').get('40').get('summary'))"
   ]
  },
  {
   "cell_type": "code",
   "execution_count": 26,
   "metadata": {},
   "outputs": [],
   "source": [
    "titles = [news.get('data').get(key).get('title') for key in news.get('data').keys()]\n",
    "df = pd.DataFrame({\"新聞報導\":[news.get('data').get(key).get('title') for key in news.get('data').keys()], \\\n",
    "              \"超連結\":[news.get('data').get(key).get('url') for key in news.get('data').keys()], \\\n",
    "              \"摘要\":[news.get('data').get(key).get('summary').replace(\"\\n\",\"\") for key in news.get('data').keys()]})"
   ]
  },
  {
   "cell_type": "markdown",
   "metadata": {},
   "source": [
    "### 將資料存出"
   ]
  },
  {
   "cell_type": "code",
   "execution_count": 29,
   "metadata": {},
   "outputs": [],
   "source": [
    "df.to_csv(r\"C:\\news_csv.csv\", sep = \",\", index=False)\n",
    "df.to_excel(r\"C:\\news_csv.xlsx\", index=False)"
   ]
  },
  {
   "cell_type": "markdown",
   "metadata": {},
   "source": [
    "<font color=#0000FF>json模組的編碼與解編碼</font>\n",
    "- json.dumps() : 將 Python 物件編碼成 JSON 字串\n",
    "- json.loads() : 將JSON字串，解碼為 Python 物件"
   ]
  },
  {
   "cell_type": "code",
   "execution_count": null,
   "metadata": {},
   "outputs": [],
   "source": []
  },
  {
   "cell_type": "code",
   "execution_count": null,
   "metadata": {},
   "outputs": [],
   "source": []
  },
  {
   "cell_type": "markdown",
   "metadata": {},
   "source": [
    "## <font color=#0000FF>Python 連線 MS SQL SERVER 讀入資料</font>\n",
    "<font color=#0000FF>[使用 pyodbc 模組]</font>\n",
    "* import pyodbc\n",
    "* pyodbc.connect()的連線字串\n",
    "    * 'DSN=DataSourceName;UID=user;PWD=password'\n",
    "    * 'DRIVER={SQL Server Native Client 11.0};SERVER=localhost;DATABASE=testdb;UID=user;PWD=password'\n",
    "\n",
    "<font color=#0000FF>[使用 pymssql 模組]</font>\n",
    "* pip install --upgrade pymssql\n",
    "* import pymssql\n",
    "* pymssql.connect()\n",
    "    * server : 伺服器的位址\n",
    "    * port : 埠號\n",
    "    * user : 使用者帳號\n",
    "    * password : 使用者密碼\n",
    "    * database : 資料庫名稱 "
   ]
  },
  {
   "cell_type": "code",
   "execution_count": null,
   "metadata": {},
   "outputs": [],
   "source": [
    "!pip install --upgrade pymssql"
   ]
  },
  {
   "cell_type": "code",
   "execution_count": null,
   "metadata": {},
   "outputs": [],
   "source": [
    "!pip install --upgrade pyodbc"
   ]
  },
  {
   "cell_type": "markdown",
   "metadata": {},
   "source": [
    "### <font color=#0000FF>使用 pyodbc 模組</font>"
   ]
  },
  {
   "cell_type": "markdown",
   "metadata": {},
   "source": [
    "<pre>\n",
    "【連線字串(1)】必須要事先設定 ODBC 的 DSN (<u>D</u>ata <u>S</u>ource <u>N</u>ame)（使用者資料來源）\n",
    "<font color=#FF0000>conn=pyodbc.connect('DSN=DataSourceName;UID=user;PWD=password')</font>\n",
    "</pre>"
   ]
  },
  {
   "cell_type": "code",
   "execution_count": null,
   "metadata": {},
   "outputs": [],
   "source": [
    "import pyodbc"
   ]
  },
  {
   "cell_type": "code",
   "execution_count": null,
   "metadata": {},
   "outputs": [],
   "source": [
    "conn = pyodbc.connect('DSN=dsnPyDB;UID=student;PWD=studentPy')"
   ]
  },
  {
   "cell_type": "code",
   "execution_count": null,
   "metadata": {},
   "outputs": [],
   "source": [
    "sqlStr = \"\"\"\n",
    "select a.County, a.SiteName, a.NO2, a.O3, a.PM2_5\n",
    "from AirQty as a\n",
    "where a.County in ('新北市', '臺北市', '高雄市')\n",
    "\"\"\"\n",
    "\n",
    "airQty = pd.read_sql(sql=sqlStr, con=conn)\n",
    "airQty.head(3)"
   ]
  },
  {
   "cell_type": "code",
   "execution_count": null,
   "metadata": {},
   "outputs": [],
   "source": [
    "conn.close()"
   ]
  },
  {
   "cell_type": "markdown",
   "metadata": {},
   "source": [
    "<pre>\n",
    "【連線字串(2)】不用事先設定 ODBC 的 DSN (<u>D</u>ata <u>S</u>ource <u>N</u>ame)，直接指定驅動程式的名稱以及相關的連線資訊即可\n",
    "<font color=#FF0000>conn=pyodbc.connect('DRIVER={SQL Server};SERVER=localhost;DATABASE=testdb;UID=user;PWD=password')</font>\n",
    "</pre>"
   ]
  },
  {
   "cell_type": "code",
   "execution_count": null,
   "metadata": {},
   "outputs": [],
   "source": [
    "#DRIVER是使用哪個驅動程式連線\n",
    "conn = pyodbc.connect('DRIVER={SQL Server Native Client 11.0};SERVER=10.137.110.61;'\n",
    "                      'DATABASE=PyDB;UID=student;PWD=studentPy')"
   ]
  },
  {
   "cell_type": "code",
   "execution_count": null,
   "metadata": {},
   "outputs": [],
   "source": [
    "sqlStr = \"\"\"\n",
    "select a.County, a.SiteName, a.NO2, a.O3, a.PM2_5\n",
    "from AirQty as a\n",
    "where a.County in ('新北市', '臺北市', '高雄市')\n",
    "\"\"\"\n",
    "\n",
    "airQty = pd.read_sql(sql=sqlStr, con=conn)\n",
    "airQty.head(3)"
   ]
  },
  {
   "cell_type": "code",
   "execution_count": null,
   "metadata": {},
   "outputs": [],
   "source": [
    "conn.close()"
   ]
  },
  {
   "cell_type": "markdown",
   "metadata": {},
   "source": [
    "### <font color=#0000FF>使用 pymssql 模組</font>"
   ]
  },
  {
   "cell_type": "code",
   "execution_count": null,
   "metadata": {},
   "outputs": [],
   "source": [
    "import pymssql"
   ]
  },
  {
   "cell_type": "code",
   "execution_count": null,
   "metadata": {},
   "outputs": [],
   "source": [
    "conn = pymssql.connect(server = '10.137.110.61', port='1433', database='PyDB', user = 'student', password='studentPy')"
   ]
  },
  {
   "cell_type": "code",
   "execution_count": null,
   "metadata": {},
   "outputs": [],
   "source": [
    "type(conn)"
   ]
  },
  {
   "cell_type": "code",
   "execution_count": null,
   "metadata": {
    "scrolled": false
   },
   "outputs": [],
   "source": [
    "sqlStr = \"\"\"\n",
    "select a.County, a.SiteName, a.NO2, a.O3, a.PM2_5\n",
    "from AirQty as a\n",
    "where a.County in ('新北市', '臺北市', '高雄市')\n",
    "\"\"\"\n",
    "\n",
    "airQty = pd.read_sql(sql=sqlStr, con=conn)\n",
    "airQty.head(3)"
   ]
  },
  {
   "cell_type": "code",
   "execution_count": null,
   "metadata": {},
   "outputs": [],
   "source": [
    "sqlStr = \"\"\"\n",
    "select *\n",
    "from iris\n",
    "\"\"\"\n",
    "\n",
    "iris = pd.read_sql(sql=sqlStr, con=conn)\n",
    "iris.head(3)"
   ]
  },
  {
   "cell_type": "code",
   "execution_count": null,
   "metadata": {},
   "outputs": [],
   "source": [
    "cursor = conn.cursor()\n",
    "iris = "
   ]
  },
  {
   "cell_type": "code",
   "execution_count": null,
   "metadata": {},
   "outputs": [],
   "source": []
  },
  {
   "cell_type": "code",
   "execution_count": null,
   "metadata": {},
   "outputs": [],
   "source": []
  },
  {
   "cell_type": "code",
   "execution_count": null,
   "metadata": {},
   "outputs": [],
   "source": []
  }
 ],
 "metadata": {
  "kernelspec": {
   "display_name": "Python 3",
   "language": "python",
   "name": "python3"
  },
  "language_info": {
   "codemirror_mode": {
    "name": "ipython",
    "version": 3
   },
   "file_extension": ".py",
   "mimetype": "text/x-python",
   "name": "python",
   "nbconvert_exporter": "python",
   "pygments_lexer": "ipython3",
   "version": "3.10.7"
  }
 },
 "nbformat": 4,
 "nbformat_minor": 4
}
